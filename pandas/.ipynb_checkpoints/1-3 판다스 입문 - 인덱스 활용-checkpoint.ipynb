{
 "cells": [
  {
   "cell_type": "markdown",
   "metadata": {},
   "source": [
    "특정 열을 행 인덱스로 설정\n",
    "- 데이터프레임 객체.set_index([\"열 이름\"] 또는 \"열 이름\")\n",
    "- df = 또는 inplace = True 옵션 사용"
   ]
  },
  {
   "cell_type": "code",
   "execution_count": 2,
   "metadata": {},
   "outputs": [
    {
     "name": "stdout",
     "output_type": "stream",
     "text": [
      "   이름  수학  영어   음악   체육\n",
      "0  서준  90  98   85  100\n",
      "1  우현  80  89   95   90\n",
      "2  인아  70  95  100   90\n",
      "\n",
      "\n",
      "    수학  영어   음악   체육\n",
      "이름                  \n",
      "서준  90  98   85  100\n",
      "우현  80  89   95   90\n",
      "인아  70  95  100   90\n",
      "\n",
      "\n",
      "     수학  영어   체육\n",
      "음악              \n",
      "85   90  98  100\n",
      "95   80  89   90\n",
      "100  70  95   90\n",
      "\n",
      "\n",
      "        영어   체육\n",
      "수학 음악          \n",
      "90 85   98  100\n",
      "80 95   89   90\n",
      "70 100  95   90\n"
     ]
    }
   ],
   "source": [
    "#<예제1-16>특정 열을 행 인덱스로 설정\n",
    "\n",
    "import pandas as pd\n",
    "\n",
    "df = pd.DataFrame([[\"서준\",90,98,85,100],\n",
    "                  [\"우현\",80,89,95,90],\n",
    "                  [\"인아\",70,95,100,90]],\n",
    "                 columns = [\"이름\",\"수학\",\"영어\",\"음악\",\"체육\"])\n",
    "print(df)\n",
    "\n",
    "print(\"\\n\")\n",
    "\n",
    "# 이름 열 을 인덱스로 지정\n",
    "\n",
    "df.set_index(\"이름\",inplace = True)\n",
    "print(df)\n",
    "\n",
    "print(\"\\n\")\n",
    "\n",
    "# 음악 열 을 인덱스로 지정\n",
    "\n",
    "ndf = df.set_index(\"음악\")\n",
    "print(ndf)\n",
    "\n",
    "print(\"\\n\")\n",
    "\n",
    "# 음악,수학 열 을 인덱스로 지정\n",
    "df.set_index([\"수학\",\"음악\"],inplace = True)\n",
    "print(df)"
   ]
  },
  {
   "cell_type": "markdown",
   "metadata": {},
   "source": [
    "행 인덱스 재배열\n",
    "- 데이터프레임 객체.reindex( 새로운 인덱스 배열)\n",
    "- 기존에 존재하지 않는 행 인덱스가 추가되는 겨우 -> 데이터 값 = NaN\n",
    "- NaN값을 채우는 방법 : fill_value = 채우고 싶은 수 -> 옵션 추가"
   ]
  },
  {
   "cell_type": "code",
   "execution_count": 22,
   "metadata": {},
   "outputs": [
    {
     "name": "stdout",
     "output_type": "stream",
     "text": [
      "    c0  c1  c2  c3  c4\n",
      "r0   1   4   7  10  13\n",
      "r1   2   5   8  11  14\n",
      "r2   3   6   9  12  15\n",
      "\n",
      "\n",
      "     c0   c1   c2    c3    c4\n",
      "r0  1.0  4.0  7.0  10.0  13.0\n",
      "r1  2.0  5.0  8.0  11.0  14.0\n",
      "r2  3.0  6.0  9.0  12.0  15.0\n",
      "r3  NaN  NaN  NaN   NaN   NaN\n",
      "r4  NaN  NaN  NaN   NaN   NaN\n",
      "\n",
      "\n",
      "    c0  c1  c2  c3  c4\n",
      "r0   1   4   7  10  13\n",
      "r1   2   5   8  11  14\n",
      "r2   3   6   9  12  15\n",
      "r3   0   0   0   0   0\n",
      "r4   0   0   0   0   0\n"
     ]
    }
   ],
   "source": [
    "#<예제1-17> 행 인덱스 재 배열\n",
    "\n",
    "import pandas as pd\n",
    "\n",
    "df = pd.DataFrame([[1,4,7,10,13],\n",
    "                  [2,5,8,11,14],\n",
    "                  [3,6,9,12,15]],\n",
    "                 index = [\"r0\",\"r1\",\"r2\"],\n",
    "                 columns = [\"c0\",\"c1\",\"c2\",\"c3\",\"c4\"])\n",
    "print(df)\n",
    "\n",
    "print(\"\\n\")\n",
    "\n",
    "ndf = df.reindex([\"r0\",\"r1\",\"r2\",\"r3\",\"r4\"])\n",
    "print(ndf)\n",
    "\n",
    "print(\"\\n\")\n",
    "\n",
    "new_index = [\"r0\",\"r1\",\"r2\",\"r3\",\"r4\"]\n",
    "ndf2 = df.reindex(new_index, fill_value=0)\n",
    "print(ndf2)"
   ]
  },
  {
   "cell_type": "markdown",
   "metadata": {},
   "source": [
    "행 인덱스 초기화\n",
    "- 데이터프레임 객체.reset_index()\n",
    "- 행 인덱스 -> 정수형 위치 인덱스"
   ]
  },
  {
   "cell_type": "code",
   "execution_count": 23,
   "metadata": {},
   "outputs": [
    {
     "name": "stdout",
     "output_type": "stream",
     "text": [
      "    c0  c1  c2  c3  c4\n",
      "r0   1   4   7  10  13\n",
      "r1   2   5   8  11  14\n",
      "r2   3   6   9  12  15\n",
      "\n",
      "\n",
      "  index  c0  c1  c2  c3  c4\n",
      "0    r0   1   4   7  10  13\n",
      "1    r1   2   5   8  11  14\n",
      "2    r2   3   6   9  12  15\n"
     ]
    }
   ],
   "source": [
    "#<예제1-18> 행 인덱스 초기화\n",
    "\n",
    "import pandas as pd\n",
    "\n",
    "df = pd.DataFrame([[1,4,7,10,13],\n",
    "                   [2,5,8,11,14],\n",
    "                   [3,6,9,12,15]],\n",
    "                 index = [\"r0\",\"r1\",\"r2\"],\n",
    "                 columns = [\"c0\",\"c1\",\"c2\",\"c3\",\"c4\"])\n",
    "print(df)\n",
    "\n",
    "print(\"\\n\")\n",
    "\n",
    "df = df.reset_index()\n",
    "print(df)"
   ]
  },
  {
   "cell_type": "markdown",
   "metadata": {},
   "source": [
    "행 인덱스를 기준으로 데이터 프레임 정렬\n",
    "- 데이터프레임 객체.sort_index()\n",
    "- 옵션 ascending = False(내림차순) 또는 Treu(올림차순)-생략가능"
   ]
  },
  {
   "cell_type": "code",
   "execution_count": 28,
   "metadata": {},
   "outputs": [
    {
     "name": "stdout",
     "output_type": "stream",
     "text": [
      "    c0  c1  c2  c3  c4\n",
      "r0   1   4   7  10  13\n",
      "r1   2   5   8  11  14\n",
      "r2   3   6   9  12  15\n",
      "\n",
      "\n",
      "    c0  c1  c2  c3  c4\n",
      "r2   3   6   9  12  15\n",
      "r1   2   5   8  11  14\n",
      "r0   1   4   7  10  13\n"
     ]
    }
   ],
   "source": [
    "#<예제1-19> 데이터 프레임 정렬\n",
    "\n",
    "import pandas as pd\n",
    "\n",
    "df = pd.DataFrame([[1,4,7,10,13],\n",
    "                  [2,5,8,11,14],\n",
    "                  [3,6,9,12,15]],\n",
    "                 index = [\"r0\",\"r1\",\"r2\"],\n",
    "                 columns = [\"c0\",\"c1\",\"c2\",\"c3\",\"c4\"])\n",
    "\n",
    "print(df)\n",
    "\n",
    "print(\"\\n\")\n",
    "\n",
    "# 행 인덱스 기준으로 내림차순으로 정렬\n",
    "df = df.sort_index(ascending = False)\n",
    "\n",
    "print(df)\n"
   ]
  },
  {
   "cell_type": "markdown",
   "metadata": {},
   "source": [
    "특정 열의 데이터 값을 기준으로 정렬\n",
    "- 데이터프레임 객체.sort_values()\n",
    "- 기준으로 하고싶은 열 -> by = \"열 이름\" 옵션"
   ]
  },
  {
   "cell_type": "code",
   "execution_count": 27,
   "metadata": {
    "scrolled": true
   },
   "outputs": [
    {
     "name": "stdout",
     "output_type": "stream",
     "text": [
      "    c0  c1  c2  c3  c4\n",
      "r0   1   4   7  10  13\n",
      "r1   2   5   8  11  14\n",
      "r2   3   6   9  12  15\n",
      "\n",
      "\n",
      "    c0  c1  c2  c3  c4\n",
      "r2   3   6   9  12  15\n",
      "r1   2   5   8  11  14\n",
      "r0   1   4   7  10  13\n"
     ]
    }
   ],
   "source": [
    "#<예제1-20> 특정 열의 데이터 값을 기준으로 정렬\n",
    "\n",
    "import pandas as pd\n",
    "\n",
    "df = pd.DataFrame([[1,4,7,10,13],\n",
    "                  [2,5,8,11,14],\n",
    "                  [3,6,9,12,15]],\n",
    "                 index = [\"r0\",\"r1\",\"r2\"],\n",
    "                 columns = [\"c0\",\"c1\",\"c2\",\"c3\",\"c4\"])\n",
    "\n",
    "print(df)\n",
    "\n",
    "print(\"\\n\")\n",
    "\n",
    "df = df.sort_values(by = \"c1\",ascending = False)\n",
    "\n",
    "print(df)"
   ]
  }
 ],
 "metadata": {
  "kernelspec": {
   "display_name": "Python 3",
   "language": "python",
   "name": "python3"
  },
  "language_info": {
   "codemirror_mode": {
    "name": "ipython",
    "version": 3
   },
   "file_extension": ".py",
   "mimetype": "text/x-python",
   "name": "python",
   "nbconvert_exporter": "python",
   "pygments_lexer": "ipython3",
   "version": "3.8.3"
  }
 },
 "nbformat": 4,
 "nbformat_minor": 4
}
