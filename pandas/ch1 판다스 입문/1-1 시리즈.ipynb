{
 "cells": [
  {
   "cell_type": "markdown",
   "metadata": {},
   "source": [
    "판다스 자료구조\n",
    "\n",
    "시리즈(Series) - 1차원 배열\n",
    "데이터프레임(DataFrame) - 2차원 배열"
   ]
  },
  {
   "cell_type": "markdown",
   "metadata": {},
   "source": [
    "시리즈(Series)\n",
    "인덱스 - 데이터 일대일 대응 -> 딕셔너리와 비슷한 구조"
   ]
  },
  {
   "cell_type": "code",
   "execution_count": 5,
   "metadata": {
    "scrolled": true
   },
   "outputs": [
    {
     "name": "stdout",
     "output_type": "stream",
     "text": [
      "<class 'pandas.core.series.Series'>\n",
      "a    1\n",
      "b    2\n",
      "c    3\n",
      "d    4\n",
      "dtype: int64\n"
     ]
    }
   ],
   "source": [
    "#<예제1-1> 딕셔너리 -> 시리즈 변환\n",
    "\n",
    "# pandas 불러오기\n",
    "import pandas as pd\n",
    "\n",
    "# key:value 쌍으로 딕셔너리를 만들고, 변수 dict_data에 저장\n",
    "dict_data = {\"a\":1, \"b\":2, \"c\":3, \"d\":4}\n",
    "\n",
    "#판다스 Series() 함수로 딕셔너리 -> 시리즈 변환. 변수 sr에 저장\n",
    "sr = pd.Series(dict_data)\n",
    "\n",
    "# sr의 자료형 출력\n",
    "print(type(sr))\n",
    "# 변수 sr에 저장되어 있는 시리즈 객체를 출력\n",
    "print(sr)"
   ]
  },
  {
   "cell_type": "markdown",
   "metadata": {},
   "source": [
    "인덱스 구조\n",
    "1. 인덱스 이름 or 인덱스 라벨\n",
    "2. 정수형 위치 인덱스 - (0,1,2,3...)"
   ]
  },
  {
   "cell_type": "code",
   "execution_count": 6,
   "metadata": {},
   "outputs": [
    {
     "name": "stdout",
     "output_type": "stream",
     "text": [
      "0    2019-01-02\n",
      "1          3.14\n",
      "2           abc\n",
      "3           100\n",
      "4          True\n",
      "dtype: object\n"
     ]
    }
   ],
   "source": [
    "#<예제1-2> 시리즈 인덱스\n",
    "\n",
    "import pandas as pd \n",
    "\n",
    "# 리스트를 시리즈로 변환하여 번수 sr에 저장\n",
    "list_data = [\"2019-01-02\", 3.14, \"abc\", 100, True]\n",
    "sr = pd.Series(list_data)\n",
    "print(sr)"
   ]
  },
  {
   "cell_type": "markdown",
   "metadata": {},
   "source": [
    "인덱스를 별도로 지정하지 않으면, 디폴트로 정수형 위치 인덱스(0,1,2,3,...)가 자동 저장된다."
   ]
  },
  {
   "cell_type": "markdown",
   "metadata": {},
   "source": [
    "시리즈의 인덱스 또는 데이터 값 만 따로 선택할 수 있다."
   ]
  },
  {
   "cell_type": "code",
   "execution_count": 7,
   "metadata": {},
   "outputs": [
    {
     "name": "stdout",
     "output_type": "stream",
     "text": [
      "RangeIndex(start=0, stop=5, step=1)\n",
      "\n",
      "\n",
      "['2019-01-02' 3.14 'abc' 100 True]\n"
     ]
    }
   ],
   "source": [
    "#<예제1-2> 시리즈 인덱스\n",
    "\n",
    "import pandas as pd \n",
    "\n",
    "list_data = [\"2019-01-02\", 3.14, \"abc\", 100, True]\n",
    "sr = pd.Series(list_data)\n",
    "\n",
    "# 인덱스 배열은 idx에 저장. 데이터 값 배열을 val에 저장\n",
    "idx = sr.index\n",
    "val = sr.values\n",
    "print(idx)\n",
    "print(\"\\n\")\n",
    "print(val)"
   ]
  },
  {
   "cell_type": "markdown",
   "metadata": {},
   "source": [
    "원소 선택 - 슬라이싱\n",
    "\n",
    "- 인덱스를 이용하여 시리즈의 원소를 선택한다.\n",
    "- 인덱스의 두가지 유형에 따라 사용법이 다름.\n",
    "    - 인게스 이름(라벨)\n",
    "        [\"이름\"]\n",
    "    \n",
    "    - 정수형 위치 인덱스\n",
    "        [1], [2],..."
   ]
  },
  {
   "cell_type": "code",
   "execution_count": 10,
   "metadata": {},
   "outputs": [
    {
     "name": "stdout",
     "output_type": "stream",
     "text": [
      "영인\n",
      "영인\n",
      "\n",
      "\n",
      "생년월일    2010-05-01\n",
      "성별               여\n",
      "dtype: object\n",
      "생년월일    2010-05-01\n",
      "성별               여\n",
      "dtype: object\n",
      "\n",
      "\n",
      "생년월일    2010-05-01\n",
      "성별               여\n",
      "dtype: object\n",
      "생년월일    2010-05-01\n",
      "dtype: object\n"
     ]
    }
   ],
   "source": [
    "#<예제1-3> 시리즈 원소 선택\n",
    "\n",
    "import pandas as pd\n",
    "\n",
    "# 튜플을 시리즈로 변환(인덱스 옵션 지정)\n",
    "tup_data = (\"영인\", \"2010-05-01\", \"여\", True)\n",
    "sr = pd.Series(tup_data, index = [\"이름\",\"생년월일\",\"성별\",\"학생여부\"])\n",
    "\n",
    "# 원소 1개를 선택\n",
    "print(sr[\"이름\"]) # sr의 \"이름\" 라벨을 가진 원소를 선택 (인덱스 이름)\n",
    "print(sr[0]) # sr의 1번째 원소를 선택(정수형 위치 인덱스)\n",
    "\n",
    "print(\"\\n\")\n",
    "\n",
    "# 여러개의 원소를 선택(인덱스 리스트 활용)\n",
    "print(sr[[\"생년월일\",\"성별\"]])\n",
    "print(sr[[1,2]])\n",
    "\n",
    "print(\"\\n\")\n",
    "\n",
    "# 인덱스 범위를 지정하여 선택\n",
    "print(sr[\"생년월일\":\"성별\"]) # 끝(\"성별\") 포함\n",
    "\n",
    "print(sr[1:2]) # 끝(2) 불 포함"
   ]
  }
 ],
 "metadata": {
  "kernelspec": {
   "display_name": "Python 3",
   "language": "python",
   "name": "python3"
  },
  "language_info": {
   "codemirror_mode": {
    "name": "ipython",
    "version": 3
   },
   "file_extension": ".py",
   "mimetype": "text/x-python",
   "name": "python",
   "nbconvert_exporter": "python",
   "pygments_lexer": "ipython3",
   "version": "3.8.3"
  }
 },
 "nbformat": 4,
 "nbformat_minor": 4
}
