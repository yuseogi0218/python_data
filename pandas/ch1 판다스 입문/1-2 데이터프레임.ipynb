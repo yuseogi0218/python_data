{
 "cells": [
  {
   "cell_type": "markdown",
   "metadata": {},
   "source": [
    "데이터프레임\n",
    "\n",
    "- 2차원 배열 or 행렬\n",
    "- 행(row) 과 열(column)\n",
    "- 리스트를 원소로 갖는 딕셔너리를 가지고 만든다."
   ]
  },
  {
   "cell_type": "code",
   "execution_count": 3,
   "metadata": {},
   "outputs": [
    {
     "name": "stdout",
     "output_type": "stream",
     "text": [
      "<class 'pandas.core.frame.DataFrame'>\n",
      "\n",
      "\n",
      "   c0  c1  c2  c3  c4\n",
      "0   1   4   7  10  13\n",
      "1   2   5   8  11  14\n",
      "2   3   6   9  12  15\n"
     ]
    }
   ],
   "source": [
    "#<예제1-4> 딕셔너리 -> 데이터프레임 변환\n",
    "\n",
    "import pandas as pd\n",
    "\n",
    "#열이름을 key로 하고, 리스트를 value로 갖는 딕셔너리 정의(2차원배열)\n",
    "dict_data = {\"c0\":[1,2,3], \"c1\":[4,5,6], \"c2\":[7,8,9], \"c3\":[10,11,12], \"c4\":[13,14,15]}\n",
    "\n",
    "# 판다스 DataFrame() 함수로 딕셔너리 -> 데이터프레임 변환, 변수 df에 저장\n",
    "df = pd.DataFrame(dict_data)\n",
    "\n",
    "print(type(df))\n",
    "print(\"\\n\")\n",
    "print(df)"
   ]
  },
  {
   "cell_type": "markdown",
   "metadata": {},
   "source": [
    "행 인덱스/ 열 이름 설정\n",
    "pandas.DataFrame( 2차원 배열,\n",
    "                index = 행 인덱스 배열\n",
    "                columns= 열 이름 배열)"
   ]
  },
  {
   "cell_type": "code",
   "execution_count": 12,
   "metadata": {},
   "outputs": [
    {
     "name": "stdout",
     "output_type": "stream",
     "text": [
      "    나이 성별   학교\n",
      "준서  15  남  덕영중\n",
      "예은  17  여  수리중\n",
      "\n",
      "\n",
      "Index(['준서', '예은'], dtype='object')\n",
      "\n",
      "\n",
      "Index(['나이', '성별', '학교'], dtype='object')\n",
      "     연령 남녀  중학교\n",
      "학생1  15  남  덕영중\n",
      "학생2  17  여  수리중\n"
     ]
    }
   ],
   "source": [
    "#<예제1-5> 행 인덱스/ 열 이름 설정\n",
    "\n",
    "import pandas as pd\n",
    "\n",
    "df = pd.DataFrame([[15, \"남\", \"덕영중\"],[17, \"여\", \"수리중\"]],\n",
    "                  index = [\"준서\",\"예은\"],\n",
    "                 columns = [\"나이\", \"성별\", \"학교\"])\n",
    "\n",
    "print(df)\n",
    "print(\"\\n\")\n",
    "print(df.index) # 인덱스 출력\n",
    "print(\"\\n\")\n",
    "print(df.columns) # 열 이름 출력\n",
    "\n",
    "# 행 인덱스, 열 이름 바꾸기\n",
    "df.index = [\"학생1\",\"학생2\"]\n",
    "df.columns = [\"연령\",\"남녀\",\"중학교\"]\n",
    "\n",
    "print(df)"
   ]
  },
  {
   "cell_type": "markdown",
   "metadata": {},
   "source": [
    "데이터프레임.rename() -> 행인덱스 또는 열 이름의 일부를 선택하여 변경 \n",
    "\n",
    "*원본 객체 변경시 inplace = True 옵션"
   ]
  },
  {
   "cell_type": "code",
   "execution_count": 13,
   "metadata": {},
   "outputs": [
    {
     "name": "stdout",
     "output_type": "stream",
     "text": [
      "    나이 성별   학교\n",
      "준서  15  남  덕영중\n",
      "예은  17  여  수리중\n",
      "\n",
      "\n",
      "     연령 성별   학교\n",
      "학생1  15  남  덕영중\n",
      "예은   17  여  수리중\n"
     ]
    }
   ],
   "source": [
    "#<예제1-6> 행 인덱스/ 열 이름 변경\n",
    "\n",
    "import pandas as pd\n",
    "\n",
    "#  변경 전 데이터프레임 만들기\n",
    "df = pd.DataFrame([[15,\"남\",\"덕영중\"],[17,\"여\",\"수리중\"]],\n",
    "                 index = [\"준서\",\"예은\"],\n",
    "                 columns = [\"나이\",\"성별\",\"학교\"])\n",
    "\n",
    "print(df)\n",
    "\n",
    "# .rename()사용하여 준서 -> 학생1, 나이 -> 연령 으로 변경\n",
    "df.rename(index = {\"준서\":\"학생1\"},inplace = True)\n",
    "df.rename(columns = {\"나이\":\"연령\"},inplace = True)\n",
    "\n",
    "print(\"\\n\")\n",
    "print(df)"
   ]
  },
  {
   "cell_type": "markdown",
   "metadata": {},
   "source": [
    "데이터프레임.drop() -> 행 또는 열을 삭제\n",
    "\n",
    "- 행 삭제 - axis = 0 \n",
    "- 열 삭제 - axis = 1\n",
    "\n",
    "*원본객체 변경시 inplace = True 옵션"
   ]
  },
  {
   "cell_type": "code",
   "execution_count": 14,
   "metadata": {},
   "outputs": [
    {
     "name": "stdout",
     "output_type": "stream",
     "text": [
      "    수학  영어   음악   체육\n",
      "서준  90  98   85  100\n",
      "우현  80  89   95   90\n",
      "인아  70  95  100   90\n",
      "\n",
      "\n",
      "    수학  영어   음악   체육\n",
      "서준  90  98   85  100\n",
      "인아  70  95  100   90\n",
      "\n",
      "\n",
      "    수학  영어  음악   체육\n",
      "서준  90  98  85  100\n"
     ]
    }
   ],
   "source": [
    "#<예제1-7>행 삭제\n",
    "\n",
    "import pandas as pd\n",
    "\n",
    "df = pd.DataFrame([[90,98,85,100],[80,89,95,90],[70,95,100,90]],\n",
    "                 index = [\"서준\",\"우현\",\"인아\"],\n",
    "                 columns = [\"수학\",\"영어\",\"음악\",\"체육\"])\n",
    "\n",
    "print(df)\n",
    "\n",
    "print(\"\\n\")\n",
    "\n",
    "# \"우현\" 행 삭제\n",
    "df.drop(\"우현\",axis = 0,inplace = True)\n",
    "print(df)\n",
    "\n",
    "print(\"\\n\")\n",
    "\n",
    "#\"인아\" 행 삭제\n",
    "df.drop(\"인아\",inplace = True) # axis = 0 생략 가능\n",
    "print(df)\n"
   ]
  },
  {
   "cell_type": "code",
   "execution_count": 16,
   "metadata": {},
   "outputs": [
    {
     "name": "stdout",
     "output_type": "stream",
     "text": [
      "    수학  영어   음악   체육\n",
      "서준  90  98   85  100\n",
      "우현  80  89   95   90\n",
      "인아  70  95  100   90\n",
      "\n",
      "\n",
      "    영어   음악   체육\n",
      "서준  98   85  100\n",
      "우현  89   95   90\n",
      "인아  95  100   90\n",
      "\n",
      "\n",
      "    수학   체육\n",
      "서준  90  100\n",
      "우현  80   90\n",
      "인아  70   90\n"
     ]
    }
   ],
   "source": [
    "#<예제1-8> 열 삭제\n",
    "# 반드시 축 옵션 axis =1 사용\n",
    "\n",
    "import pandas as pd\n",
    "\n",
    "df = pd.DataFrame([[90,98,85,100],[80,89,95,90],[70,95,100,90]],\n",
    "                 index = [\"서준\",\"우현\",\"인아\"],\n",
    "                 columns = [\"수학\",\"영어\",\"음악\",\"체육\"])\n",
    "\n",
    "print(df)\n",
    "\n",
    "print(\"\\n\")\n",
    "\n",
    "# \"수학\" 열 삭제\n",
    "df1 = df.drop(\"수학\",axis = 1)\n",
    "\n",
    "print(df1)\n",
    "\n",
    "print(\"\\n\")\n",
    "\n",
    "# \"영어\",\"음악\" 열 삭제\n",
    "df2 = df.drop([\"영어\",\"음악\"],axis = 1)\n",
    "print(df2)"
   ]
  },
  {
   "cell_type": "markdown",
   "metadata": {},
   "source": [
    "데이터프레임.loc[] = 행 선택\n",
    "\n",
    "- loc : 인덱스 이름 : 범위의 끝 포함\n",
    "- iloc : 정수형 위치 인덱스 : 범위의 끝 제외"
   ]
  },
  {
   "cell_type": "code",
   "execution_count": 1,
   "metadata": {
    "scrolled": true
   },
   "outputs": [
    {
     "name": "stdout",
     "output_type": "stream",
     "text": [
      "    수학  영어   음악   체육\n",
      "서준  90  98   85  100\n",
      "우현  80  89   95   90\n",
      "인아  70  95  100   90\n",
      "\n",
      "\n",
      "    수학  영어  음악   체육\n",
      "서준  90  98  85  100\n",
      "우현  80  89  95   90\n",
      "\n",
      "\n",
      "    수학  영어  음악   체육\n",
      "서준  90  98  85  100\n",
      "우현  80  89  95   90\n"
     ]
    }
   ],
   "source": [
    "#<예제1-9> 행 삭제\n",
    "import pandas as pd \n",
    "\n",
    "df = pd.DataFrame([[90,98,85,100],[80,89,95,90],[70,95,100,90]],\n",
    "                 index = [\"서준\",\"우현\",\"인아\"],\n",
    "                 columns = [\"수학\",\"영어\",\"음악\",\"체육\"])\n",
    "print(df)\n",
    "\n",
    "print(\"\\n\")\n",
    "\n",
    "# loc 사용하여 서준,우현 선택\n",
    "index1 = df.loc[\"서준\":\"우현\"]\n",
    "print(index1)\n",
    "\n",
    "print(\"\\n\")\n",
    "\n",
    "# iloc 사용하여 서준, 우현 선택\n",
    "index2 = df.iloc[0:2]\n",
    "print(index2)"
   ]
  },
  {
   "cell_type": "markdown",
   "metadata": {},
   "source": [
    "- 열 1개 선택\n",
    "\n",
    "데이터프레임[\"열이름\"] or 데이터프레임.열이름\n",
    "\n",
    "- 열 n개 선택\n",
    "\n",
    "데이터프레임[[열1, 열2, 열3, ... 열n]]"
   ]
  },
  {
   "cell_type": "code",
   "execution_count": 2,
   "metadata": {},
   "outputs": [
    {
     "name": "stdout",
     "output_type": "stream",
     "text": [
      "   이름  수학  영어   음악   체육\n",
      "0  서준  90  98   85  100\n",
      "1  우현  80  89   95   90\n",
      "2  인아  70  95  100   90\n",
      "\n",
      "\n",
      "0    90\n",
      "1    80\n",
      "2    70\n",
      "Name: 수학, dtype: int64\n",
      "\n",
      "\n",
      "    음악   체육\n",
      "0   85  100\n",
      "1   95   90\n",
      "2  100   90\n"
     ]
    }
   ],
   "source": [
    "#<예제1-10> 열 선택\n",
    "import pandas as pd\n",
    "\n",
    "df = pd.DataFrame([[\"서준\",90,98,85,100],[\"우현\",80,89,95,90],[\"인아\",70,95,100,90]],\n",
    "                 columns = [\"이름\",\"수학\",\"영어\",\"음악\",\"체육\"])\n",
    "\n",
    "print(df)\n",
    "\n",
    "print(\"\\n\")\n",
    "\n",
    "math = df[\"수학\"]\n",
    "print(math)\n",
    "\n",
    "print(\"\\n\")\n",
    "\n",
    "music_gym = df[[\"음악\",\"체육\"]]\n",
    "print(music_gym)"
   ]
  },
  {
   "cell_type": "markdown",
   "metadata": {},
   "source": [
    "원소 선택\n",
    "\n",
    "- 인덱스 이름 : 데이터.loc[행이름,열이름]\n",
    "- 정수형 위치 인덱스 : 데이터프레임.iloc[행번호,열번호]"
   ]
  },
  {
   "cell_type": "code",
   "execution_count": 3,
   "metadata": {},
   "outputs": [
    {
     "name": "stdout",
     "output_type": "stream",
     "text": [
      "    수학  영어   음악   체육\n",
      "이름                  \n",
      "서준  90  98   85  100\n",
      "우현  80  89   95   90\n",
      "인아  70  95  100   90\n",
      "85\n",
      "85\n",
      "\n",
      "\n",
      "음악     85\n",
      "체육    100\n",
      "Name: 서준, dtype: int64\n",
      "음악     85\n",
      "체육    100\n",
      "Name: 서준, dtype: int64\n",
      "음악     85\n",
      "체육    100\n",
      "Name: 서준, dtype: int64\n",
      "음악     85\n",
      "체육    100\n",
      "Name: 서준, dtype: int64\n"
     ]
    }
   ],
   "source": [
    "#<예제1-11> 원소 선택\n",
    "import pandas as pd\n",
    "\n",
    "exam_data = {\"이름\":[\"서준\",\"우현\",\"인아\"],\n",
    "            \"수학\":[90,80,70],\n",
    "            \"영어\":[98,89,95],\n",
    "            \"음악\":[85,95,100],\n",
    "            \"체육\":[100,90,90]}\n",
    "df = pd.DataFrame(exam_data)\n",
    "\n",
    "df.set_index(\"이름\",inplace = True)\n",
    "print(df)\n",
    "\n",
    "a = df.loc[\"서준\",\"음악\"]\n",
    "print(a)\n",
    "b = df.iloc[0,2]\n",
    "print(b)\n",
    "\n",
    "print(\"\\n\")\n",
    "\n",
    "#두개의 원소선택\n",
    "c = df.loc[\"서준\",[\"음악\",\"체육\"]]\n",
    "print(c)\n",
    "d = df.iloc[0,[2,3]]\n",
    "print(d)\n",
    "e = df.loc[\"서준\",\"음악\":\"체육\"]\n",
    "print(e)\n",
    "f = df.iloc[0,2:]\n",
    "print(f)"
   ]
  },
  {
   "cell_type": "markdown",
   "metadata": {},
   "source": [
    "열 추가\n",
    "- 데이터프레임 객체[\"추가하려는 열 이름\"] = 데이터 값"
   ]
  },
  {
   "cell_type": "code",
   "execution_count": 8,
   "metadata": {},
   "outputs": [
    {
     "name": "stdout",
     "output_type": "stream",
     "text": [
      "   이름   수학  영어   음악   체육\n",
      "0  서준   90  98   85  100\n",
      "1  우현  800  89   95   90\n",
      "2  인아   70  95  100   90\n",
      "\n",
      "\n",
      "   이름   수학  영어   음악   체육  국어\n",
      "0  서준   90  98   85  100  80\n",
      "1  우현  800  89   95   90  80\n",
      "2  인아   70  95  100   90  80\n"
     ]
    }
   ],
   "source": [
    "#<예제1-12> 열 추가\n",
    "\n",
    "import pandas as pd\n",
    "\n",
    "df = pd.DataFrame([[\"서준\",90,98,85,100],[\"우현\",800,89,95,90],[\"인아\",70,95,100,90]],\n",
    "            columns = [\"이름\",\"수학\",\"영어\",\"음악\",\"체육\"])\n",
    "\n",
    "print(df)\n",
    "\n",
    "print(\"\\n\")\n",
    "\n",
    "df[\"국어\"] = 80\n",
    "\n",
    "print(df)"
   ]
  },
  {
   "cell_type": "markdown",
   "metadata": {},
   "source": [
    "행 추가\n",
    "- 데이터프레임 객체.loc[\"새로운 행 이름\"] = 데이터 값 (또는 배열)"
   ]
  },
  {
   "cell_type": "code",
   "execution_count": 10,
   "metadata": {},
   "outputs": [
    {
     "name": "stdout",
     "output_type": "stream",
     "text": [
      "   이름  수학  영어   음악   체육\n",
      "0  서준  90  98   85  100\n",
      "1  우현  80  89   95   90\n",
      "2  인아  70  95  100   90\n",
      "\n",
      "\n",
      "   이름  수학  영어   음악   체육\n",
      "0  서준  90  98   85  100\n",
      "1  우현  80  89   95   90\n",
      "2  인아  70  95  100   90\n",
      "3   0   0   0    0    0\n",
      "\n",
      "\n",
      "   이름  수학  영어   음악   체육\n",
      "0  서준  90  98   85  100\n",
      "1  우현  80  89   95   90\n",
      "2  인아  70  95  100   90\n",
      "3   0   0   0    0    0\n",
      "4  동규  90  80   70   60\n"
     ]
    }
   ],
   "source": [
    "#<예제1-13> 행 추가\n",
    "\n",
    "import pandas as pd\n",
    "\n",
    "df = pd.DataFrame([[\"서준\",90,98,85,100],[\"우현\",80,89,95,90],[\"인아\",70,95,100,90]],\n",
    "                columns = [\"이름\",\"수학\",\"영어\",\"음악\",\"체육\"])\n",
    "\n",
    "print(df)\n",
    "\n",
    "print(\"\\n\")\n",
    "\n",
    "#데이터값이 0이고 이름이 3인 행 추가\n",
    "df.loc[3]=0\n",
    "print(df)\n",
    "\n",
    "print(\"\\n\")\n",
    "\n",
    "#데이터값이 여러개이고 이름이 4인 행 추가\n",
    "df.loc[4] = [\"동규\",90,80,70,60]\n",
    "print(df)"
   ]
  },
  {
   "cell_type": "markdown",
   "metadata": {},
   "source": [
    "원소 값 변경\n",
    "- 데이터프레임 객체의 일부분 또는 원소를 선택 = 새로운 값"
   ]
  },
  {
   "cell_type": "code",
   "execution_count": 12,
   "metadata": {},
   "outputs": [
    {
     "name": "stdout",
     "output_type": "stream",
     "text": [
      "    수학  영어   음악   체육\n",
      "이름                  \n",
      "서준  90  98   85  100\n",
      "우현  80  89   95   90\n",
      "인아  70  95  100   90\n",
      "\n",
      "\n",
      "    수학  영어   음악  체육\n",
      "이름                 \n",
      "서준  90  98   85  80\n",
      "우현  80  89   95  90\n",
      "인아  70  95  100  90\n",
      "\n",
      "\n",
      "    수학  영어   음악  체육\n",
      "이름                 \n",
      "서준  90  98   85  90\n",
      "우현  80  89   95  90\n",
      "인아  70  95  100  90\n",
      "\n",
      "\n",
      "    수학  영어   음악   체육\n",
      "이름                  \n",
      "서준  90  98   85  100\n",
      "우현  80  89   95   90\n",
      "인아  70  95  100   90\n",
      "\n",
      "\n",
      "    수학  영어   음악  체육\n",
      "이름                 \n",
      "서준  90  98   50  50\n",
      "우현  80  89   95  90\n",
      "인아  70  95  100  90\n",
      "\n",
      "\n",
      "    수학  영어   음악  체육\n",
      "이름                 \n",
      "서준  90  98  100  50\n",
      "우현  80  89   95  90\n",
      "인아  70  95  100  90\n"
     ]
    }
   ],
   "source": [
    "#<예제1-14>원소 값 변경\n",
    "\n",
    "import pandas as pd \n",
    "\n",
    "exam_data = {\"이름\":[\"서준\",\"우현\",\"인아\"],\n",
    "            \"수학\":[90,80,70],\n",
    "            \"영어\":[98,89,95],\n",
    "            \"음악\":[85,95,100],\n",
    "            \"체육\":[100,90,90]}\n",
    "df = pd.DataFrame(exam_data)\n",
    "df.set_index(\"이름\",inplace = True)\n",
    "\n",
    "print(df)\n",
    "\n",
    "print(\"\\n\")\n",
    "\n",
    "df.loc[\"서준\",\"체육\"] = 80\n",
    "\n",
    "print(df)\n",
    "\n",
    "print(\"\\n\")\n",
    "\n",
    "df.iloc[0][3] = 90\n",
    "\n",
    "print(df)\n",
    "\n",
    "print(\"\\n\")\n",
    "\n",
    "df.iloc[0,3] = 100\n",
    "\n",
    "print(df)\n",
    "\n",
    "print(\"\\n\")\n",
    "\n",
    "df.iloc[0,[2,3]] = 50\n",
    "\n",
    "print(df)\n",
    "\n",
    "print(\"\\n\")\n",
    "\n",
    "df.loc[\"서준\",[\"음악\",\"체육\"]] = 100,50\n",
    "\n",
    "print(df)"
   ]
  },
  {
   "cell_type": "markdown",
   "metadata": {},
   "source": [
    "행, 열의 위치 바꾸기\n",
    "- 데이터프레임 객체.transpose() 또는 데이터프레임 객체.T"
   ]
  },
  {
   "cell_type": "code",
   "execution_count": 15,
   "metadata": {},
   "outputs": [
    {
     "name": "stdout",
     "output_type": "stream",
     "text": [
      "   이름  수학  영어   음악   체육\n",
      "0  서준  90  98   85  100\n",
      "1  우현  80  89   95   90\n",
      "2  인아  70  95  100   90\n",
      "\n",
      "\n",
      "      0   1    2\n",
      "이름   서준  우현   인아\n",
      "수학   90  80   70\n",
      "영어   98  89   95\n",
      "음악   85  95  100\n",
      "체육  100  90   90\n"
     ]
    }
   ],
   "source": [
    "#<예제1-15> 행, 열의 위치 바꾸기\n",
    "\n",
    "import pandas as pd\n",
    "\n",
    "df= pd.DataFrame([[\"서준\",90,98,85,100],\n",
    "                 [\"우현\",80,89,95,90],\n",
    "                 [\"인아\",70,95,100,90]],\n",
    "                columns = [\"이름\",\"수학\",\"영어\",\"음악\",\"체육\"])\n",
    "print(df)\n",
    "\n",
    "print(\"\\n\")\n",
    "\n",
    "df =  df.transpose()\n",
    "print(df)"
   ]
  }
 ],
 "metadata": {
  "kernelspec": {
   "display_name": "Python 3",
   "language": "python",
   "name": "python3"
  },
  "language_info": {
   "codemirror_mode": {
    "name": "ipython",
    "version": 3
   },
   "file_extension": ".py",
   "mimetype": "text/x-python",
   "name": "python",
   "nbconvert_exporter": "python",
   "pygments_lexer": "ipython3",
   "version": "3.8.3"
  }
 },
 "nbformat": 4,
 "nbformat_minor": 4
}
