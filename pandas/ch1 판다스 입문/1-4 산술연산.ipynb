{
 "cells": [
  {
   "cell_type": "markdown",
   "metadata": {},
   "source": [
    "산술연산\n",
    "- 3단계\n",
    "    - 모든 원소를 정렬한다.\n",
    "    - 일대일 대응\n",
    "    - 연산 처리\n",
    "- 대응되는 원소가 없으면 NaN 으로 처리"
   ]
  },
  {
   "cell_type": "markdown",
   "metadata": {},
   "source": [
    "시리즈 VS 숫자\n",
    "- 시리즈 객체 + 연산자(+, -, *, /) + 숫자"
   ]
  },
  {
   "cell_type": "code",
   "execution_count": 1,
   "metadata": {},
   "outputs": [
    {
     "name": "stdout",
     "output_type": "stream",
     "text": [
      "국어    100\n",
      "영여     80\n",
      "수학     90\n",
      "dtype: int64\n",
      "\n",
      "\n",
      "국어    0.50\n",
      "영여    0.40\n",
      "수학    0.45\n",
      "dtype: float64\n"
     ]
    }
   ],
   "source": [
    "#<예제1-21> 시리즈를 숫자로 나누기\n",
    "\n",
    "import pandas as pd\n",
    "\n",
    "sr = pd.Series({\"국어\":100, \"영여\":80, \"수학\":90})\n",
    "\n",
    "print(sr)\n",
    "\n",
    "print(\"\\n\")\n",
    "\n",
    "# sr 을 200로 나누기\n",
    "\n",
    "sr_percent = sr / 200\n",
    "\n",
    "print(sr_percent)"
   ]
  },
  {
   "cell_type": "markdown",
   "metadata": {},
   "source": [
    "시리즈 VS 시리즈\n",
    "- 시리즈1 + 연산자(+, -, *, /) + 시리즈2"
   ]
  },
  {
   "cell_type": "code",
   "execution_count": 3,
   "metadata": {},
   "outputs": [
    {
     "name": "stdout",
     "output_type": "stream",
     "text": [
      "국어    100\n",
      "영어     80\n",
      "수학     90\n",
      "dtype: int64\n",
      "\n",
      "\n",
      "수학    80\n",
      "국어    90\n",
      "영어    80\n",
      "dtype: int64\n",
      "              국어        수학      영어\n",
      "덧셈    190.000000   170.000   160.0\n",
      "뺄셈     10.000000    10.000     0.0\n",
      "곱셈   9000.000000  7200.000  6400.0\n",
      "나누기     1.111111     1.125     1.0\n"
     ]
    }
   ],
   "source": [
    "#<예제1-22> 시리즈 사칙연산\n",
    "\n",
    "import pandas as pd\n",
    "\n",
    "sr1 = pd.Series({\"국어\":100, \"영어\":80, \"수학\":90})\n",
    "\n",
    "print(sr1)\n",
    "\n",
    "print(\"\\n\")\n",
    "\n",
    "sr2 = pd.Series({\"수학\":80, \"국어\":90, \"영어\":80})\n",
    "\n",
    "print(sr2)\n",
    "\n",
    "add = sr1 + sr2\n",
    "sub = sr1 - sr2\n",
    "mul = sr1 * sr2\n",
    "div = sr1 / sr2\n",
    "\n",
    "result = pd.DataFrame([add,sub,mul,div],\n",
    "                     index = [\"덧셈\",\"뺄셈\",\"곱셈\",\"나누기\"])\n",
    "\n",
    "print(result)"
   ]
  },
  {
   "cell_type": "markdown",
   "metadata": {},
   "source": [
    "시리즈 vs NaN\n",
    "- 인덱스 값이 다를경우\n",
    "- 데이터 값이 NaN일 경우"
   ]
  },
  {
   "cell_type": "code",
   "execution_count": 4,
   "metadata": {},
   "outputs": [
    {
     "name": "stdout",
     "output_type": "stream",
     "text": [
      "국어     NaN\n",
      "영어    80.0\n",
      "수학    90.0\n",
      "dtype: float64\n",
      "\n",
      "\n",
      "수학    80\n",
      "국어    90\n",
      "dtype: int64\n",
      "\n",
      "\n",
      "     국어        수학  영어\n",
      "덧셈  NaN   170.000 NaN\n",
      "뺄셈  NaN    10.000 NaN\n",
      "곱셈  NaN  7200.000 NaN\n",
      "나누기 NaN     1.125 NaN\n"
     ]
    }
   ],
   "source": [
    "#<예제1-24> NaN값이 있는 시리즈 연산\n",
    "\n",
    "import pandas as pd\n",
    "import numpy as np\n",
    "\n",
    "sr1 = pd.Series({\"국어\":np.nan, \"영어\":80, \"수학\":90})\n",
    "\n",
    "print(sr1)\n",
    "\n",
    "print(\"\\n\")\n",
    "\n",
    "sr2 = pd.Series({\"수학\":80, \"국어\":90})\n",
    "\n",
    "print(sr2)\n",
    "\n",
    "print(\"\\n\")\n",
    "\n",
    "add = sr1 + sr2\n",
    "sub = sr1 - sr2\n",
    "mul = sr1 * sr2\n",
    "div = sr1 / sr2\n",
    "\n",
    "result = pd.DataFrame([add,sub,mul,div],\n",
    "                     index = [\"덧셈\",\"뺄셈\",\"곱셈\",\"나누기\"])\n",
    "\n",
    "print(result)"
   ]
  },
  {
   "cell_type": "markdown",
   "metadata": {},
   "source": [
    "연산 메소드\n",
    "- 결과값에 NaN이 없게하기 위해\n",
    "- 데이터1.연산자(데이터2, fill_value = 0)"
   ]
  },
  {
   "cell_type": "code",
   "execution_count": 5,
   "metadata": {},
   "outputs": [
    {
     "name": "stdout",
     "output_type": "stream",
     "text": [
      "국어     NaN\n",
      "영어    80.0\n",
      "수학    90.0\n",
      "dtype: float64\n",
      "\n",
      "\n",
      "수학    80\n",
      "국어    90\n",
      "dtype: int64\n",
      "\n",
      "\n",
      "       국어        수학    영어\n",
      "덧셈   90.0   170.000  80.0\n",
      "뺄셈  -90.0    10.000  80.0\n",
      "곱셈    0.0  7200.000   0.0\n",
      "나누기   0.0     1.125   inf\n"
     ]
    }
   ],
   "source": [
    "#<예제1-24>연산 메소드 사용 - 시리즈 연산\n",
    "\n",
    "import pandas as pd\n",
    "import numpy as np\n",
    "\n",
    "sr1 = pd.Series({\"국어\":np.nan, \"영어\":80, \"수학\":90})\n",
    "\n",
    "print(sr1)\n",
    "\n",
    "print(\"\\n\")\n",
    "\n",
    "sr2 = pd.Series({\"수학\":80, \"국어\": 90})\n",
    "\n",
    "print(sr2)\n",
    "\n",
    "print(\"\\n\")\n",
    "\n",
    "add = sr1.add(sr2,fill_value = 0)\n",
    "sub = sr1.sub(sr2,fill_value = 0)\n",
    "mul = sr1.mul(sr2,fill_value = 0)\n",
    "div = sr1.div(sr2,fill_value = 0)\n",
    "\n",
    "result = pd.DataFrame([add,sub,mul,div],\n",
    "                     index = [\"덧셈\",\"뺄셈\",\"곱셈\",\"나누기\"])\n",
    "\n",
    "print(result)"
   ]
  },
  {
   "cell_type": "markdown",
   "metadata": {},
   "source": [
    "데이터 프레임 연산\n",
    "- 시리즈연산의 확장\n",
    "- 정렬 -> 일대일 대응 -> 연산"
   ]
  },
  {
   "cell_type": "markdown",
   "metadata": {},
   "source": [
    "데이터프레임 VS 숫자\n",
    "- 데이터프레임 객체 + 연산자(+, -, *, /) + 숫자"
   ]
  },
  {
   "cell_type": "code",
   "execution_count": 7,
   "metadata": {},
   "outputs": [
    {
     "name": "stdout",
     "output_type": "stream",
     "text": [
      "    age     fare\n",
      "0  22.0   7.2500\n",
      "1  38.0  71.2833\n",
      "2  26.0   7.9250\n",
      "3  35.0  53.1000\n",
      "4  35.0   8.0500\n",
      "\n",
      "\n",
      "    age     fare\n",
      "0  32.0  17.2500\n",
      "1  48.0  81.2833\n",
      "2  36.0  17.9250\n",
      "3  45.0  63.1000\n",
      "4  45.0  18.0500\n"
     ]
    }
   ],
   "source": [
    "#<예제1-25> 데이터프레임에 숫자 더하기\n",
    "\n",
    "import pandas as pd\n",
    "import seaborn as sns # seaborn 라이브러리의 데이터셋 을 쓰기 위해서\n",
    "\n",
    "titanic = sns.load_dataset(\"titanic\")\n",
    "df = titanic.loc[:,[\"age\",\"fare\"]]\n",
    "print(df.head()) # 첫 5행만 표시\n",
    "\n",
    "print(\"\\n\")\n",
    "\n",
    "add_df = df+10\n",
    "\n",
    "print(add_df.head())"
   ]
  },
  {
   "cell_type": "markdown",
   "metadata": {},
   "source": [
    "데이터프레임 VS 데이터프레임\n",
    "- 데이터프레임1 + 연산자(+, -, *, /) + 데이터프레임2"
   ]
  },
  {
   "cell_type": "code",
   "execution_count": 9,
   "metadata": {
    "scrolled": true
   },
   "outputs": [
    {
     "name": "stdout",
     "output_type": "stream",
     "text": [
      "    age     fare\n",
      "0  22.0   7.2500\n",
      "1  38.0  71.2833\n",
      "2  26.0   7.9250\n",
      "3  35.0  53.1000\n",
      "4  35.0   8.0500\n",
      "\n",
      "\n",
      "    age     fare\n",
      "0  32.0  17.2500\n",
      "1  48.0  81.2833\n",
      "2  36.0  17.9250\n",
      "3  45.0  63.1000\n",
      "4  45.0  18.0500\n",
      "\n",
      "\n",
      "    age  fare\n",
      "0  10.0  10.0\n",
      "1  10.0  10.0\n",
      "2  10.0  10.0\n",
      "3  10.0  10.0\n",
      "4  10.0  10.0\n"
     ]
    }
   ],
   "source": [
    "#예제<1-26> 데이터프레임 끼리 더하기\n",
    "\n",
    "import pandas as pd\n",
    "import seaborn as sns\n",
    "\n",
    "titanic = sns.load_dataset(\"titanic\")\n",
    "df = titanic.loc[:,[\"age\",\"fare\"]]\n",
    "\n",
    "print(df.head())\n",
    "\n",
    "print(\"\\n\")\n",
    "\n",
    "add_df = df + 10\n",
    "print(add_df.head())\n",
    "\n",
    "print(\"\\n\")\n",
    "\n",
    "sub = add_df - df \n",
    "print(sub.head())"
   ]
  }
 ],
 "metadata": {
  "kernelspec": {
   "display_name": "Python 3",
   "language": "python",
   "name": "python3"
  },
  "language_info": {
   "codemirror_mode": {
    "name": "ipython",
    "version": 3
   },
   "file_extension": ".py",
   "mimetype": "text/x-python",
   "name": "python",
   "nbconvert_exporter": "python",
   "pygments_lexer": "ipython3",
   "version": "3.8.3"
  }
 },
 "nbformat": 4,
 "nbformat_minor": 4
}
