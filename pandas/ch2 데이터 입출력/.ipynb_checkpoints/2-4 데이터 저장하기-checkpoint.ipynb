{
 "cells": [
  {
   "cell_type": "markdown",
   "metadata": {},
   "source": [
    "4-1 CSV 파일로 저장\n",
    "- DataFrame객체.to_csv(\"파일 이름(경로)\")\n",
    "- 파일이름 -> 확장자 포함"
   ]
  },
  {
   "cell_type": "code",
   "execution_count": 3,
   "metadata": {},
   "outputs": [
    {
     "name": "stdout",
     "output_type": "stream",
     "text": [
      "      algol basic c++\n",
      "name                 \n",
      "jerry     A     C   B\n",
      "Riah     A+     B  B+\n",
      "paul      B    B+  C+\n"
     ]
    }
   ],
   "source": [
    "#<예제2-7> CSV 파일로 저장\n",
    "\n",
    "import pandas as pd\n",
    "\n",
    "# 판다스 DataFrame() 함수호 데이터프레임 변화, df에 저장\n",
    "df = pd.DataFrame({\"name\":[\"jerry\", \"Riah\", \"paul\"],\n",
    "             \"algol\":[\"A\",\"A+\",\"B\"],\n",
    "             \"basic\":[\"C\",\"B\",\"B+\"],\n",
    "             \"c++\":[\"B\",\"B+\",\"C+\"]})\n",
    "\n",
    "# \"name\" 열을 행 인덱스로 지정\n",
    "df.set_index(\"name\",inplace = True)\n",
    "\n",
    "print(df)\n",
    "\n",
    "# to_csv() 메소드를 사용하여 CSV파일로 내보내기. 파일명은 df_sample.csv로 저장\n",
    "df.to_csv(\"./df_sample.csv\")"
   ]
  },
  {
   "cell_type": "markdown",
   "metadata": {},
   "source": [
    "4-2 JSON 파일로 저장\n",
    "- DataFrame객체.to_json(\"파일 이름(경로)\")"
   ]
  },
  {
   "cell_type": "code",
   "execution_count": 5,
   "metadata": {},
   "outputs": [
    {
     "name": "stdout",
     "output_type": "stream",
     "text": [
      "      algol basic c++\n",
      "name                 \n",
      "Jerry     A     C  B+\n",
      "Riah     A+     B   C\n",
      "Paul      B    B+  C+\n"
     ]
    }
   ],
   "source": [
    "#<예제2-8> JSON 파일로 저장\n",
    "\n",
    "import pandas as pd\n",
    "\n",
    "data = {\"name\":[\"Jerry\",\"Riah\",\"Paul\"],\n",
    "       \"algol\":[\"A\",\"A+\",\"B\"],\n",
    "       \"basic\":[\"C\",\"B\",\"B+\"],\n",
    "       \"c++\":[\"B+\",\"C\",\"C+\"]}\n",
    "\n",
    "df = pd.DataFrame(data)\n",
    "df.set_index(\"name\",inplace = True)\n",
    "print(df)\n",
    "\n",
    "# to_json() 메소드를 사용하여 JSON 파일로 내보내기. 파일명은 df_sample.json로 저장\n",
    "df.to_json(\"./df_sample.json\")"
   ]
  },
  {
   "cell_type": "markdown",
   "metadata": {},
   "source": [
    "4-3 Excel 파일로 저장\n",
    "- DataFrame객체.to_excel(\"파일 이름(경로)\")"
   ]
  },
  {
   "cell_type": "code",
   "execution_count": 6,
   "metadata": {},
   "outputs": [
    {
     "name": "stdout",
     "output_type": "stream",
     "text": [
      "      algol basic c++\n",
      "name                 \n",
      "Jerry     A     C  B+\n",
      "Riah     A+     B   C\n",
      "Paul      B    B+  C+\n"
     ]
    }
   ],
   "source": [
    "#<예제2-9> Excel 파일로 저장\n",
    "\n",
    "import pandas as pd\n",
    "\n",
    "data = {\"name\":[\"Jerry\",\"Riah\",\"Paul\"],\n",
    "       \"algol\":[\"A\",\"A+\",\"B\"],\n",
    "       \"basic\":[\"C\",\"B\",\"B+\"],\n",
    "       \"c++\":[\"B+\",\"C\",\"C+\"]}\n",
    "\n",
    "df = pd.DataFrame(data)\n",
    "df.set_index(\"name\",inplace = True)\n",
    "print(df)\n",
    "\n",
    "# to_excel() 메소드를 사용하여 Excel  파일로 내보내기. 파일명은 df_sample.xlsx로 저장\n",
    "df.to_excel(\"./df_sample.xlsx\")"
   ]
  },
  {
   "cell_type": "markdown",
   "metadata": {},
   "source": [
    "4-4 여러개의 데이터프레임을 하나의 Excel파일로 저장\n",
    "- pandas.ExcelWriter(\"파일 이름(경로)\")\n",
    "    - Excel  워크북 객체 생성\n",
    "    - Excel 파일이라 생각\n",
    "    \n",
    "- 워크북에 작성\n",
    "    - DataFrame객체.to_excle(워크북 객체)\n",
    "    - sheet_name 옵션으로 시트 위치 지정\n",
    "    \n",
    "- 워크북 저장\n",
    "    - 워크북 객체.save()"
   ]
  },
  {
   "cell_type": "code",
   "execution_count": 8,
   "metadata": {},
   "outputs": [
    {
     "name": "stdout",
     "output_type": "stream",
     "text": [
      "      algol basic c++\n",
      "name                 \n",
      "Jerry     A     C  B+\n",
      "Riah     A+     B   C\n",
      "Paul      B    B+  C+\n",
      "\n",
      "\n",
      "    c1  c2  c3  c4\n",
      "c0                \n",
      "1    4   7  10  13\n",
      "2    5   8  11  14\n",
      "3    6   9  12  15\n"
     ]
    }
   ],
   "source": [
    "#<예제4-4> ExcelWriter() 활용\n",
    "\n",
    "import pandas as pd\n",
    "\n",
    "data1 = {\"name\":[\"Jerry\",\"Riah\",\"Paul\"],\n",
    "       \"algol\":[\"A\",\"A+\",\"B\"],\n",
    "       \"basic\":[\"C\",\"B\",\"B+\"],\n",
    "       \"c++\":[\"B+\",\"C\",\"C+\"]}\n",
    "\n",
    "data2 = {\"c0\":[1,2,3],\n",
    "        \"c1\":[4,5,6],\n",
    "        \"c2\":[7,8,9],\n",
    "        \"c3\":[10,11,12],\n",
    "        \"c4\":[13,14,15]}\n",
    "\n",
    "df1 = pd.DataFrame(data1)\n",
    "df1.set_index(\"name\",inplace = True)\n",
    "\n",
    "df2 = pd.DataFrame(data2)\n",
    "df2.set_index(\"c0\",inplace = True)\n",
    "\n",
    "print(df1)\n",
    "\n",
    "print(\"\\n\")\n",
    "\n",
    "print(df2)\n",
    "\n",
    "# \"df_excelwriter.xlsx\" 파일로 저장. df1 -> sheet1에, df2 -> sheet2에 저장\n",
    "writer = pd.ExcelWriter(\"./df_excelwriter.xlsx\") # excel 워크북 객체 생성\n",
    "df1.to_excel(writer, sheet_name = \"sheet1\")\n",
    "df2.to_excel(writer, sheet_name = \"sheet2\")\n",
    "writer.save() # 저장 후 종료"
   ]
  }
 ],
 "metadata": {
  "kernelspec": {
   "display_name": "Python 3",
   "language": "python",
   "name": "python3"
  },
  "language_info": {
   "codemirror_mode": {
    "name": "ipython",
    "version": 3
   },
   "file_extension": ".py",
   "mimetype": "text/x-python",
   "name": "python",
   "nbconvert_exporter": "python",
   "pygments_lexer": "ipython3",
   "version": "3.8.3"
  }
 },
 "nbformat": 4,
 "nbformat_minor": 4
}
