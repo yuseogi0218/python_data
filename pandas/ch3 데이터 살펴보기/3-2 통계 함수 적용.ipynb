{
 "cells": [
  {
   "cell_type": "markdown",
   "metadata": {},
   "source": [
    "평균값\n",
    "- mean() 메소드 사용\n",
    "- 평균값 계산 하여 시리즈 객체로 반환\n",
    "- DataFrame객체.mean()\n",
    "- 특정 열을 선택\n",
    "    - DataFrame객체[\"특정 열이름\"].mean()\n",
    "- 문자열 출력 X"
   ]
  },
  {
   "cell_type": "code",
   "execution_count": 2,
   "metadata": {
    "scrolled": true
   },
   "outputs": [
    {
     "name": "stdout",
     "output_type": "stream",
     "text": [
      "mpg               23.514573\n",
      "cylinders          5.454774\n",
      "displacement     193.425879\n",
      "weight          2970.424623\n",
      "acceleration      15.568090\n",
      "model year        76.010050\n",
      "origin             1.572864\n",
      "dtype: float64\n",
      "\n",
      "\n",
      "23.514572864321615\n",
      "23.514572864321615\n",
      "\n",
      "\n",
      "mpg         23.514573\n",
      "weight    2970.424623\n",
      "dtype: float64\n"
     ]
    }
   ],
   "source": [
    "#<예제3-3> 통계함수 (편균값)\n",
    "\n",
    "import pandas as pd\n",
    "\n",
    "# df객체 생성\n",
    "df = pd.read_csv(\"./auto-mpg.csv\",header =None)\n",
    "\n",
    "df.columns = [\"mpg\",\"cylinders\",\"displacement\",\"horesepower\",\"weight\",\"acceleration\",\"model year\",\"origin\",\"name\"]\n",
    "\n",
    "# 평균값 출력\n",
    "print(df.mean())\n",
    "\n",
    "print(\"\\n\")\n",
    "\n",
    "#\"mpg\"열의 평균값\n",
    "print(df[\"mpg\"].mean())\n",
    "print(df.mpg.mean())\n",
    "\n",
    "print(\"\\n\")\n",
    "\n",
    "#\"mpg\",\"weight\" 열의 편균값\n",
    "print(df[[\"mpg\",\"weight\"]].mean())"
   ]
  },
  {
   "cell_type": "markdown",
   "metadata": {},
   "source": [
    "중간값\n",
    "- median() 메소드 사용\n",
    "- 중간값 계산 하여 시리즈 객체로 반환\n",
    "- DataFrame객체.median()\n",
    "- 특정 열을 선택\n",
    "    - DataFrame객체[\"특정 열이름\"].median()\n",
    "- 문자열 출력 X"
   ]
  },
  {
   "cell_type": "code",
   "execution_count": 3,
   "metadata": {},
   "outputs": [
    {
     "name": "stdout",
     "output_type": "stream",
     "text": [
      "mpg               23.0\n",
      "cylinders          4.0\n",
      "displacement     148.5\n",
      "weight          2803.5\n",
      "acceleration      15.5\n",
      "model year        76.0\n",
      "origin             1.0\n",
      "dtype: float64\n",
      "\n",
      "\n",
      "23.0\n",
      "23.0\n",
      "\n",
      "\n",
      "mpg         23.0\n",
      "weight    2803.5\n",
      "dtype: float64\n"
     ]
    }
   ],
   "source": [
    "#<예제3-3> 통계함수 (중간값)\n",
    "\n",
    "import pandas as pd\n",
    "\n",
    "# df객체 생성\n",
    "df = pd.read_csv(\"./auto-mpg.csv\",header =None)\n",
    "\n",
    "df.columns = [\"mpg\",\"cylinders\",\"displacement\",\"horesepower\",\"weight\",\"acceleration\",\"model year\",\"origin\",\"name\"]\n",
    "\n",
    "# 중간값 출력\n",
    "print(df.median())\n",
    "\n",
    "print(\"\\n\")\n",
    "\n",
    "#\"mpg\"열의 중간값\n",
    "print(df[\"mpg\"].median())\n",
    "print(df.mpg.median())\n",
    "\n",
    "print(\"\\n\")\n",
    "\n",
    "#\"mpg\",\"weight\" 열의 중간값\n",
    "print(df[[\"mpg\",\"weight\"]].median())"
   ]
  },
  {
   "cell_type": "markdown",
   "metadata": {},
   "source": [
    "최대값\n",
    "- max() 메소드 사용\n",
    "- 최대값 계산 하여 시리즈 객체로 반환\n",
    "- DataFrame객체.max()\n",
    "- 특정 열을 선택\n",
    "    - DataFrame객체[\"특정 열이름\"].max()\n",
    "- 문자열 출력 O"
   ]
  },
  {
   "cell_type": "code",
   "execution_count": 4,
   "metadata": {},
   "outputs": [
    {
     "name": "stdout",
     "output_type": "stream",
     "text": [
      "mpg                         46.6\n",
      "cylinders                      8\n",
      "displacement                 455\n",
      "horesepower                    ?\n",
      "weight                      5140\n",
      "acceleration                24.8\n",
      "model year                    82\n",
      "origin                         3\n",
      "name            vw rabbit custom\n",
      "dtype: object\n",
      "\n",
      "\n",
      "46.6\n",
      "46.6\n",
      "\n",
      "\n",
      "mpg         46.6\n",
      "weight    5140.0\n",
      "dtype: float64\n"
     ]
    }
   ],
   "source": [
    "#<예제3-3> 통계함수 (최대값)\n",
    "\n",
    "import pandas as pd\n",
    "\n",
    "# df객체 생성\n",
    "df = pd.read_csv(\"./auto-mpg.csv\",header =None)\n",
    "\n",
    "df.columns = [\"mpg\",\"cylinders\",\"displacement\",\"horesepower\",\"weight\",\"acceleration\",\"model year\",\"origin\",\"name\"]\n",
    "\n",
    "# 최대값 출력\n",
    "print(df.max())\n",
    "\n",
    "print(\"\\n\")\n",
    "\n",
    "#\"mpg\"열의 최대값\n",
    "print(df[\"mpg\"].max())\n",
    "print(df.mpg.max())\n",
    "\n",
    "print(\"\\n\")\n",
    "\n",
    "#\"mpg\",\"weight\" 열의 최대값\n",
    "print(df[[\"mpg\",\"weight\"]].max())"
   ]
  },
  {
   "cell_type": "markdown",
   "metadata": {},
   "source": [
    "최소값\n",
    "- mim() 메소드 사용\n",
    "- 최소값 계산 하여 시리즈 객체로 반환\n",
    "- DataFrame객체.min()\n",
    "- 특정 열을 선택\n",
    "    - DataFrame객체[\"특정 열이름\"].min()\n",
    "- 문자열 출력 O"
   ]
  },
  {
   "cell_type": "code",
   "execution_count": 1,
   "metadata": {},
   "outputs": [
    {
     "name": "stdout",
     "output_type": "stream",
     "text": [
      "mpg                                   9\n",
      "cylinders                             3\n",
      "displacement                         68\n",
      "horesepower                       100.0\n",
      "weight                             1613\n",
      "acceleration                          8\n",
      "model year                           70\n",
      "origin                                1\n",
      "name            amc ambassador brougham\n",
      "dtype: object\n",
      "\n",
      "\n",
      "9.0\n",
      "9.0\n",
      "\n",
      "\n",
      "mpg          9.0\n",
      "weight    1613.0\n",
      "dtype: float64\n"
     ]
    }
   ],
   "source": [
    "#<예제3-3> 통계함수 (최소값)\n",
    "\n",
    "import pandas as pd\n",
    "\n",
    "# df객체 생성\n",
    "df = pd.read_csv(\"./auto-mpg.csv\",header =None)\n",
    "\n",
    "df.columns = [\"mpg\",\"cylinders\",\"displacement\",\"horesepower\",\"weight\",\"acceleration\",\"model year\",\"origin\",\"name\"]\n",
    "\n",
    "# 최소값 출력\n",
    "print(df.min())\n",
    "\n",
    "print(\"\\n\")\n",
    "\n",
    "#\"mpg\"열의 최소값\n",
    "print(df[\"mpg\"].min())\n",
    "print(df.mpg.min())\n",
    "\n",
    "print(\"\\n\")\n",
    "\n",
    "#\"mpg\",\"weight\" 열의 최소값\n",
    "print(df[[\"mpg\",\"weight\"]].min())"
   ]
  },
  {
   "cell_type": "markdown",
   "metadata": {},
   "source": [
    "표준편차\n",
    "- std() 메소드 사용\n",
    "- 표준편차 계산 하여 시리즈 객체로 반환\n",
    "- DataFrame객체.std()\n",
    "- 특정 열을 선택\n",
    "    - DataFrame객체[\"특정 열이름\"].std()\n",
    "- 문자열 출력 X"
   ]
  },
  {
   "cell_type": "code",
   "execution_count": 3,
   "metadata": {},
   "outputs": [
    {
     "name": "stdout",
     "output_type": "stream",
     "text": [
      "mpg               7.815984\n",
      "cylinders         1.701004\n",
      "displacement    104.269838\n",
      "weight          846.841774\n",
      "acceleration      2.757689\n",
      "model year        3.697627\n",
      "origin            0.802055\n",
      "dtype: float64\n",
      "\n",
      "\n",
      "7.815984312565782\n",
      "7.815984312565782\n",
      "\n",
      "\n",
      "mpg         7.815984\n",
      "weight    846.841774\n",
      "dtype: float64\n"
     ]
    }
   ],
   "source": [
    "#<예제3-3> 통계함수 (표준편차)\n",
    "\n",
    "import pandas as pd\n",
    "\n",
    "# df객체 생성\n",
    "df = pd.read_csv(\"./auto-mpg.csv\",header =None)\n",
    "\n",
    "df.columns = [\"mpg\",\"cylinders\",\"displacement\",\"horesepower\",\"weight\",\"acceleration\",\"model year\",\"origin\",\"name\"]\n",
    "\n",
    "# 표준편차 출력\n",
    "print(df.std())\n",
    "\n",
    "print(\"\\n\")\n",
    "\n",
    "#\"mpg\"열의 표준편차\n",
    "print(df[\"mpg\"].std())\n",
    "print(df.mpg.std())\n",
    "\n",
    "print(\"\\n\")\n",
    "\n",
    "#\"mpg\",\"weight\" 열의 표준편차\n",
    "print(df[[\"mpg\",\"weight\"]].std())"
   ]
  },
  {
   "cell_type": "markdown",
   "metadata": {},
   "source": [
    "상관계수\n",
    "- corr() 메소드 사용\n",
    "- 모든 경우의 두 열 간의 상관계수 계산 하여 데이터프레임 객체로 반환\n",
    "- DataFrame객체.corr()\n",
    "- 특정 열을 선택\n",
    "    - DataFrame객체[열 이름의 리스트].corr()\n",
    "- 문자열 포함 X"
   ]
  },
  {
   "cell_type": "code",
   "execution_count": 5,
   "metadata": {},
   "outputs": [
    {
     "name": "stdout",
     "output_type": "stream",
     "text": [
      "                   mpg  cylinders  displacement    weight  acceleration  \\\n",
      "mpg           1.000000  -0.775396     -0.804203 -0.831741      0.420289   \n",
      "cylinders    -0.775396   1.000000      0.950721  0.896017     -0.505419   \n",
      "displacement -0.804203   0.950721      1.000000  0.932824     -0.543684   \n",
      "weight       -0.831741   0.896017      0.932824  1.000000     -0.417457   \n",
      "acceleration  0.420289  -0.505419     -0.543684 -0.417457      1.000000   \n",
      "model year    0.579267  -0.348746     -0.370164 -0.306564      0.288137   \n",
      "origin        0.563450  -0.562543     -0.609409 -0.581024      0.205873   \n",
      "\n",
      "              model year    origin  \n",
      "mpg             0.579267  0.563450  \n",
      "cylinders      -0.348746 -0.562543  \n",
      "displacement   -0.370164 -0.609409  \n",
      "weight         -0.306564 -0.581024  \n",
      "acceleration    0.288137  0.205873  \n",
      "model year      1.000000  0.180662  \n",
      "origin          0.180662  1.000000  \n",
      "\n",
      "\n",
      "             mpg    weight\n",
      "mpg     1.000000 -0.831741\n",
      "weight -0.831741  1.000000\n"
     ]
    }
   ],
   "source": [
    "#<예제3-3> 통계함수 (상관계수)\n",
    "\n",
    "import pandas as pd\n",
    "\n",
    "# df객체 생성\n",
    "df = pd.read_csv(\"./auto-mpg.csv\",header =None)\n",
    "\n",
    "df.columns = [\"mpg\",\"cylinders\",\"displacement\",\"horesepower\",\"weight\",\"acceleration\",\"model year\",\"origin\",\"name\"]\n",
    "\n",
    "# 상관계수 출력\n",
    "print(df.corr())\n",
    "\n",
    "print(\"\\n\")\n",
    "\n",
    "#\"mpg\",\"weight\" 열의 상관계수\n",
    "print(df[[\"mpg\",\"weight\"]].corr())"
   ]
  }
 ],
 "metadata": {
  "kernelspec": {
   "display_name": "Python 3",
   "language": "python",
   "name": "python3"
  },
  "language_info": {
   "codemirror_mode": {
    "name": "ipython",
    "version": 3
   },
   "file_extension": ".py",
   "mimetype": "text/x-python",
   "name": "python",
   "nbconvert_exporter": "python",
   "pygments_lexer": "ipython3",
   "version": "3.8.3"
  }
 },
 "nbformat": 4,
 "nbformat_minor": 4
}
