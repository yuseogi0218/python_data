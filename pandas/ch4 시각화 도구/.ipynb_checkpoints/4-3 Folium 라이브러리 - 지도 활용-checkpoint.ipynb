{
 "cells": [
  {
   "cell_type": "markdown",
   "metadata": {},
   "source": [
    "Folium 라이브러리\n",
    "- 지도 위에 시각화\n",
    "- 세계지도를 기본 지원\n",
    "    - 다양한 스타일의 지도 제공"
   ]
  },
  {
   "cell_type": "markdown",
   "metadata": {},
   "source": [
    "지도 만들기\n",
    "- Map() 함수\n",
    "    - location = [위도, 경도] 옵션 : 중심 지점 설정\n",
    "    - zoom_start = 옵션 : 화면 확대 비율"
   ]
  },
  {
   "cell_type": "code",
   "execution_count": 2,
   "metadata": {},
   "outputs": [],
   "source": [
    "# <예제4-36> 지도 만들기\n",
    "\n",
    "import folium\n",
    "\n",
    "# 서울 지도 만들기\n",
    "seoul_map = folium.Map(location = [37.55,126.98], zoom_start = 12)\n",
    "\n",
    "# 지도를 HTML 파일로 저장하기\n",
    "seoul_map.save(\"./seoul.html\")"
   ]
  },
  {
   "cell_type": "markdown",
   "metadata": {},
   "source": [
    "지도 스타일 적용하기\n",
    "- Map() 함수\n",
    "    - tiles = \"스타일\" 옵션 사용\n",
    "        - ex) Stamen Terrain- 산악 지형이 선명히\n",
    "        - ex) Stamen Toner - 흑백 스타일 - 도로망 강조"
   ]
  },
  {
   "cell_type": "code",
   "execution_count": 4,
   "metadata": {},
   "outputs": [],
   "source": [
    "# <예제4-37> 지도 스타일 적용\n",
    "\n",
    "import folium\n",
    "\n",
    "# 서울 지도 만들기 (스타일 : Stamen Terrain)\n",
    "seoul_map2 = folium.Map(location = [37.55,126.98], zoom_start =12, tiles= \"Stamen Terrain\")\n",
    "\n",
    "# 서울 지도 만들기 (스타일 : Stamen Toner)\n",
    "seoul_map3 = folium.Map(location = [37.55,126.98], zoom_start =12, tiles= \"Stamen Toner\")\n",
    "\n",
    "# 지도를 HTML 파일로 저장하기\n",
    "seoul_map2.save(\"./seoul2.html\")\n",
    "seoul_map3.save(\"./seoul3.html\")"
   ]
  },
  {
   "cell_type": "markdown",
   "metadata": {},
   "source": [
    "지도에 마커 표시하기\n",
    "- folium.Marker([위도, 경도]).add_to(지도 객체) 함수 사용\n",
    "    - popup = 옵션 : 마커 클릭시 표시해주는 텍스트"
   ]
  },
  {
   "cell_type": "code",
   "execution_count": 12,
   "metadata": {},
   "outputs": [],
   "source": [
    "# <예제 4-38> 지도에 마커 표시하기\n",
    "\n",
    "import pandas as pd\n",
    "import folium\n",
    "\n",
    "#서울 대학교 위치 데이터 불러오기\n",
    "df = pd.read_excel(\"./서울지역 대학교 위치.xlsx\")\n",
    "df.set_index(\"Unnamed: 0\", inplace = True)\n",
    "\n",
    "# 서울 지도 만들기\n",
    "seoul_map = folium.Map(location = [37.55, 126.98], zoom_start = 12, tiles =\"Stamen Terrain\")\n",
    "\n",
    "# 대학교 위치 정보를 Marker로 표시\n",
    "for name, lat, lng in zip(df.index, df.위도, df.경도):\n",
    "    folium.Marker([lat, lng], popup = name).add_to(seoul_map)\n",
    "    \n",
    "# 지도를 HTML 파일로 저장\n",
    "seoul_map.save(\"./seoul_colleges.html\")"
   ]
  },
  {
   "cell_type": "markdown",
   "metadata": {},
   "source": [
    "지도에 원형 마크표시하기\n",
    "- folium.CircleMarker([위도, 경도]).add_to(지도 객체) 함수 사용\n",
    "    - radius = 원의 반지름\n",
    "    - color =원의 둘레 색상\n",
    "    - fill = True/False = 원을 채울지 말지\n",
    "    - fill_color = 원을 채우는 색\n",
    "    - fill_opacity = 투명도\n",
    "    - popup = 마커 클릭시 표시해주는 텍스트"
   ]
  },
  {
   "cell_type": "code",
   "execution_count": 13,
   "metadata": {},
   "outputs": [],
   "source": [
    "# <예제 4-39> 지도에 원형 마커표시\n",
    "\n",
    "import pandas as pd\n",
    "import folium\n",
    "\n",
    "#서울 대학교 위치 데이터 불러오기\n",
    "df = pd.read_excel(\"./서울지역 대학교 위치.xlsx\")\n",
    "df.set_index(\"Unnamed: 0\", inplace = True)\n",
    "\n",
    "# 서울 지도 만들기\n",
    "seoul_map = folium.Map(location = [37.55, 126.98], zoom_start = 12, tiles =\"Stamen Terrain\")\n",
    "\n",
    "# 대학교 위치 정보를 Marker로 표시\n",
    "for name, lat, lng in zip(df.index, df.위도, df.경도):\n",
    "    folium.CircleMarker([lat, lng],\n",
    "                        radius =10,\n",
    "                        color = \"brown\",\n",
    "                        fill =True,\n",
    "                        fill_color = \"coral\",\n",
    "                        fill_opacity = 0.7,\n",
    "                        popup = name).add_to(seoul_map)\n",
    "    \n",
    "# 지도를 HTML 파일로 저장\n",
    "seoul_map.save(\"./seoul_colleges2.html\")"
   ]
  },
  {
   "cell_type": "markdown",
   "metadata": {},
   "source": [
    "지도 영역에 단계구분도(Choropleth Map)표시하기\n",
    "- 어떤 경계에 둘러싸인 영역에 색을 칠하거나 음영 등으로 정보를 나타냄\n",
    "- folium.Choropleth().add_to(지도 객체함수 사용\n",
    "    - geo_data = 지도 경계 데이터\n",
    "    - "
   ]
  },
  {
   "cell_type": "code",
   "execution_count": 17,
   "metadata": {},
   "outputs": [],
   "source": [
    "# <예제 4-40> 지도 영역에 단계 구분도 표시하기\n",
    "\n",
    "import pandas as pd\n",
    "import folium\n",
    "import json\n",
    "\n",
    "# 경기도 인구변화데이터를 불러와서 대이터프레임으로 변환\n",
    "file_path = \"./경기도인구데이터.xlsx\"\n",
    "df = pd.read_excel(file_path, index_col = \"구분\")\n",
    "df.columns = df.columns.map(str)\n",
    "\n",
    "#경기도 시군구 경계 정보를 가진 geo-json 파일 불러오기\n",
    "geo_path = \"./경기도행정구역경계.json\"\n",
    "try:\n",
    "    geo_data = json.load(open(geo_path, encoding=\"utf-8\"))\n",
    "except:\n",
    "    geo_data = json.load(open(geo_path, encoding=\"utf-8-sig\"))\n",
    "    \n",
    "# 경기도 지도 만들기\n",
    "g_map = folium.Map(location =[37.5502, 126.982],\n",
    "                  tiles = \"Stamen Terrain\", zoom_start = 6)\n",
    "\n",
    "# 출력할 연도 선택\n",
    "year= \"2007\"\n",
    "\n",
    "# Choropleth 클래스로 단계구분도 표ㅣ하기\n",
    "folium.Choropleth(geo_data = geo_data,\n",
    "                 data = df[year],\n",
    "                 columns = [df.index, df[year]],\n",
    "                 fill_color = \"YlOrRd\", fill_opacity = 0.7, line_opacity = 0.3,\n",
    "                 threshold_scale = [10000, 100000, 200000, 500000, 700000],\n",
    "                 key_on = \"feature.properties.name\",\n",
    "                 ).add_to(g_map)\n",
    "\n",
    "# 지도를 HTML 파일로 저장하기\n",
    "g_map.save(\"./gyonggi_population_\" + year + \".html\")\n"
   ]
  }
 ],
 "metadata": {
  "kernelspec": {
   "display_name": "Python 3",
   "language": "python",
   "name": "python3"
  },
  "language_info": {
   "codemirror_mode": {
    "name": "ipython",
    "version": 3
   },
   "file_extension": ".py",
   "mimetype": "text/x-python",
   "name": "python",
   "nbconvert_exporter": "python",
   "pygments_lexer": "ipython3",
   "version": "3.8.3"
  }
 },
 "nbformat": 4,
 "nbformat_minor": 4
}
