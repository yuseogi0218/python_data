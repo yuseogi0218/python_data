{
 "cells": [
  {
   "cell_type": "markdown",
   "metadata": {},
   "source": [
    "단위 환산"
   ]
  },
  {
   "cell_type": "code",
   "execution_count": 2,
   "metadata": {},
   "outputs": [
    {
     "name": "stdout",
     "output_type": "stream",
     "text": [
      "    mpg  cylinders  displacement horsepower  weight  acceleration  model year  \\\n",
      "0  18.0          8         307.0      130.0  3504.0          12.0          70   \n",
      "1  15.0          8         350.0      165.0  3693.0          11.5          70   \n",
      "2  18.0          8         318.0      150.0  3436.0          11.0          70   \n",
      "\n",
      "   origin                       name  \n",
      "0       1  chevrolet chevelle malibu  \n",
      "1       1          buick skylark 320  \n",
      "2       1         plymouth satellite  \n",
      "\n",
      "\n",
      "    mpg  cylinders  displacement horsepower  weight  acceleration  model year  \\\n",
      "0  18.0          8         307.0      130.0  3504.0          12.0          70   \n",
      "1  15.0          8         350.0      165.0  3693.0          11.5          70   \n",
      "2  18.0          8         318.0      150.0  3436.0          11.0          70   \n",
      "\n",
      "   origin                       name       kpl  \n",
      "0       1  chevrolet chevelle malibu  7.652571  \n",
      "1       1          buick skylark 320  6.377143  \n",
      "2       1         plymouth satellite  7.652571  \n",
      "\n",
      "\n",
      "    mpg  cylinders  displacement horsepower  weight  acceleration  model year  \\\n",
      "0  18.0          8         307.0      130.0  3504.0          12.0          70   \n",
      "1  15.0          8         350.0      165.0  3693.0          11.5          70   \n",
      "2  18.0          8         318.0      150.0  3436.0          11.0          70   \n",
      "\n",
      "   origin                       name   kpl  \n",
      "0       1  chevrolet chevelle malibu  7.65  \n",
      "1       1          buick skylark 320  6.38  \n",
      "2       1         plymouth satellite  7.65  \n"
     ]
    }
   ],
   "source": [
    "# <예제 5-8> 단위 환산\n",
    "\n",
    "import pandas as pd\n",
    "\n",
    "df = pd.read_csv(\"./auto-mpg.csv\", header = None)\n",
    "df.columns = [\"mpg\",\"cylinders\",\"displacement\",\"horsepower\",\"weight\",\n",
    "             \"acceleration\",\"model year\",\"origin\",\"name\"]\n",
    "print(df.head(3))\n",
    "print(\"\\n\")\n",
    "\n",
    "# mpg(mile per gallon) 를 kpl(kilometer per liter)로 변환(mpg_to_kpl = 0.425)\n",
    "mpg_to_kpl = 1.60934/3.78541\n",
    "\n",
    "# mpg열에 mpg_to_kpl(0.425)를 곱한 결과를 새로운 열(kpl)에 추가\n",
    "df[\"kpl\"] = df[\"mpg\"]* mpg_to_kpl\n",
    "print(df.head(3))\n",
    "print(\"\\n\")\n",
    "\n",
    "# kpl 열을 소수점 아래 둘째자리까지 반올림\n",
    "# .round(2) 메소드 사용\n",
    "df[\"kpl\"] = df[\"kpl\"].round(2)\n",
    "print(df.head(3))"
   ]
  },
  {
   "cell_type": "markdown",
   "metadata": {},
   "source": [
    "자료형 변환\n",
    "- .astype(\"자료형\")\n",
    "    - 유한개의 고유값이 반복적 -> 범주형(\"category\")로 변경\n",
    "    - 숫자의 상대적인 크기가 별 의미가 없을떼 -> 범주형(\"category\")로 변경"
   ]
  },
  {
   "cell_type": "code",
   "execution_count": 5,
   "metadata": {},
   "outputs": [
    {
     "name": "stdout",
     "output_type": "stream",
     "text": [
      "mpg             float64\n",
      "cylinders         int64\n",
      "displacement    float64\n",
      "horsepower       object\n",
      "weight          float64\n",
      "acceleration    float64\n",
      "model year        int64\n",
      "origin            int64\n",
      "name             object\n",
      "dtype: object\n",
      "\n",
      "\n",
      "float64\n",
      "\n",
      "\n",
      "[1 3 2]\n",
      "\n",
      "\n",
      "['USA' 'JPN' 'EU']\n",
      "object\n",
      "\n",
      "\n",
      "category\n",
      "\n",
      "\n",
      "category\n"
     ]
    }
   ],
   "source": [
    "# <예제5-9> 자료형 변환\n",
    "\n",
    "import pandas as pd\n",
    "\n",
    "df = pd.read_csv(\"./auto-mpg.csv\",header = None)\n",
    "df.columns = [\"mpg\",\"cylinders\",\"displacement\",\"horsepower\",\"weight\",\n",
    "             \"acceleration\",\"model year\",\"origin\",\"name\"]\n",
    "\n",
    "# 각 열의 자료형 확인 - .info() or .dtypes\n",
    "print(df.dtypes)\n",
    "print(\"\\n\")\n",
    "\n",
    "# horsepower 열을 자료형 \"object\" -> \"float\"으로 변경\n",
    "# horsepower 열의\"?\" 데이터 처리\n",
    "import numpy as np # \"?\" -> NaN 변경시사용\n",
    "df[\"horsepower\"].replace(\"?\", np.nan, inplace = True) # \"?\" -> NaN 변경\n",
    "df.dropna(subset=[\"horsepower\"], axis = 0, inplace =True) # 누락데이터 행 삭제\n",
    "df[\"horsepower\"]= df[\"horsepower\"].astype(\"float\") # 문자열을 실수형(float)으로 변환\n",
    "\n",
    "# horsepower 열의자료형 확인\n",
    "print(df[\"horsepower\"].dtypes)\n",
    "\n",
    "print(\"\\n\")\n",
    "\n",
    "# origin 열의 고유값 확인\n",
    "print(df[\"origin\"].unique())\n",
    "print(\"\\n\")\n",
    "\n",
    "# 정수형 데이터르 문자형 데이터로 변환\n",
    "df[\"origin\"].replace({1:\"USA\",2:\"EU\",3:\"JPN\"}, inplace = True)\n",
    "\n",
    "# origin 열의 고유값과 자료형 확인\n",
    "print(df[\"origin\"].unique())\n",
    "print(df[\"origin\"].dtypes)\n",
    "\n",
    "print(\"\\n\")\n",
    "\n",
    "# 문자열을 범주형(\"category\")로 변환\n",
    "df[\"origin\"] = df[\"origin\"].astype(\"category\")\n",
    "print(df[\"origin\"].dtypes)\n",
    "\n",
    "print(\"\\n\")\n",
    "\n",
    "# model year 열의 정수형을 범주형으로 변환\n",
    "df[\"model year\"] = df[\"model year\"].astype(\"category\")\n",
    "print(df[\"model year\"].dtypes)"
   ]
  }
 ],
 "metadata": {
  "kernelspec": {
   "display_name": "Python 3",
   "language": "python",
   "name": "python3"
  },
  "language_info": {
   "codemirror_mode": {
    "name": "ipython",
    "version": 3
   },
   "file_extension": ".py",
   "mimetype": "text/x-python",
   "name": "python",
   "nbconvert_exporter": "python",
   "pygments_lexer": "ipython3",
   "version": "3.8.3"
  }
 },
 "nbformat": 4,
 "nbformat_minor": 4
}
