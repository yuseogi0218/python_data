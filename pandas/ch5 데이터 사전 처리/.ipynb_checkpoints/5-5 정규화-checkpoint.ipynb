{
 "cells": [
  {
   "cell_type": "markdown",
   "metadata": {},
   "source": [
    "정규화\n",
    "- 숫자 데이터의 상대적인 크기차이 제거\n",
    "- 동일한 크기 기준으로나눈 비율\n",
    "- 정규화를 거친 데이터의 범위\n",
    "    - 0 ~ 1\n",
    "    - -1 ~ 1\n",
    "- 1. 각 열(변수)의 데이터를 해당 열의 최대값(의 절대값)으로 나누는 방법\n",
    "- 2. 각 열(변수)의 (데이터-최소값)을 최대값과 최소값을 뺀 값으로 나누는 방법  "
   ]
  },
  {
   "cell_type": "code",
   "execution_count": 2,
   "metadata": {},
   "outputs": [
    {
     "name": "stdout",
     "output_type": "stream",
     "text": [
      "0    0.565217\n",
      "1    0.717391\n",
      "2    0.652174\n",
      "3    0.652174\n",
      "4    0.608696\n",
      "Name: horsepower, dtype: float64\n",
      "\n",
      "\n",
      "count    392.000000\n",
      "mean       0.454215\n",
      "std        0.167353\n",
      "min        0.200000\n",
      "25%        0.326087\n",
      "50%        0.406522\n",
      "75%        0.547826\n",
      "max        1.000000\n",
      "Name: horsepower, dtype: float64\n"
     ]
    }
   ],
   "source": [
    "# <예제 5-13> 정규화-1번 방법\n",
    "\n",
    "import pandas as pd\n",
    "import numpy as np\n",
    "\n",
    "df = pd.read_csv(\"./auto-mpg.csv\", header = None)\n",
    "df.columns =[\"mpg\",\"cylinders\",\"displacement\",\"horsepower\",\"weight\",\n",
    "            \"acceleration\",\"model year\",\"origin\",\"name\"]\n",
    "\n",
    "# horsepower 열의 누락 데이터 (\"?\")삭제하고 실수형으로 변환\n",
    "df[\"horsepower\"].replace(\"?\",np.nan,inplace = True)\n",
    "df.dropna(subset = [\"horsepower\"], axis = 0, inplace = True)\n",
    "df[\"horsepower\"] = df[\"horsepower\"].astype(\"float\")\n",
    "\n",
    "# horsepower 열의 데이터를 최대값의 절대값으로 나눈후 저장\n",
    "df.horsepower = df.horsepower/abs(df.horsepower.max())\n",
    "\n",
    "print(df.horsepower.head())\n",
    "print(\"\\n\")\n",
    "print(df.horsepower.describe())"
   ]
  },
  {
   "cell_type": "code",
   "execution_count": 3,
   "metadata": {},
   "outputs": [
    {
     "name": "stdout",
     "output_type": "stream",
     "text": [
      "0    0.456522\n",
      "1    0.646739\n",
      "2    0.565217\n",
      "3    0.565217\n",
      "4    0.510870\n",
      "Name: horsepower, dtype: float64\n",
      "\n",
      "\n",
      "count    392.000000\n",
      "mean       0.317768\n",
      "std        0.209191\n",
      "min        0.000000\n",
      "25%        0.157609\n",
      "50%        0.258152\n",
      "75%        0.434783\n",
      "max        1.000000\n",
      "Name: horsepower, dtype: float64\n"
     ]
    }
   ],
   "source": [
    "# <예제 5-14> 정규화 - 2번 방법\n",
    "\n",
    "import pandas as pd\n",
    "import numpy as np\n",
    "\n",
    "f = pd.read_csv(\"./auto-mpg.csv\", header = None)\n",
    "df.columns =[\"mpg\",\"cylinders\",\"displacement\",\"horsepower\",\"weight\",\n",
    "            \"acceleration\",\"model year\",\"origin\",\"name\"]\n",
    "\n",
    "# horsepower 열의 누락 데이터 (\"?\")삭제하고 실수형으로 변환\n",
    "df[\"horsepower\"].replace(\"?\",np.nan,inplace = True)\n",
    "df.dropna(subset = [\"horsepower\"], axis = 0, inplace = True)\n",
    "df[\"horsepower\"] = df[\"horsepower\"].astype(\"float\")\n",
    "\n",
    "# horsepower 열의 데이터에서 최소값을 뺌\n",
    "min_x = df.horsepower - df.horsepower.min()\n",
    "\n",
    "# 뺀 값을 (최대값-최소값) 으로 나눔\n",
    "max_min = df.horsepower.max() - df.horsepower.min()\n",
    "df.horsepower = min_x/max_min\n",
    "\n",
    "print(df.horsepower.head())\n",
    "print(\"\\n\")\n",
    "print(df.horsepower.describe())"
   ]
  }
 ],
 "metadata": {
  "kernelspec": {
   "display_name": "Python 3",
   "language": "python",
   "name": "python3"
  },
  "language_info": {
   "codemirror_mode": {
    "name": "ipython",
    "version": 3
   },
   "file_extension": ".py",
   "mimetype": "text/x-python",
   "name": "python",
   "nbconvert_exporter": "python",
   "pygments_lexer": "ipython3",
   "version": "3.8.3"
  }
 },
 "nbformat": 4,
 "nbformat_minor": 4
}
