{
 "cells": [
  {
   "cell_type": "markdown",
   "metadata": {},
   "source": [
    "중복 데이터 확인\n",
    "- .duplicated()\n",
    "    - 중복되는 행이 있으면 - True 반환\n",
    "    - 처음 나오는 행 - False 반환"
   ]
  },
  {
   "cell_type": "code",
   "execution_count": 4,
   "metadata": {},
   "outputs": [
    {
     "name": "stdout",
     "output_type": "stream",
     "text": [
      "  c1  c2  c3\n",
      "0  a   1   1\n",
      "1  a   1   1\n",
      "2  b   1   2\n",
      "3  a   2   2\n",
      "4  b   2   2\n",
      "\n",
      "\n",
      "0    False\n",
      "1     True\n",
      "2    False\n",
      "3    False\n",
      "4    False\n",
      "dtype: bool\n",
      "\n",
      "\n",
      "0    False\n",
      "1     True\n",
      "2     True\n",
      "3    False\n",
      "4     True\n",
      "Name: c2, dtype: bool\n"
     ]
    }
   ],
   "source": [
    "# <예제 5-6> 중복 데이터 확인\n",
    "\n",
    "import pandas as pd\n",
    "\n",
    "# 중복되는 데이터 만들기\n",
    "df = pd.DataFrame({\"c1\":[\"a\", \"a\", \"b\", \"a\", \"b\"],\n",
    "                 \"c2\":[1,1,1,2,2],\n",
    "                 \"c3\":[1,1,2,2,2]})\n",
    "print(df)\n",
    "\n",
    "print(\"\\n\")\n",
    "\n",
    "# 중복되는 데이터 확인\n",
    "df_dup = df.duplicated()\n",
    "\n",
    "print(df_dup)\n",
    "\n",
    "print(\"\\n\")\n",
    "\n",
    "# 특정 열에서 중복되는 데이터 확인\n",
    "col_dup = df[\"c2\"].duplicated()\n",
    "print(col_dup)"
   ]
  },
  {
   "cell_type": "markdown",
   "metadata": {},
   "source": [
    "중복 데이터 제거\n",
    "- .drop_duplicates()\n",
    "    - 원본 객체 변경 시 \n",
    "        - inplace = True 옵션\n",
    "    - 특정 열을 기준으로 중복 행 제거\n",
    "        - subset = [특정 열의 리스트] 옵션"
   ]
  },
  {
   "cell_type": "code",
   "execution_count": 7,
   "metadata": {
    "scrolled": true
   },
   "outputs": [
    {
     "name": "stdout",
     "output_type": "stream",
     "text": [
      "  c1  c2  c3\n",
      "0  a   1   1\n",
      "1  a   1   1\n",
      "2  b   1   2\n",
      "3  a   2   2\n",
      "4  b   2   2\n",
      "\n",
      "\n",
      "  c1  c2  c3\n",
      "0  a   1   1\n",
      "2  b   1   2\n",
      "3  a   2   2\n",
      "4  b   2   2\n",
      "\n",
      "\n",
      "  c1  c2  c3\n",
      "0  a   1   1\n",
      "2  b   1   2\n",
      "3  a   2   2\n"
     ]
    }
   ],
   "source": [
    "# <예제 5-7> 중복 데이터 제거\n",
    "\n",
    "import pandas as pd\n",
    "\n",
    "# 중복되는 데이터 만들기\n",
    "df = pd.DataFrame({\"c1\":[\"a\", \"a\", \"b\", \"a\", \"b\"],\n",
    "                 \"c2\":[1,1,1,2,2],\n",
    "                 \"c3\":[1,1,2,2,2]})\n",
    "print(df)\n",
    "print(\"\\n\")\n",
    "\n",
    "# 데이터프레임에서 중복 행 제거\n",
    "df2 = df.drop_duplicates()\n",
    "print(df2)\n",
    "print(\"\\n\")\n",
    "\n",
    "# 특정 열을 기준으로 행 제거\n",
    "df3 = df.drop_duplicates(subset=[\"c2\",\"c3\"])\n",
    "print(df3)"
   ]
  }
 ],
 "metadata": {
  "kernelspec": {
   "display_name": "Python 3",
   "language": "python",
   "name": "python3"
  },
  "language_info": {
   "codemirror_mode": {
    "name": "ipython",
    "version": 3
   },
   "file_extension": ".py",
   "mimetype": "text/x-python",
   "name": "python",
   "nbconvert_exporter": "python",
   "pygments_lexer": "ipython3",
   "version": "3.8.3"
  }
 },
 "nbformat": 4,
 "nbformat_minor": 4
}
