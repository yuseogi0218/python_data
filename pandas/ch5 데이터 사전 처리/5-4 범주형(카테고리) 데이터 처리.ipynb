{
 "cells": [
  {
   "cell_type": "markdown",
   "metadata": {},
   "source": [
    "구간 분할\n",
    "- cut() 함수 활용\n",
    "    - x = 데이터 배열\n",
    "    - bins = 경계값 리스트\n",
    "        - count, bin_dividers = np.histogram(데이터 배열, bins = 나누려는 구간(bin) 개수)\n",
    "    - labels = bin 이름\n",
    "    - include_lowest = 첫 경계값 포함여부"
   ]
  },
  {
   "cell_type": "code",
   "execution_count": 2,
   "metadata": {},
   "outputs": [
    {
     "name": "stdout",
     "output_type": "stream",
     "text": [
      "[ 46.         107.33333333 168.66666667 230.        ]\n",
      "\n",
      "\n",
      "    horsepower hp_bin\n",
      "0        130.0   보통출력\n",
      "1        165.0   보통출력\n",
      "2        150.0   보통출력\n",
      "3        150.0   보통출력\n",
      "4        140.0   보통출력\n",
      "5        198.0    고출력\n",
      "6        220.0    고출력\n",
      "7        215.0    고출력\n",
      "8        225.0    고출력\n",
      "9        190.0    고출력\n",
      "10       170.0    고출력\n",
      "11       160.0   보통출력\n",
      "12       150.0   보통출력\n",
      "13       225.0    고출력\n",
      "14        95.0    저출력\n"
     ]
    }
   ],
   "source": [
    "# <예제 5-10> 데이터 구간 분할\n",
    "\n",
    "import pandas as pd\n",
    "import numpy as np\n",
    "\n",
    "df = pd.read_csv(\"./auto-mpg.csv\", header = None)\n",
    "df.columns = [\"mpg\",\"cylinders\",\"displacement\",\"horsepower\",\"weight\",\n",
    "             \"acceleration\",\"model year\",\"origin\",\"name\"]\n",
    "\n",
    "df[\"horsepower\"].replace(\"?\", np.nan, inplace = True) # \"?\" -> NaN 변경\n",
    "df.dropna(subset=[\"horsepower\"], axis = 0, inplace =True) # 누락데이터 행 삭제\n",
    "df[\"horsepower\"]= df[\"horsepower\"].astype(\"float\") # 문자열을 실수형(float)으로 변환\n",
    "\n",
    "# np.histogram() 함수로 3개의 bin으로 나누는 경계값의 리스트 구하기\n",
    "count, bin_dividers = np.histogram(df[\"horsepower\"], bins = 3)\n",
    "print(bin_dividers)\n",
    "\n",
    "print(\"\\n\")\n",
    "\n",
    "# 3개의 bin에 이름 지정\n",
    "bin_names = [\"저출력\",\"보통출력\",\"고출력\"]\n",
    "\n",
    "#pd.cut 함수로 각 데이터를 3개의 bin에 할당하여 새로운 열(\"hp_bin\")에 저장\n",
    "df[\"hp_bin\"] = pd.cut(x = df[\"horsepower\"],\n",
    "                     bins= bin_dividers,\n",
    "                     labels = bin_names,\n",
    "                     include_lowest = True)\n",
    "\n",
    "print(df[[\"horsepower\",\"hp_bin\"]].head(15))"
   ]
  },
  {
   "cell_type": "markdown",
   "metadata": {},
   "source": [
    "더미 변수\n",
    "- one - hot - encoding (원핫인코딩)\n",
    "    - 컴퓨터가 인식할수 있도록 0과 1로만 구성되는 one hot vextor(원핫벡터)로 변환\n",
    "- 0 과 1로 표현\n",
    "    - 어떤 특성이 있는지 없는지 여부 표시\n",
    "    - 1(존재), 0(존재X)\n",
    "- pandas.get_dummies(범주형 데이터)\n",
    "    - 범주형 변수의 모든 고유값을 각각 새로운 더미 변수로 변환하여 반환"
   ]
  },
  {
   "cell_type": "code",
   "execution_count": 3,
   "metadata": {},
   "outputs": [
    {
     "name": "stdout",
     "output_type": "stream",
     "text": [
      "    저출력  보통출력  고출력\n",
      "0     0     1    0\n",
      "1     0     1    0\n",
      "2     0     1    0\n",
      "3     0     1    0\n",
      "4     0     1    0\n",
      "5     0     0    1\n",
      "6     0     0    1\n",
      "7     0     0    1\n",
      "8     0     0    1\n",
      "9     0     0    1\n",
      "10    0     0    1\n",
      "11    0     1    0\n",
      "12    0     1    0\n",
      "13    0     0    1\n",
      "14    1     0    0\n"
     ]
    }
   ],
   "source": [
    "# <예제 5-11> 더미 변수\n",
    "import pandas as pd\n",
    "import numpy as np\n",
    "\n",
    "df = pd.read_csv(\"./auto-mpg.csv\", header = None)\n",
    "df.columns = [\"mpg\",\"cylinders\",\"displacement\",\"horsepower\",\"weight\",\n",
    "             \"acceleration\",\"model year\",\"origin\",\"name\"]\n",
    "\n",
    "df[\"horsepower\"].replace(\"?\", np.nan, inplace = True) # \"?\" -> NaN 변경\n",
    "df.dropna(subset=[\"horsepower\"], axis = 0, inplace =True) # 누락데이터 행 삭제\n",
    "df[\"horsepower\"]= df[\"horsepower\"].astype(\"float\") # 문자열을 실수형(float)으로 변환\n",
    "\n",
    "# np.histogram() 함수로 3개의 bin으로 나누는 경계값의 리스트 구하기\n",
    "count, bin_dividers = np.histogram(df[\"horsepower\"], bins = 3)\n",
    "\n",
    "bin_names = [\"저출력\",\"보통출력\",\"고출력\"]\n",
    "\n",
    "\n",
    "df[\"hp_bin\"] = pd.cut(x = df[\"horsepower\"],\n",
    "                     bins= bin_dividers,\n",
    "                     labels = bin_names,\n",
    "                     include_lowest = True)\n",
    "\n",
    "# hp_bin 열의 범주형 데이터를 더미 변수로 변환\n",
    "horsepower_dummies = pd.get_dummies(df[\"hp_bin\"])\n",
    "print(horsepower_dummies.head(15))"
   ]
  },
  {
   "cell_type": "markdown",
   "metadata": {},
   "source": [
    "원핫인 코딩 (sklearn 라이브러리 이용)\n",
    "- 범주형 데이터를 0,1를 원소로 갖는 원핫벡터로 변환"
   ]
  }
 ],
 "metadata": {
  "kernelspec": {
   "display_name": "Python 3",
   "language": "python",
   "name": "python3"
  },
  "language_info": {
   "codemirror_mode": {
    "name": "ipython",
    "version": 3
   },
   "file_extension": ".py",
   "mimetype": "text/x-python",
   "name": "python",
   "nbconvert_exporter": "python",
   "pygments_lexer": "ipython3",
   "version": "3.8.3"
  }
 },
 "nbformat": 4,
 "nbformat_minor": 4
}
