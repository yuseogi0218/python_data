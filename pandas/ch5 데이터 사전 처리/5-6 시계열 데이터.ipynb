{
 "cells": [
  {
   "cell_type": "markdown",
   "metadata": {},
   "source": [
    "시계열 데이터\n",
    "- 시간 표시방식\n",
    "    - Timestamp\n",
    "        - 특정한 시점을 기록\n",
    "    - Period\n",
    "        - 두 지점 사이의 일정한 기간을 나타냄"
   ]
  },
  {
   "cell_type": "markdown",
   "metadata": {},
   "source": [
    "다른 자료형을 시계열 객체(Timestamp)로 변환\n",
    "- 문자열등 다른 자료형을 Timestamp로 변환\n",
    "    - 판다스 to_datetime(데이터) 함수 사용\n",
    "    "
   ]
  },
  {
   "cell_type": "code",
   "execution_count": 4,
   "metadata": {},
   "outputs": [
    {
     "name": "stdout",
     "output_type": "stream",
     "text": [
      "         Date  Close  Start   High    Low  Volume\n",
      "0  2018-07-02  10100  10850  10900  10000  137977\n",
      "1  2018-06-29  10700  10550  10900   9990  170253\n",
      "2  2018-06-28  10400  10900  10950  10150  155769\n",
      "3  2018-06-27  10900  10800  11050  10500  133548\n",
      "4  2018-06-26  10800  10900  11000  10700   63039\n",
      "\n",
      "\n",
      "<class 'pandas.core.frame.DataFrame'>\n",
      "RangeIndex: 20 entries, 0 to 19\n",
      "Data columns (total 6 columns):\n",
      " #   Column  Non-Null Count  Dtype \n",
      "---  ------  --------------  ----- \n",
      " 0   Date    20 non-null     object\n",
      " 1   Close   20 non-null     int64 \n",
      " 2   Start   20 non-null     int64 \n",
      " 3   High    20 non-null     int64 \n",
      " 4   Low     20 non-null     int64 \n",
      " 5   Volume  20 non-null     int64 \n",
      "dtypes: int64(5), object(1)\n",
      "memory usage: 1.1+ KB\n",
      "None\n",
      "         Date  Close  Start   High    Low  Volume   new_Date\n",
      "0  2018-07-02  10100  10850  10900  10000  137977 2018-07-02\n",
      "1  2018-06-29  10700  10550  10900   9990  170253 2018-06-29\n",
      "2  2018-06-28  10400  10900  10950  10150  155769 2018-06-28\n",
      "3  2018-06-27  10900  10800  11050  10500  133548 2018-06-27\n",
      "4  2018-06-26  10800  10900  11000  10700   63039 2018-06-26\n",
      "\n",
      "\n",
      "<class 'pandas.core.frame.DataFrame'>\n",
      "RangeIndex: 20 entries, 0 to 19\n",
      "Data columns (total 7 columns):\n",
      " #   Column    Non-Null Count  Dtype         \n",
      "---  ------    --------------  -----         \n",
      " 0   Date      20 non-null     object        \n",
      " 1   Close     20 non-null     int64         \n",
      " 2   Start     20 non-null     int64         \n",
      " 3   High      20 non-null     int64         \n",
      " 4   Low       20 non-null     int64         \n",
      " 5   Volume    20 non-null     int64         \n",
      " 6   new_Date  20 non-null     datetime64[ns]\n",
      "dtypes: datetime64[ns](1), int64(5), object(1)\n",
      "memory usage: 1.2+ KB\n",
      "None\n",
      "\n",
      "\n",
      "            Close  Start   High    Low  Volume\n",
      "new_Date                                      \n",
      "2018-07-02  10100  10850  10900  10000  137977\n",
      "2018-06-29  10700  10550  10900   9990  170253\n",
      "2018-06-28  10400  10900  10950  10150  155769\n",
      "2018-06-27  10900  10800  11050  10500  133548\n",
      "2018-06-26  10800  10900  11000  10700   63039\n"
     ]
    }
   ],
   "source": [
    "# <예제 5-15> 문자열을 Timestamp로 변환\n",
    "\n",
    "import pandas as pd\n",
    "df = pd.read_csv(\"./stock-data.csv\")\n",
    "\n",
    "print(df.head())\n",
    "print(\"\\n\")\n",
    "print(df.info())\n",
    "\n",
    "# Data열(문자열)을 시계열 객체로 변환하여 새로운 열(df[\"new_Date\"])에 넣음\n",
    "df[\"new_Date\"] = pd.to_datetime(df[\"Date\"])\n",
    "\n",
    "print(df.head())\n",
    "print(\"\\n\")\n",
    "print(df.info())\n",
    "\n",
    "print(\"\\n\")\n",
    "\n",
    "# Date열을 제거후 new_Date열을 행 인덱스로 지정\n",
    "df.drop(\"Date\",axis = 1,inplace = True)\n",
    "df.set_index(\"new_Date\",inplace = True)\n",
    "\n",
    "print(df.head())"
   ]
  },
  {
   "cell_type": "markdown",
   "metadata": {},
   "source": [
    "Timestamp를 Period로 변환\n",
    "- 판다스 to_period()함수 사용\n",
    "    - freq = 옵션 : 기준이 되는 기간 설정\n",
    "        - ex) \"D\" : 1일, \"M\" : 한달, \"A\" : 1년"
   ]
  },
  {
   "cell_type": "code",
   "execution_count": 4,
   "metadata": {},
   "outputs": [
    {
     "name": "stdout",
     "output_type": "stream",
     "text": [
      "PeriodIndex(['2019-01-01', '2020-03-01', '2021-06-01'], dtype='period[D]', freq='D')\n",
      "PeriodIndex(['2019-01', '2020-03', '2021-06'], dtype='period[M]', freq='M')\n",
      "PeriodIndex(['2019', '2020', '2021'], dtype='period[A-DEC]', freq='A-DEC')\n"
     ]
    }
   ],
   "source": [
    "# <예제5-16> Tiemstamp를 Period로변환\n",
    "\n",
    "import pandas as pd\n",
    "\n",
    "dates = [\"2019-01-01\",\"2020-03-01\",\"2021-06-01\"]\n",
    "\n",
    "# 문자열을 판다스 Timestamp로 변환\n",
    "ts_dates =pd.to_datetime(dates)\n",
    "\n",
    "# Timestamp를 Period로 변환\n",
    "pr_day = ts_dates.to_period(freq = \"D\")\n",
    "print(pr_day)\n",
    "pr_month = ts_dates.to_period(freq = \"M\")\n",
    "print(pr_month)\n",
    "pr_year = ts_dates.to_period(freq = \"A\")\n",
    "print(pr_year)"
   ]
  },
  {
   "cell_type": "markdown",
   "metadata": {},
   "source": [
    "시계열 데이터 만들기\n",
    "- Timestamp 배열\n",
    "    - 판다스 date_range() 함수 사용\n",
    "        - start = 날짜 범위 시작\n",
    "        - end = 날짜 범위 끝\n",
    "        - periods = 생성할 Timestamp 개수\n",
    "        - freq = 시간 간격\n",
    "            - \"MS\" = 월의 시작일\n",
    "            - \"M\" = 월의 마지막 날\n",
    "            - \"3M\" = 3개월 간격의 마지막 날\n",
    "        - tz = 시간대(timezone)\n",
    "            - \"Asia/Seoul\" 한국 시간대\n",
    "\n",
    "\n",
    "- Period 배열\n",
    "    - 판다스 period_range() 함수 사용\n",
    "        - start = 날짜 범위 시작\n",
    "        - end = 날짜 범위 끝\n",
    "        - periods = 생성할 Period 개수\n",
    "        - freq = 시간 간격\n",
    "            - \"MS\" = 월의 시작일\n",
    "            - \"H\" = 1시간 시작\n",
    "            - \"3H\" = 3시간 간격\n",
    "        - tz = 시간대(timezone)\n",
    "            - \"Asia/Seoul\" 한국 시간대"
   ]
  },
  {
   "cell_type": "code",
   "execution_count": 10,
   "metadata": {},
   "outputs": [
    {
     "name": "stdout",
     "output_type": "stream",
     "text": [
      "DatetimeIndex(['2019-01-01 00:00:00+09:00', '2019-02-01 00:00:00+09:00',\n",
      "               '2019-03-01 00:00:00+09:00', '2019-04-01 00:00:00+09:00',\n",
      "               '2019-05-01 00:00:00+09:00', '2019-06-01 00:00:00+09:00'],\n",
      "              dtype='datetime64[ns, Asia/Seoul]', freq='MS')\n"
     ]
    }
   ],
   "source": [
    "# <예제 5-17> Timestamp 배열 만들기\n",
    "\n",
    "import pandas as pd\n",
    "\n",
    "# Timestamp 배열 만들기\n",
    "ts_ms = pd.date_range(start = \"2019-01-01\",\n",
    "                     end = None,\n",
    "                     periods = 6,\n",
    "                     freq = \"MS\",\n",
    "                     tz = \"Asia/Seoul\")\n",
    "print(ts_ms)"
   ]
  },
  {
   "cell_type": "code",
   "execution_count": 12,
   "metadata": {},
   "outputs": [
    {
     "name": "stdout",
     "output_type": "stream",
     "text": [
      "PeriodIndex(['2019-01', '2019-02', '2019-03'], dtype='period[M]', freq='M')\n",
      "\n",
      "\n",
      "PeriodIndex(['2019-01-01 00:00', '2019-01-01 02:00', '2019-01-01 04:00'], dtype='period[2H]', freq='2H')\n"
     ]
    }
   ],
   "source": [
    "# <예제 5-18> Period 배열 만들기\n",
    "\n",
    "import pandas as pd\n",
    "\n",
    "# Period 배열 만들기\n",
    "\n",
    "pr_m = pd.period_range(start = \"2019-01-01\",\n",
    "                      end =None,\n",
    "                      periods = 3,\n",
    "                      freq = \"M\")\n",
    "\n",
    "print(pr_m)\n",
    "\n",
    "print(\"\\n\")\n",
    "\n",
    "# period 배열 만들기 - 2시간 길이\n",
    "pr_2h = pd.period_range(start = \"2019-01-01\",\n",
    "                      end =None,\n",
    "                      periods = 3,\n",
    "                      freq = \"2H\")\n",
    "\n",
    "print(pr_2h)"
   ]
  },
  {
   "cell_type": "markdown",
   "metadata": {},
   "source": [
    "시계열 데이터 활용\n",
    "- 날짜 데이터 분리\n",
    "    - 연-월-일 날짜 데이터에서 일부를 분리하여 추출\n",
    "        - 년, 월, 일 각각 추출\n",
    "            - dt속성 이용\n",
    "            - dt.year = 연도\n",
    "            - dt.month = 월\n",
    "            - dt.day = 일\n",
    "        - 연-월 또는 연도 추출\n",
    "            - dt.to_period()\n",
    "                - freq 옵션:\n",
    "                    - \"M\" : 연-월\n",
    "                    - \"A\" : 연도"
   ]
  },
  {
   "cell_type": "code",
   "execution_count": 15,
   "metadata": {},
   "outputs": [
    {
     "name": "stdout",
     "output_type": "stream",
     "text": [
      "         Date  Close  Start   High    Low  Volume   new_Date  Year  Month  Day\n",
      "0  2018-07-02  10100  10850  10900  10000  137977 2018-07-02  2018      7    2\n",
      "1  2018-06-29  10700  10550  10900   9990  170253 2018-06-29  2018      6   29\n",
      "2  2018-06-28  10400  10900  10950  10150  155769 2018-06-28  2018      6   28\n",
      "3  2018-06-27  10900  10800  11050  10500  133548 2018-06-27  2018      6   27\n",
      "4  2018-06-26  10800  10900  11000  10700   63039 2018-06-26  2018      6   26\n",
      "\n",
      "\n",
      "         Date  Close  Start   High    Low  Volume   new_Date  Year  Month  \\\n",
      "0  2018-07-02  10100  10850  10900  10000  137977 2018-07-02  2018      7   \n",
      "1  2018-06-29  10700  10550  10900   9990  170253 2018-06-29  2018      6   \n",
      "2  2018-06-28  10400  10900  10950  10150  155769 2018-06-28  2018      6   \n",
      "3  2018-06-27  10900  10800  11050  10500  133548 2018-06-27  2018      6   \n",
      "4  2018-06-26  10800  10900  11000  10700   63039 2018-06-26  2018      6   \n",
      "\n",
      "   Day   Date_m Date_yr  \n",
      "0    2  2018-07    2018  \n",
      "1   29  2018-06    2018  \n",
      "2   28  2018-06    2018  \n",
      "3   27  2018-06    2018  \n",
      "4   26  2018-06    2018  \n"
     ]
    }
   ],
   "source": [
    "# <예제 5-19> 날짜 데이터 분리\n",
    "\n",
    "import pandas as pd\n",
    "\n",
    "df = pd.read_csv(\"./stock-data.csv\")\n",
    "\n",
    "# 문자열인 Date열을 Timestamp로 변환하여 new_Date열 생성\n",
    "df[\"new_Date\"] = pd.to_datetime(df[\"Date\"])\n",
    "\n",
    "# dt속성을 이용하여 new_Date의 연-월-일 정보를 년,월,일 로 구분\n",
    "df[\"Year\"] = df[\"new_Date\"].dt.year\n",
    "df[\"Month\"] = df[\"new_Date\"].dt.month\n",
    "df[\"Day\"] = df[\"new_Date\"].dt.day\n",
    "\n",
    "print(df.head())\n",
    "\n",
    "print(\"\\n\")\n",
    "\n",
    "df[\"Date_m\"] = df[\"new_Date\"].dt.to_period(freq = \"M\")\n",
    "df[\"Date_yr\"] = df[\"new_Date\"].dt.to_period(freq = \"A\")\n",
    "\n",
    "print(df.head())"
   ]
  },
  {
   "cell_type": "markdown",
   "metadata": {},
   "source": [
    "시계열 데이터 활용\n",
    "- 날짜 인덱스 활용\n",
    "    - Timestamp -> 행 인덱스 -> DatetimeIndex 라는 고유 속성을 가짐\n",
    "        - 두 날짜 사이의 시간간격 계산 가능\n",
    "    - Period -> 행 인덱스 -> PeriodtimeIndex라는 고유 속성을 가짐\n",
    "    - 인덱싱과 슬라이싱이 편함\n",
    "        - 연도, 월, 일 따로 또는 같이 기준을 정할 수 있음\n",
    "        - 날짜 범위로 슬라이싱 추출 가능"
   ]
  },
  {
   "cell_type": "code",
   "execution_count": 16,
   "metadata": {},
   "outputs": [
    {
     "name": "stdout",
     "output_type": "stream",
     "text": [
      "                  Date  Close  Start   High    Low  Volume\n",
      "new_Date                                                  \n",
      "2018-07-02  2018-07-02  10100  10850  10900  10000  137977\n",
      "2018-06-29  2018-06-29  10700  10550  10900   9990  170253\n",
      "2018-06-28  2018-06-28  10400  10900  10950  10150  155769\n",
      "2018-06-27  2018-06-27  10900  10800  11050  10500  133548\n",
      "2018-06-26  2018-06-26  10800  10900  11000  10700   63039\n",
      "\n",
      "\n",
      "                  Date  Close  Start   High    Low  Volume\n",
      "new_Date                                                  \n",
      "2018-07-02  2018-07-02  10100  10850  10900  10000  137977\n",
      "\n",
      "\n",
      "            Start   High\n",
      "new_Date                \n",
      "2018-07-02  10850  10900\n",
      "\n",
      "\n",
      "                  Date  Close  Start   High    Low  Volume\n",
      "new_Date                                                  \n",
      "2018-07-02  2018-07-02  10100  10850  10900  10000  137977\n",
      "\n",
      "\n",
      "                  Date  Close  Start   High    Low  Volume\n",
      "new_Date                                                  \n",
      "2018-06-25  2018-06-25  11150  11400  11450  11000   55519\n",
      "2018-06-22  2018-06-22  11300  11250  11450  10750  134805\n",
      "2018-06-21  2018-06-21  11200  11350  11750  11200  133002\n",
      "2018-06-20  2018-06-20  11550  11200  11600  10900  308596\n",
      "\n",
      "\n",
      "                  Date  Close  Start   High    Low  Volume\n",
      "time_delta                                                \n",
      "180 days    2018-06-28  10400  10900  10950  10150  155769\n",
      "181 days    2018-06-27  10900  10800  11050  10500  133548\n",
      "182 days    2018-06-26  10800  10900  11000  10700   63039\n",
      "183 days    2018-06-25  11150  11400  11450  11000   55519\n",
      "186 days    2018-06-22  11300  11250  11450  10750  134805\n",
      "187 days    2018-06-21  11200  11350  11750  11200  133002\n",
      "188 days    2018-06-20  11550  11200  11600  10900  308596\n",
      "189 days    2018-06-19  11300  11850  11950  11300  180656\n"
     ]
    }
   ],
   "source": [
    "# <예제 5-20> 날짜 인덱스 활용\n",
    "\n",
    "import pandas as pd\n",
    "df = pd.read_csv(\"./stock-data.csv\")\n",
    "\n",
    "# 문자열인 날짜데이터를 Timestamp로 변환\n",
    "df[\"new_Date\"] = pd.to_datetime(df[\"Date\"])\n",
    "df.set_index(\"new_Date\",inplace =True)\n",
    "\n",
    "# 날짜 인덱스를 활용하여 데이터 선택\n",
    "df_y = df[\"2018\"]\n",
    "print(df_y.head())\n",
    "\n",
    "print(\"\\n\")\n",
    "\n",
    "# loc 인덱서 활용\n",
    "df_ym = df.loc[\"2018-07\"]\n",
    "print(df_ym)\n",
    "\n",
    "print(\"\\n\")\n",
    "\n",
    "# 열 범위 슬라이싱\n",
    "df_ym_cols= df.loc[\"2018-07\",'Start':'High']\n",
    "print(df_ym_cols)\n",
    "\n",
    "print(\"\\n\")\n",
    "\n",
    "df_ymd = df[\"2018-07-02\"]\n",
    "print(df_ymd)\n",
    "\n",
    "print(\"\\n\")\n",
    "\n",
    "# 날짜 범위 지정 - 슬라이싱\n",
    "df_ymd_range = df[\"2018-06-25\":\"2018-06-20\"]\n",
    "print(df_ymd_range)\n",
    "\n",
    "print(\"\\n\")\n",
    "\n",
    "# Timestamp 객체로 시간 간격계산\n",
    "# 최근 180~189일 사이의 값들만 선택하기\n",
    "today = pd.to_datetime(\"2018-12-25\") # 기준일생성\n",
    "df[\"time_delta\"] = today - df.index # 날짜 차이 생성\n",
    "df.set_index(\"time_delta\", inplace = True) # 행 인덱스 지정\n",
    "df_180 = df[\"180 days\":\"189 days\"] # 180~189 일 추출\n",
    "\n",
    "print(df_180)"
   ]
  }
 ],
 "metadata": {
  "kernelspec": {
   "display_name": "Python 3",
   "language": "python",
   "name": "python3"
  },
  "language_info": {
   "codemirror_mode": {
    "name": "ipython",
    "version": 3
   },
   "file_extension": ".py",
   "mimetype": "text/x-python",
   "name": "python",
   "nbconvert_exporter": "python",
   "pygments_lexer": "ipython3",
   "version": "3.8.3"
  }
 },
 "nbformat": 4,
 "nbformat_minor": 4
}
