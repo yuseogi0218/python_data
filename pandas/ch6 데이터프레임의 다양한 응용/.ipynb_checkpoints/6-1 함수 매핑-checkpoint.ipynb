{
 "cells": [
  {
   "cell_type": "markdown",
   "metadata": {},
   "source": [
    "함수 매핑\n",
    "- 시리즈 또는 데이터프레임 <-> 특정 함수\n",
    "    - 일대일 대응\n",
    "        - 함수\n",
    "        - 사용자가 직접만든 함수\n",
    "        - 람다 함수 가능\n"
   ]
  },
  {
   "cell_type": "markdown",
   "metadata": {},
   "source": [
    "개별 원소에 함수 매핑\n",
    "- 시리즈 원소에 함수 매핑\n",
    "    - 시리즈 객체.apply(매핑 함수)\n",
    "        - 람다 함수도 가능    "
   ]
  },
  {
   "cell_type": "code",
   "execution_count": 12,
   "metadata": {},
   "outputs": [
    {
     "name": "stdout",
     "output_type": "stream",
     "text": [
      "    age     fare  ten\n",
      "0  22.0   7.2500   10\n",
      "1  38.0  71.2833   10\n",
      "2  26.0   7.9250   10\n",
      "3  35.0  53.1000   10\n",
      "4  35.0   8.0500   10\n",
      "<class 'pandas.core.series.Series'>\n",
      "0    32.0\n",
      "1    48.0\n",
      "2    36.0\n",
      "3    45.0\n",
      "4    45.0\n",
      "Name: age, dtype: float64\n",
      "\n",
      "\n",
      "0    32.0\n",
      "1    48.0\n",
      "2    36.0\n",
      "3    45.0\n",
      "4    45.0\n",
      "Name: age, dtype: float64\n",
      "\n",
      "\n",
      "0    32.0\n",
      "1    48.0\n",
      "2    36.0\n",
      "3    45.0\n",
      "4    45.0\n",
      "Name: age, dtype: float64\n"
     ]
    }
   ],
   "source": [
    "# <예제 6-1> 시리즈의 원소에 apply()적용\n",
    "\n",
    "import seaborn as sns\n",
    "\n",
    "titanic = sns.load_dataset(\"titanic\")\n",
    "df = titanic.loc[:,[\"age\",\"fare\"]]\n",
    "df[\"ten\"] = 10\n",
    "print(df.head())\n",
    "\n",
    "# 사용자 함수 정의\n",
    "def add_10(n):\n",
    "    return n + 10\n",
    "\n",
    "def add_two_obj(a, b):\n",
    "    return a+ b\n",
    "\n",
    "# 시리즈 객체에 적용\n",
    "sr = df[\"age\"]\n",
    "print(type(df[\"age\"]))\n",
    "\n",
    "sr1 = sr.apply(add_10)\n",
    "print(sr1.head())\n",
    "\n",
    "print(\"\\n\")\n",
    "\n",
    "sr2 = sr.apply(add_two_obj, b = 10) # a = sr의 모든 원소\n",
    "print(sr2.head())\n",
    "\n",
    "print( \"\\n\")\n",
    "\n",
    "sr3 = sr.apply(lambda x: add_10(x)) # x = sr\n",
    "print(sr3.head())"
   ]
  },
  {
   "cell_type": "markdown",
   "metadata": {},
   "source": [
    "- 데이터프레임 원소에 함수 매핑\n",
    "    - 데이터프레임 객체.applymap(매핑 함수)"
   ]
  },
  {
   "cell_type": "code",
   "execution_count": 13,
   "metadata": {},
   "outputs": [
    {
     "name": "stdout",
     "output_type": "stream",
     "text": [
      "    age     fare\n",
      "0  22.0   7.2500\n",
      "1  38.0  71.2833\n",
      "2  26.0   7.9250\n",
      "3  35.0  53.1000\n",
      "4  35.0   8.0500\n",
      "\n",
      "\n",
      "    age     fare\n",
      "0  32.0  17.2500\n",
      "1  48.0  81.2833\n",
      "2  36.0  17.9250\n",
      "3  45.0  63.1000\n",
      "4  45.0  18.0500\n"
     ]
    }
   ],
   "source": [
    "# <예제 6-2> 데이터프레임 원소에 applymap() 적용\n",
    "\n",
    "import seaborn as sns\n",
    "\n",
    "titanic = sns.load_dataset(\"titanic\")\n",
    "df = titanic.loc[:,[\"age\",\"fare\"]]\n",
    "print(df.head())\n",
    "\n",
    "print(\"\\n\")\n",
    "\n",
    "def add_10(n):\n",
    "    return n+10\n",
    "\n",
    "# 데이터 프레임 원소에 함수 적용\n",
    "df1 = df.applymap(add_10)\n",
    "print(df1.head())"
   ]
  },
  {
   "cell_type": "markdown",
   "metadata": {},
   "source": [
    "시리즈 객체에 함수 매핑\n",
    "- 데이터프레임 각 열(시리즈)에 함수 매핑\n",
    "    - 데이터프레임 객체.apply(매핑 함수, axis = 0)"
   ]
  },
  {
   "cell_type": "code",
   "execution_count": 19,
   "metadata": {},
   "outputs": [
    {
     "name": "stdout",
     "output_type": "stream",
     "text": [
      "    age     fare\n",
      "0  22.0   7.2500\n",
      "1  38.0  71.2833\n",
      "2  26.0   7.9250\n",
      "3  35.0  53.1000\n",
      "4  35.0   8.0500\n"
     ]
    },
    {
     "data": {
      "text/html": [
       "<div>\n",
       "<style scoped>\n",
       "    .dataframe tbody tr th:only-of-type {\n",
       "        vertical-align: middle;\n",
       "    }\n",
       "\n",
       "    .dataframe tbody tr th {\n",
       "        vertical-align: top;\n",
       "    }\n",
       "\n",
       "    .dataframe thead th {\n",
       "        text-align: right;\n",
       "    }\n",
       "</style>\n",
       "<table border=\"1\" class=\"dataframe\">\n",
       "  <thead>\n",
       "    <tr style=\"text-align: right;\">\n",
       "      <th></th>\n",
       "      <th>age</th>\n",
       "      <th>fare</th>\n",
       "    </tr>\n",
       "  </thead>\n",
       "  <tbody>\n",
       "    <tr>\n",
       "      <th>0</th>\n",
       "      <td>False</td>\n",
       "      <td>False</td>\n",
       "    </tr>\n",
       "    <tr>\n",
       "      <th>1</th>\n",
       "      <td>False</td>\n",
       "      <td>False</td>\n",
       "    </tr>\n",
       "    <tr>\n",
       "      <th>2</th>\n",
       "      <td>False</td>\n",
       "      <td>False</td>\n",
       "    </tr>\n",
       "    <tr>\n",
       "      <th>3</th>\n",
       "      <td>False</td>\n",
       "      <td>False</td>\n",
       "    </tr>\n",
       "    <tr>\n",
       "      <th>4</th>\n",
       "      <td>False</td>\n",
       "      <td>False</td>\n",
       "    </tr>\n",
       "    <tr>\n",
       "      <th>...</th>\n",
       "      <td>...</td>\n",
       "      <td>...</td>\n",
       "    </tr>\n",
       "    <tr>\n",
       "      <th>886</th>\n",
       "      <td>False</td>\n",
       "      <td>False</td>\n",
       "    </tr>\n",
       "    <tr>\n",
       "      <th>887</th>\n",
       "      <td>False</td>\n",
       "      <td>False</td>\n",
       "    </tr>\n",
       "    <tr>\n",
       "      <th>888</th>\n",
       "      <td>True</td>\n",
       "      <td>False</td>\n",
       "    </tr>\n",
       "    <tr>\n",
       "      <th>889</th>\n",
       "      <td>False</td>\n",
       "      <td>False</td>\n",
       "    </tr>\n",
       "    <tr>\n",
       "      <th>890</th>\n",
       "      <td>False</td>\n",
       "      <td>False</td>\n",
       "    </tr>\n",
       "  </tbody>\n",
       "</table>\n",
       "<p>891 rows × 2 columns</p>\n",
       "</div>"
      ],
      "text/plain": [
       "       age   fare\n",
       "0    False  False\n",
       "1    False  False\n",
       "2    False  False\n",
       "3    False  False\n",
       "4    False  False\n",
       "..     ...    ...\n",
       "886  False  False\n",
       "887  False  False\n",
       "888   True  False\n",
       "889  False  False\n",
       "890  False  False\n",
       "\n",
       "[891 rows x 2 columns]"
      ]
     },
     "execution_count": 19,
     "metadata": {},
     "output_type": "execute_result"
    }
   ],
   "source": [
    "# <예제 6-3> 데이터프레임에 appy(매핑 함수, axis = 0) 적용\n",
    "\n",
    "import seaborn as sns\n",
    "titanic = sns.load_dataset(\"titanic\")\n",
    "df = titanic.loc[:,[\"age\",\"fare\"]]\n",
    "print(df.head())\n",
    "\n",
    "def missing_value(series):\n",
    "    return series.isnull()\n",
    "\n",
    "# 함수 적용하기\n",
    "df.apply(missing_value,axis = 0)"
   ]
  },
  {
   "cell_type": "markdown",
   "metadata": {},
   "source": [
    "- 데이터프레임 각 행에 함수 매핑\n",
    "    - 데이터프레임 객체.apply(매핑 함수,axis = 1)"
   ]
  },
  {
   "cell_type": "code",
   "execution_count": 26,
   "metadata": {},
   "outputs": [
    {
     "name": "stdout",
     "output_type": "stream",
     "text": [
      "    age     fare\n",
      "0  22.0   7.2500\n",
      "1  38.0  71.2833\n",
      "2  26.0   7.9250\n",
      "3  35.0  53.1000\n",
      "4  35.0   8.0500\n",
      "\n",
      "\n",
      "    age     fare       add\n",
      "0  22.0   7.2500   29.2500\n",
      "1  38.0  71.2833  109.2833\n",
      "2  26.0   7.9250   33.9250\n",
      "3  35.0  53.1000   88.1000\n",
      "4  35.0   8.0500   43.0500\n"
     ]
    }
   ],
   "source": [
    "# <예제 6-5> 데이터프레임에 appy(매핑 함수, axis = 1) 적용\n",
    "\n",
    "import seaborn as sns\n",
    "titanic = sns.load_dataset(\"titanic\")\n",
    "df = titanic.loc[:,[\"age\",\"fare\"]]\n",
    "print(df.head())\n",
    "\n",
    "print(\"\\n\")\n",
    "\n",
    "def add_two_obj(a,b):\n",
    "    return a+b\n",
    "\n",
    "# df의 행마다 함수적용하여 age + fare 를 \"add\"라는 새로운 열에 출력\n",
    "df[\"add\"] = df.apply(lambda x: add_two_obj(x[\"age\"],x[\"fare\"]),axis = 1)\n",
    "\n",
    "print(df.head())"
   ]
  },
  {
   "cell_type": "markdown",
   "metadata": {},
   "source": [
    "데이터프레임 객체에 함수 매핑\n",
    "- 데이터프레임 객체.pipe(매핑 함수)"
   ]
  },
  {
   "cell_type": "code",
   "execution_count": 30,
   "metadata": {},
   "outputs": [
    {
     "name": "stdout",
     "output_type": "stream",
     "text": [
      "     age   fare\n",
      "0  False  False\n",
      "1  False  False\n",
      "2  False  False\n",
      "3  False  False\n",
      "4  False  False\n",
      "\n",
      "\n",
      "age     177\n",
      "fare      0\n",
      "dtype: int64\n",
      "\n",
      "\n",
      "177\n"
     ]
    }
   ],
   "source": [
    "#<예제 6-6> 데이터프레임에 pipe(매핑함수) 적용\n",
    "\n",
    "import seaborn as sns\n",
    "titanic = sns.load_dataset(\"titanic\")\n",
    "df = titanic.loc[:,[\"age\",\"fare\"]]\n",
    "\n",
    "# 함수 생성\n",
    "# 각열의 NaN 찾기\n",
    "def missing_value(x):\n",
    "    return x.isnull()\n",
    "\n",
    "# 각 열의 NaN 개수 반환\n",
    "def missing_count(x):\n",
    "    return missing_value(x).sum()\n",
    "\n",
    "#데이터프레임의 총 NaN 개수\n",
    "def total_num_missing(x):\n",
    "    return missing_count(x).sum()\n",
    "\n",
    "# 데이터프레임에 함수 적용\n",
    "result_df = df.pipe(missing_value)\n",
    "print(result_df.head())\n",
    "\n",
    "print(\"\\n\")\n",
    "\n",
    "result_df = df.pipe(missing_count)\n",
    "print(result_df.head())\n",
    "\n",
    "print(\"\\n\")\n",
    "\n",
    "result_df = df.pipe(total_num_missing)\n",
    "print(result_df)"
   ]
  }
 ],
 "metadata": {
  "kernelspec": {
   "display_name": "Python 3",
   "language": "python",
   "name": "python3"
  },
  "language_info": {
   "codemirror_mode": {
    "name": "ipython",
    "version": 3
   },
   "file_extension": ".py",
   "mimetype": "text/x-python",
   "name": "python",
   "nbconvert_exporter": "python",
   "pygments_lexer": "ipython3",
   "version": "3.8.3"
  }
 },
 "nbformat": 4,
 "nbformat_minor": 4
}
