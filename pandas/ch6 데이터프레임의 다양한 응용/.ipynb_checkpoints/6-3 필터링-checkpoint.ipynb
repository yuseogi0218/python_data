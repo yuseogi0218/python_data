{
 "cells": [
  {
   "cell_type": "markdown",
   "metadata": {},
   "source": [
    "필터링\n",
    "- 데이터중 특정 조건식을 만족하는 원소만 따로 추출"
   ]
  },
  {
   "cell_type": "markdown",
   "metadata": {},
   "source": [
    "불린 인덱싱\n",
    "- 시리즈 객체에 조건식 적용 -> 불린 시리즈 반환\n",
    "- 데이터프레임 객체[불린 시리즈]"
   ]
  },
  {
   "cell_type": "code",
   "execution_count": 27,
   "metadata": {},
   "outputs": [
    {
     "name": "stdout",
     "output_type": "stream",
     "text": [
      "0      False\n",
      "1      False\n",
      "2      False\n",
      "3      False\n",
      "4      False\n",
      "       ...  \n",
      "886    False\n",
      "887     True\n",
      "888    False\n",
      "889    False\n",
      "890    False\n",
      "Name: age, Length: 891, dtype: bool\n",
      "    survived  pclass     sex   age  sibsp  parch      fare embarked   class  \\\n",
      "9          1       2  female  14.0      1      0   30.0708        C  Second   \n",
      "14         0       3  female  14.0      0      0    7.8542        S   Third   \n",
      "22         1       3  female  15.0      0      0    8.0292        Q   Third   \n",
      "27         0       1    male  19.0      3      2  263.0000        S   First   \n",
      "38         0       3  female  18.0      2      0   18.0000        S   Third   \n",
      "\n",
      "      who  adult_male deck  embark_town alive  alone  \n",
      "9   child       False  NaN    Cherbourg   yes  False  \n",
      "14  child       False  NaN  Southampton    no   True  \n",
      "22  child       False  NaN   Queenstown   yes   True  \n",
      "27    man        True    C  Southampton    no  False  \n",
      "38  woman       False  NaN  Southampton    no  False  \n",
      "\n",
      "\n",
      "     survived  pclass     sex  age  sibsp  parch     fare embarked   class  \\\n",
      "10          1       3  female  4.0      1      1  16.7000        S   Third   \n",
      "24          0       3  female  8.0      3      1  21.0750        S   Third   \n",
      "43          1       2  female  3.0      1      2  41.5792        C  Second   \n",
      "58          1       2  female  5.0      1      2  27.7500        S  Second   \n",
      "119         0       3  female  2.0      4      2  31.2750        S   Third   \n",
      "\n",
      "       who  adult_male deck  embark_town alive  alone  \n",
      "10   child       False    G  Southampton   yes  False  \n",
      "24   child       False  NaN  Southampton    no  False  \n",
      "43   child       False  NaN    Cherbourg   yes  False  \n",
      "58   child       False  NaN  Southampton   yes  False  \n",
      "119  child       False  NaN  Southampton    no  False  \n",
      "\n",
      "\n",
      "     age     sex  alone\n",
      "7    2.0    male  False\n",
      "10   4.0  female  False\n",
      "16   2.0    male  False\n",
      "24   8.0  female  False\n",
      "33  66.0    male   True\n"
     ]
    }
   ],
   "source": [
    "# <예제 6-9> 불린 인덱싱\n",
    "\n",
    "import seaborn as sns \n",
    "titanic = sns.load_dataset(\"titanic\")\n",
    "\n",
    "# 나이가 10대(10~19세)승객만 따로 선택\n",
    "mask1 = (10<= titanic.age) & (titanic.age < 20) # 불린 시리즈\n",
    "print(mask1)\n",
    "df_teenage = titanic.loc[mask1,:] # mask1 에서True 만 추출\n",
    "print(df_teenage.head())\n",
    "\n",
    "print(\"\\n\")\n",
    "\n",
    "# 나이가 10세 미만이고, 여성인 승객만 따로 선택\n",
    "mask2 = (titanic.age < 10) & (titanic.sex == \"female\")\n",
    "df_female_under10 = titanic.loc[mask2,:]\n",
    "print(df_female_under10.head())\n",
    "\n",
    "print(\"\\n\")\n",
    "\n",
    "# 나이가 10세 미만 또는 60세 이상인 승객의 age,sex,alone 열만 선택\n",
    "mask3 = (titanic.age< 10) | (titanic.age >= 60)\n",
    "df_under10_morethan60 = titanic.loc[mask3,[\"age\",\"sex\",\"alone\"]]\n",
    "print(df_under10_morethan60.head())"
   ]
  },
  {
   "cell_type": "markdown",
   "metadata": {},
   "source": [
    "isin() 메소드 활용\n",
    "- 데이터프레임 열 객체.isin(추출 값의 리스트)\n",
    "    - 불린 시리즈 반환\n",
    "- 데이터프레임 객체[불린시리즈] \n",
    "    - true에 해당한 행 추출\n",
    "- 특정 값을 가진 행들을 따로 추출"
   ]
  },
  {
   "cell_type": "code",
   "execution_count": 30,
   "metadata": {},
   "outputs": [
    {
     "name": "stdout",
     "output_type": "stream",
     "text": [
      "0    False\n",
      "1    False\n",
      "2    False\n",
      "3    False\n",
      "4    False\n",
      "Name: sibsp, dtype: bool\n",
      "    survived  pclass     sex   age  sibsp  parch      fare embarked  class  \\\n",
      "7          0       3    male   2.0      3      1   21.0750        S  Third   \n",
      "16         0       3    male   2.0      4      1   29.1250        Q  Third   \n",
      "24         0       3  female   8.0      3      1   21.0750        S  Third   \n",
      "27         0       1    male  19.0      3      2  263.0000        S  First   \n",
      "50         0       3    male   7.0      4      1   39.6875        S  Third   \n",
      "\n",
      "      who  adult_male deck  embark_town alive  alone  \n",
      "7   child       False  NaN  Southampton    no  False  \n",
      "16  child       False  NaN   Queenstown    no  False  \n",
      "24  child       False  NaN  Southampton    no  False  \n",
      "27    man        True    C  Southampton    no  False  \n",
      "50  child       False  NaN  Southampton    no  False  \n"
     ]
    }
   ],
   "source": [
    "# <예제 6-10> isin() 필터링\n",
    "# titanic 데이터셋에서 sibsp 열이 3,4,5 인 행들을 추출\n",
    "\n",
    "import seaborn as sns\n",
    "\n",
    "titanic = sns.load_dataset(\"titanic\")\n",
    "\n",
    "isin_titanic = titanic[\"sibsp\"].isin([3,4,5])\n",
    "print(isin_titanic.head())\n",
    "df_isin= titanic[isin_titanic]\n",
    "print(df_isin.head())"
   ]
  }
 ],
 "metadata": {
  "kernelspec": {
   "display_name": "Python 3",
   "language": "python",
   "name": "python3"
  },
  "language_info": {
   "codemirror_mode": {
    "name": "ipython",
    "version": 3
   },
   "file_extension": ".py",
   "mimetype": "text/x-python",
   "name": "python",
   "nbconvert_exporter": "python",
   "pygments_lexer": "ipython3",
   "version": "3.8.3"
  }
 },
 "nbformat": 4,
 "nbformat_minor": 4
}
