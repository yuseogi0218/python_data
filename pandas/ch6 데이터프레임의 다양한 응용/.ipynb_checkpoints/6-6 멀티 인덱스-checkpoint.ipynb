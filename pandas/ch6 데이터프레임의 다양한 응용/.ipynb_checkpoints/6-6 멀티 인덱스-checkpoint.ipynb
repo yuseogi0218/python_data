{
 "cells": [
  {
   "cell_type": "markdown",
   "metadata": {},
   "source": [
    "멀티 인덱스\n",
    "- 행 인덱스를 여러 레벨로 구현\n",
    "- 튜플 형태로 각 인덱스에서 찾는값을 전달."
   ]
  },
  {
   "cell_type": "code",
   "execution_count": 2,
   "metadata": {},
   "outputs": [
    {
     "name": "stdout",
     "output_type": "stream",
     "text": [
      "                     age        fare  survived\n",
      "class  sex                                    \n",
      "First  female  34.611765  106.125798  0.968085\n",
      "       male    41.281386   67.226127  0.368852\n",
      "Second female  28.722973   21.970121  0.921053\n",
      "       male    30.740707   19.741782  0.157407\n",
      "Third  female  21.750000   16.118810  0.500000\n",
      "       male    26.507589   12.661633  0.135447\n",
      "\n",
      "\n",
      "age          34.611765\n",
      "fare        106.125798\n",
      "survived      0.968085\n",
      "Name: (First, female), dtype: float64\n",
      "\n",
      "\n",
      "              age       fare  survived\n",
      "class                                 \n",
      "First   41.281386  67.226127  0.368852\n",
      "Second  30.740707  19.741782  0.157407\n",
      "Third   26.507589  12.661633  0.135447\n"
     ]
    }
   ],
   "source": [
    "# <예제 6-19> 멀티 인덱스\n",
    "\n",
    "import seaborn as sns\n",
    "import pandas as pd\n",
    "\n",
    "titanic = sns.load_dataset(\"titanic\")\n",
    "df = titanic.loc[:,[\"age\",\"sex\",\"class\",\"fare\",\"survived\"]]\n",
    "\n",
    "# class열, sex열 기준으로 분할\n",
    "grouped = df.groupby([\"class\",\"sex\"])\n",
    "\n",
    "# 그룹 객체에 연산 메소드 적용\n",
    "gdf = grouped.mean()\n",
    "print(gdf)\n",
    "\n",
    "print(\"\\n\")\n",
    "\n",
    "# class = First, sex = female 인 행을 선택하여 출력\n",
    "print(gdf.loc[(\"First\",\"female\")])\n",
    "\n",
    "print(\"\\n\")\n",
    "\n",
    "# xs인덱스 사용\n",
    "# sex값이 male인 행을 선택하여 출력\n",
    "print(gdf.xs(\"male\",level = \"sex\"))"
   ]
  }
 ],
 "metadata": {
  "kernelspec": {
   "display_name": "Python 3",
   "language": "python",
   "name": "python3"
  },
  "language_info": {
   "codemirror_mode": {
    "name": "ipython",
    "version": 3
   },
   "file_extension": ".py",
   "mimetype": "text/x-python",
   "name": "python",
   "nbconvert_exporter": "python",
   "pygments_lexer": "ipython3",
   "version": "3.8.3"
  }
 },
 "nbformat": 4,
 "nbformat_minor": 4
}
