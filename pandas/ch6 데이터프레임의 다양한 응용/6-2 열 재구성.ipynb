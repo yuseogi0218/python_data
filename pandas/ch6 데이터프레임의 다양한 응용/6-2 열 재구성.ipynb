{
 "cells": [
  {
   "cell_type": "markdown",
   "metadata": {},
   "source": [
    "열 순서 변경\n",
    "- 데이터프레임 객체[재구성한 열이름의 리스트]"
   ]
  },
  {
   "cell_type": "code",
   "execution_count": 16,
   "metadata": {},
   "outputs": [
    {
     "name": "stdout",
     "output_type": "stream",
     "text": [
      "   survived  pclass     sex   age\n",
      "0         0       3    male  22.0\n",
      "1         1       1  female  38.0\n",
      "2         1       3  female  26.0\n",
      "3         1       1  female  35.0\n",
      "4         0       3    male  35.0\n",
      "\n",
      "\n",
      "['survived', 'pclass', 'sex', 'age']\n",
      "\n",
      "\n",
      "   survived  pclass     sex   age\n",
      "0         0       3    male  22.0\n",
      "1         1       1  female  38.0\n",
      "2         1       3  female  26.0\n",
      "3         1       1  female  35.0\n",
      "4         0       3    male  35.0\n",
      "\n",
      "\n",
      "   survived  pclass     sex   age\n",
      "0         0       3    male  22.0\n",
      "1         1       1  female  38.0\n",
      "2         1       3  female  26.0\n",
      "3         1       1  female  35.0\n",
      "4         0       3    male  35.0\n",
      "\n",
      "\n",
      "   survived  pclass     sex   age\n",
      "0         0       3    male  22.0\n",
      "1         1       1  female  38.0\n",
      "2         1       3  female  26.0\n",
      "3         1       1  female  35.0\n",
      "4         0       3    male  35.0\n"
     ]
    }
   ],
   "source": [
    "# <예제 6-7> 열 순서 바꾸기\n",
    "\n",
    "import seaborn as sns\n",
    "titanic = sns.load_dataset(\"titanic\")\n",
    "df = titanic.loc[0:4,\"survived\":\"age\"]\n",
    "print(df)\n",
    "\n",
    "print(\"\\n\")\n",
    "\n",
    "# 기종 df의 열 이름 리스트 만들기\n",
    "columns = list(df.columns.values)\n",
    "print(columns)\n",
    "\n",
    "print(\"\\n\")\n",
    "\n",
    "# 열 이름 리스트 정렬하기\n",
    "columns_sorted = sorted(columns)\n",
    "\n",
    "# 열 순서 변경\n",
    "df[columns_sorted]\n",
    "print(df)\n",
    "\n",
    "print(\"\\n\")\n",
    "\n",
    "# 열 이름 리스트 뒤집기\n",
    "reverse_columns = list(reversed(columns))\n",
    "df[reverse_columns]\n",
    "print(df)\n",
    "\n",
    "print(\"\\n\")\n",
    "\n",
    "# 열 이름을 사용지 임의로 변경\n",
    "df[[\"pclass\",\"sex\",\"age\",\"survived\"]]\n",
    "print(df)"
   ]
  },
  {
   "cell_type": "markdown",
   "metadata": {},
   "source": [
    "열 분리\n",
    "- 시리즈 객체.str.get(인덱스)"
   ]
  },
  {
   "cell_type": "code",
   "execution_count": 5,
   "metadata": {},
   "outputs": [
    {
     "name": "stdout",
     "output_type": "stream",
     "text": [
      "<class 'pandas.core.series.Series'>\n"
     ]
    }
   ],
   "source": [
    "# <예제 6-8> 열 분리하기\n",
    "\n",
    "import pandas as pd\n",
    "df = pd.read_excel(\"./주가데이터.xlsx\")\n",
    "\n",
    "df[\"연월일\"] = df[\"연월일\"].astype(\"str\")# 시계열 데이터를 문자열로 변경 <- 문자열 메소드(str.split(\"\"))을 사용하기 위해\n",
    "dates = df[\"연월일\"].str.split(\"-\") # 문자열을 split() 메소드로 분리\n",
    "print(dates.head())\n",
    "\n",
    "# 분리된 정보를 각각 새로운 열에 담아줌\n",
    "df[\"열\"] = dates.str.get(0)\n",
    "df[\"월\"] = dates.str.get(1)\n",
    "df[\"일\"] = dates.str.get(2)\n",
    "\n",
    "print(df.head())"
   ]
  }
 ],
 "metadata": {
  "kernelspec": {
   "display_name": "Python 3",
   "language": "python",
   "name": "python3"
  },
  "language_info": {
   "codemirror_mode": {
    "name": "ipython",
    "version": 3
   },
   "file_extension": ".py",
   "mimetype": "text/x-python",
   "name": "python",
   "nbconvert_exporter": "python",
   "pygments_lexer": "ipython3",
   "version": "3.8.3"
  }
 },
 "nbformat": 4,
 "nbformat_minor": 4
}
