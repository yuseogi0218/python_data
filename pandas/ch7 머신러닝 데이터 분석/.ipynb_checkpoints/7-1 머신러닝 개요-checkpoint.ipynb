{
 "cells": [
  {
   "cell_type": "markdown",
   "metadata": {},
   "source": [
    "머신러닝이란?\n",
    "- 기계 스스로 데이터를 학습하여 서로 다른 변수간의 관계를 찾아 나가는 과정\n",
    "- 문제에 따라 예측, 분류, 군집 알고리즘 등으로 분류"
   ]
  },
  {
   "cell_type": "markdown",
   "metadata": {},
   "source": [
    "지도 학습 VS 비지도 학습\n",
    "- 지도 학습\n",
    "    - 정답 데이터가 있음\n",
    "    - 회귀분서, 분류,...\n",
    "- 비지도 학습\n",
    "    - 정답 데이터가 없음\n",
    "    - 군집, ..."
   ]
  },
  {
   "cell_type": "markdown",
   "metadata": {},
   "source": [
    "머신러닝 프로세스\n",
    "- 1) 데이터를 변환하는 작업\n",
    "    - 판다스 이용\n",
    "- 2) 모형 학습\n",
    "    - 훈련데이터 이용\n",
    "- 3) 예측\n",
    "    - 검증 데이터 이용\n",
    "- 4) 최종 모형 확정 -> 문제 해결"
   ]
  }
 ],
 "metadata": {
  "kernelspec": {
   "display_name": "Python 3",
   "language": "python",
   "name": "python3"
  },
  "language_info": {
   "codemirror_mode": {
    "name": "ipython",
    "version": 3
   },
   "file_extension": ".py",
   "mimetype": "text/x-python",
   "name": "python",
   "nbconvert_exporter": "python",
   "pygments_lexer": "ipython3",
   "version": "3.8.3"
  }
 },
 "nbformat": 4,
 "nbformat_minor": 4
}
