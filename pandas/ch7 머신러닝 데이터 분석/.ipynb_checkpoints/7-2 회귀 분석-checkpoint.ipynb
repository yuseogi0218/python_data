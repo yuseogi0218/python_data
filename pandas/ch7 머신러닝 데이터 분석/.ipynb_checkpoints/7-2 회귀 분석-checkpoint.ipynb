{
 "cells": [
  {
   "cell_type": "markdown",
   "metadata": {},
   "source": [
    "회귀 분석\n",
    "- 연속 변수를 예측하는데 주로활용\n",
    "    - 연속 변수 : 연속적인 값을 가짐\n",
    "- 분석 모형이 예측하고자 하는 목표\n",
    "    - 종속 변수 or 예측 변수\n",
    "- 예측을 위해 모형이 사용하는 속성\n",
    "    - 독립 변수 or 설명 변수"
   ]
  }
 ],
 "metadata": {
  "kernelspec": {
   "display_name": "Python 3",
   "language": "python",
   "name": "python3"
  },
  "language_info": {
   "codemirror_mode": {
    "name": "ipython",
    "version": 3
   },
   "file_extension": ".py",
   "mimetype": "text/x-python",
   "name": "python",
   "nbconvert_exporter": "python",
   "pygments_lexer": "ipython3",
   "version": "3.8.3"
  }
 },
 "nbformat": 4,
 "nbformat_minor": 4
}
