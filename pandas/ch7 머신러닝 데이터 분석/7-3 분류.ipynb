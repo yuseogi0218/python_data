{
 "cells": [
  {
   "cell_type": "markdown",
   "metadata": {},
   "source": [
    "분류\n",
    "- 입력 : 예측하려는 대상의 속성(설명 변수)\n",
    "- 목표변수가 갖고있는 카테고리(범주형)값 중 하나로 예측\n",
    "    - 0 or 1\n",
    "- 훈련 데이터 : 속성과 목표변수를 함께 갖고있음\n",
    "    - 지도 학습에 속함"
   ]
  }
 ],
 "metadata": {
  "kernelspec": {
   "display_name": "Python 3",
   "language": "python",
   "name": "python3"
  },
  "language_info": {
   "codemirror_mode": {
    "name": "ipython",
    "version": 3
   },
   "file_extension": ".py",
   "mimetype": "text/x-python",
   "name": "python",
   "nbconvert_exporter": "python",
   "pygments_lexer": "ipython3",
   "version": "3.8.3"
  }
 },
 "nbformat": 4,
 "nbformat_minor": 4
}
