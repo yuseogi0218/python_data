{
 "cells": [
  {
   "cell_type": "code",
   "execution_count": 1,
   "metadata": {},
   "outputs": [
    {
     "data": {
      "text/plain": [
       "'Hello World'"
      ]
     },
     "execution_count": 1,
     "metadata": {},
     "output_type": "execute_result"
    }
   ],
   "source": [
    "\"Hello World\"\n",
    "'Hello World'\n",
    "\"\"\"Hello World\"\"\"\n",
    "'''Hello World'''"
   ]
  },
  {
   "cell_type": "code",
   "execution_count": 2,
   "metadata": {},
   "outputs": [
    {
     "name": "stdout",
     "output_type": "stream",
     "text": [
      "Hello ' World\n"
     ]
    }
   ],
   "source": [
    "print(\"Hello ' World\")"
   ]
  },
  {
   "cell_type": "code",
   "execution_count": 3,
   "metadata": {},
   "outputs": [
    {
     "name": "stdout",
     "output_type": "stream",
     "text": [
      "\"python is very eas.\"he says.\n"
     ]
    }
   ],
   "source": [
    "print('\"python is very eas.\"he says.')"
   ]
  },
  {
   "cell_type": "code",
   "execution_count": 7,
   "metadata": {},
   "outputs": [
    {
     "name": "stdout",
     "output_type": "stream",
     "text": [
      "python's favorite food is perl\n",
      "\"python is very easy\"he says.\n"
     ]
    }
   ],
   "source": [
    "#백슬래시(\\) 사용하여 ', \" 문자열에 포함 시키기\n",
    "print('python\\'s favorite food is perl')\n",
    "print(\"\\\"python is very easy\\\"he says.\")"
   ]
  },
  {
   "cell_type": "code",
   "execution_count": 8,
   "metadata": {},
   "outputs": [
    {
     "name": "stdout",
     "output_type": "stream",
     "text": [
      "Life is short, \n",
      "you need python\n"
     ]
    }
   ],
   "source": [
    "#여러줄의 문자열 '\\n'\n",
    "print(\"Life is short, \\nyou need python\")"
   ]
  },
  {
   "cell_type": "code",
   "execution_count": 1,
   "metadata": {},
   "outputs": [
    {
     "name": "stdout",
     "output_type": "stream",
     "text": [
      "Life is short\n",
      "you need python\n"
     ]
    }
   ],
   "source": [
    "#여러줄의 문자열(\"\"\"\"\"\"),('''''')\n",
    "print(\"\"\"Life is short\n",
    "you need python\"\"\")"
   ]
  },
  {
   "cell_type": "code",
   "execution_count": 2,
   "metadata": {},
   "outputs": [
    {
     "name": "stdout",
     "output_type": "stream",
     "text": [
      "python.python python\n",
      "python\n"
     ]
    }
   ],
   "source": [
    "#print(\"\",end = \"\") <- (, 끝 마침 지정), 미 지정시 자동 줄 바꿈\n",
    "print(\"python\",end = \".\");print(\"python\",end = \" \");print(\"python\");print(\"python\")"
   ]
  },
  {
   "cell_type": "code",
   "execution_count": 11,
   "metadata": {},
   "outputs": [
    {
     "data": {
      "text/plain": [
       "'이스케이프 코드\\n\\n 줄 바꿈\\n\\t 탭 간격\\n\\\\ 문자 \\\\ 그대로 사용\\n\\', \" 문자 \\',\" 그대로 사용\\n'"
      ]
     },
     "execution_count": 11,
     "metadata": {},
     "output_type": "execute_result"
    }
   ],
   "source": [
    "'''이스케이프 코드\n",
    "\\n 줄 바꿈\n",
    "\\t 탭 간격\n",
    "\\\\ 문자 \\ 그대로 사용\n",
    "\\', \\\" 문자 ',\" 그대로 사용\n",
    "'''"
   ]
  },
  {
   "cell_type": "code",
   "execution_count": 12,
   "metadata": {},
   "outputs": [
    {
     "name": "stdout",
     "output_type": "stream",
     "text": [
      "pythonis fun\n",
      "pythonpython\n",
      "6\n"
     ]
    }
   ],
   "source": [
    "#문자열 연산\n",
    "head = \"python\"\n",
    "tail = \"is fun\"\n",
    "print(head + tail)\n",
    "print(head *2)\n",
    "\n",
    "#문자열 길이\n",
    "print(len(head))"
   ]
  },
  {
   "cell_type": "code",
   "execution_count": 13,
   "metadata": {},
   "outputs": [
    {
     "name": "stdout",
     "output_type": "stream",
     "text": [
      "L\n",
      "n\n",
      "L\n"
     ]
    }
   ],
   "source": [
    "#문자열 인덱싱(Indexing) -> 가리킨다.\n",
    "a = \"Life is too short, You need python\"\n",
    "print(a[0])\n",
    "print(a[-1])\n",
    "print(a[-0])"
   ]
  },
  {
   "cell_type": "code",
   "execution_count": 18,
   "metadata": {},
   "outputs": [
    {
     "name": "stdout",
     "output_type": "stream",
     "text": [
      "Life\n",
      "Lif\n",
      "You need python\n",
      "Life is too short\n",
      "Life is too short, You need python\n"
     ]
    }
   ],
   "source": [
    "#문자열 슬라이싱(Slicing) -> 잘라낸다.\n",
    "a = \"Life is too short, You need python\"\n",
    "b = a[0] + a[1] + a[2] + a[3]\n",
    "print(b)\n",
    "c = a[0:3] # 0 <= a < 3\n",
    "print(c)\n",
    "d = a[19:] # 19 <= a\n",
    "print(d)\n",
    "e = a[:17] # a < 17\n",
    "print(e)\n",
    "f = a[:] # a\n",
    "print(f)"
   ]
  },
  {
   "cell_type": "code",
   "execution_count": 20,
   "metadata": {},
   "outputs": [
    {
     "ename": "TypeError",
     "evalue": "'str' object does not support item assignment",
     "output_type": "error",
     "traceback": [
      "\u001b[1;31m---------------------------------------------------------------------------\u001b[0m",
      "\u001b[1;31mTypeError\u001b[0m                                 Traceback (most recent call last)",
      "\u001b[1;32m<ipython-input-20-c1e2fa49e212>\u001b[0m in \u001b[0;36m<module>\u001b[1;34m\u001b[0m\n\u001b[0;32m      1\u001b[0m \u001b[1;31m# pithon -> python 바꾸기\u001b[0m\u001b[1;33m\u001b[0m\u001b[1;33m\u001b[0m\u001b[1;33m\u001b[0m\u001b[0m\n\u001b[0;32m      2\u001b[0m \u001b[0ma\u001b[0m \u001b[1;33m=\u001b[0m \u001b[1;34m\"pithon\"\u001b[0m\u001b[1;33m\u001b[0m\u001b[1;33m\u001b[0m\u001b[0m\n\u001b[1;32m----> 3\u001b[1;33m \u001b[0ma\u001b[0m\u001b[1;33m[\u001b[0m\u001b[1;36m1\u001b[0m\u001b[1;33m]\u001b[0m \u001b[1;33m=\u001b[0m \u001b[1;34m\"y\"\u001b[0m\u001b[1;33m\u001b[0m\u001b[1;33m\u001b[0m\u001b[0m\n\u001b[0m\u001b[0;32m      4\u001b[0m \u001b[1;33m\u001b[0m\u001b[0m\n\u001b[0;32m      5\u001b[0m \u001b[0mprint\u001b[0m\u001b[1;33m(\u001b[0m\u001b[0ma\u001b[0m\u001b[1;33m)\u001b[0m\u001b[1;33m\u001b[0m\u001b[1;33m\u001b[0m\u001b[0m\n",
      "\u001b[1;31mTypeError\u001b[0m: 'str' object does not support item assignment"
     ]
    }
   ],
   "source": [
    "# pithon -> python 바꾸기 \n",
    "a = \"pithon\"\n",
    "a[1] = \"y\"\n",
    "\n",
    "print(a)\n",
    "\n",
    "# 문자열 자료형은 그 요솟값을 변경할수 없다. -> immutable 한 자료형"
   ]
  },
  {
   "cell_type": "code",
   "execution_count": 1,
   "metadata": {
    "scrolled": true
   },
   "outputs": [
    {
     "name": "stdout",
     "output_type": "stream",
     "text": [
      "python\n"
     ]
    }
   ],
   "source": [
    "a = \"pithon\"\n",
    "a = a[0] + \"y\" + a[2:]\n",
    "print(a)"
   ]
  },
  {
   "cell_type": "code",
   "execution_count": 2,
   "metadata": {},
   "outputs": [
    {
     "name": "stdout",
     "output_type": "stream",
     "text": [
      "02468\n",
      "9876543210\n"
     ]
    }
   ],
   "source": [
    "# 슬라이싱 [처음, 끝, 증감폭]\n",
    "a = \"0123456789\"\n",
    "print(a[0:10:2])\n",
    "print(a[::-1])"
   ]
  }
 ],
 "metadata": {
  "kernelspec": {
   "display_name": "Python 3",
   "language": "python",
   "name": "python3"
  },
  "language_info": {
   "codemirror_mode": {
    "name": "ipython",
    "version": 3
   },
   "file_extension": ".py",
   "mimetype": "text/x-python",
   "name": "python",
   "nbconvert_exporter": "python",
   "pygments_lexer": "ipython3",
   "version": "3.7.4"
  }
 },
 "nbformat": 4,
 "nbformat_minor": 2
}
