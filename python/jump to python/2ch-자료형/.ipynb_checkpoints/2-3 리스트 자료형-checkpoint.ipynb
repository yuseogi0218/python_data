{
 "cells": [
  {
   "cell_type": "code",
   "execution_count": 1,
   "metadata": {},
   "outputs": [],
   "source": [
    "#list (리스트) = 집합\n",
    "odd = [1,3,5,7,9] # <- [] 로 감싸주고, 각 요솟값을 쉼펴(,) 로 구분"
   ]
  },
  {
   "cell_type": "code",
   "execution_count": 2,
   "metadata": {},
   "outputs": [],
   "source": [
    "# 여러가지 리스트\n",
    "a = []\n",
    "b = [1,2,3]\n",
    "c = [\"life\", \"is\", \"too\", \"short\"]\n",
    "d = [1,2,\"life\", \"short\"]\n",
    "e = [1,2,[\"life\", \"short\"]]"
   ]
  },
  {
   "cell_type": "code",
   "execution_count": 2,
   "metadata": {},
   "outputs": [
    {
     "name": "stdout",
     "output_type": "stream",
     "text": [
      "1\n",
      "3\n",
      "3\n"
     ]
    }
   ],
   "source": [
    "# 리스트 인덱싱\n",
    "a = [1,2,3] # 0,1,2\n",
    "print(a[0])\n",
    "print(a[-1])\n",
    "print(a[0]+a[1]) # <- 리스트 각 요솟값 끼리의 연산 가능"
   ]
  },
  {
   "cell_type": "code",
   "execution_count": 3,
   "metadata": {},
   "outputs": [
    {
     "name": "stdout",
     "output_type": "stream",
     "text": [
      "[4, 5, 6]\n",
      "4\n"
     ]
    }
   ],
   "source": [
    "#이중 리스트\n",
    "a = [1,2,3,[4,5,6]]\n",
    "print(a[3])\n",
    "print(a[3][0])"
   ]
  },
  {
   "cell_type": "code",
   "execution_count": 1,
   "metadata": {},
   "outputs": [
    {
     "name": "stdout",
     "output_type": "stream",
     "text": [
      "[1, 2]\n",
      "[1, 2, 3]\n",
      "[2, 3, 4, 5]\n"
     ]
    }
   ],
   "source": [
    "#리스트 슬라이싱\n",
    "a = [1,2,3,4,5]\n",
    "print(a[0:2])\n",
    "print(a[:3])\n",
    "print(a[1:])"
   ]
  },
  {
   "cell_type": "code",
   "execution_count": 3,
   "metadata": {},
   "outputs": [
    {
     "name": "stdout",
     "output_type": "stream",
     "text": [
      "[3, [4, 5, 6]]\n",
      "[5, 6]\n"
     ]
    }
   ],
   "source": [
    "#중첩된 리스트 슬라이싱\n",
    "a = [1,2,3,[4,5,6]]\n",
    "print(a[2:])\n",
    "print(a[3][1:])"
   ]
  },
  {
   "cell_type": "code",
   "execution_count": 6,
   "metadata": {},
   "outputs": [
    {
     "name": "stdout",
     "output_type": "stream",
     "text": [
      "[1, 2, 3, 4, 5, 6]\n",
      "[1, 2, 3, 1, 2, 3, 1, 2, 3]\n",
      "3\n"
     ]
    }
   ],
   "source": [
    "# 리스트 연산하기\n",
    "a = [1,2,3]\n",
    "b = [4,5,6]\n",
    "# 1. 더하기\n",
    "print(a + b)\n",
    "\n",
    "#2. 리스트 반복하기\n",
    "print(a*3)\n",
    "\n",
    "#3. 리스트 길이 구하기\n",
    "print(len(a))"
   ]
  },
  {
   "cell_type": "code",
   "execution_count": 7,
   "metadata": {},
   "outputs": [
    {
     "name": "stdout",
     "output_type": "stream",
     "text": [
      "[1, 2, 6, 4, 5]\n",
      "[1, 2, 6]\n"
     ]
    }
   ],
   "source": [
    "#리스트의 수정과 삭제\n",
    "a = [1,2,3,4,5]\n",
    "#1. 값 수정하기\n",
    "a[2]=6\n",
    "print(a)\n",
    "\n",
    "#2. del() 함수사용하여 값 지우기\n",
    "del a[3:]\n",
    "print(a)"
   ]
  },
  {
   "cell_type": "code",
   "execution_count": 11,
   "metadata": {
    "scrolled": true
   },
   "outputs": [
    {
     "name": "stdout",
     "output_type": "stream",
     "text": [
      "[1, 2, 3, 5, 4]\n",
      "[1, 2, 3, 4, 5]\n",
      "[5, 4, 3, 2, 1]\n"
     ]
    }
   ],
   "source": [
    "#리스트 관련 함수 1 \n",
    "a = [1,2,3,5]\n",
    "#1. append() 요소 추가\n",
    "a.append(4)\n",
    "print(a)\n",
    "\n",
    "#2. sort() 정렬\n",
    "a.sort()\n",
    "print(a)\n",
    "\n",
    "#3. reverse() 뒤집기\n",
    "a.reverse()\n",
    "print(a)"
   ]
  },
  {
   "cell_type": "code",
   "execution_count": 1,
   "metadata": {},
   "outputs": [
    {
     "name": "stdout",
     "output_type": "stream",
     "text": [
      "2\n",
      "[0, 1, 2, 3, 4, 5]\n",
      "[1, 2, 1, 2, 3]\n",
      "[1, 2]\n",
      "[2]\n"
     ]
    }
   ],
   "source": [
    "# 리스트 관련 함수 2\n",
    "a = [1,2,3,4,5]\n",
    "#1. index() 위치 반환\n",
    "print(a.index(3))\n",
    "#존재하지 않는 값 은 오류(valueError) 발생\n",
    "\n",
    "#2. insert() 요소 삽입\n",
    "a.insert(0,0) # <- (요소, 위치)\n",
    "print(a)\n",
    "\n",
    "#3. remove() 요소 지우기\n",
    "b = [1,2,3,1,2,3]\n",
    "b.remove(3) # <- 첫번째로 나오는 요솟값을 지운다.\n",
    "print(b)\n",
    "\n",
    "#4. pop() 요소 끄집어내기\n",
    "a = [1,2,3]\n",
    "a.pop(); print(a) # <- 맨 마지막 요소 빼기\n",
    "\n",
    "a.pop(0); print(a) # <- 0번째 요소 빼기\n"
   ]
  },
  {
   "cell_type": "code",
   "execution_count": 2,
   "metadata": {},
   "outputs": [
    {
     "name": "stdout",
     "output_type": "stream",
     "text": [
      "2\n",
      "[1, 2, 3, 1, 4, 5]\n"
     ]
    }
   ],
   "source": [
    "# 리스트 관련 함수 3\n",
    "a = [1,2,3,1]\n",
    "#1. count(x) 요소 x 의 개수 게시\n",
    "print(a.count(1))\n",
    "\n",
    "#2. extend() 확장\n",
    "a.extend([4,5])\n",
    "print(a)"
   ]
  }
 ],
 "metadata": {
  "kernelspec": {
   "display_name": "Python 3",
   "language": "python",
   "name": "python3"
  },
  "language_info": {
   "codemirror_mode": {
    "name": "ipython",
    "version": 3
   },
   "file_extension": ".py",
   "mimetype": "text/x-python",
   "name": "python",
   "nbconvert_exporter": "python",
   "pygments_lexer": "ipython3",
   "version": "3.7.4"
  }
 },
 "nbformat": 4,
 "nbformat_minor": 2
}
