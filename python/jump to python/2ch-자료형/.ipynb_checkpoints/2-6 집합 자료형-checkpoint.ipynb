{
 "cells": [
  {
   "cell_type": "code",
   "execution_count": 8,
   "metadata": {},
   "outputs": [
    {
     "name": "stdout",
     "output_type": "stream",
     "text": [
      "{1, 2, 3}\n",
      "{'l', 'e', 'o', 'H'}\n"
     ]
    }
   ],
   "source": [
    "'''\n",
    "집합 자료형 set()\n",
    "1. 중복을 허용 하지 않는다.\n",
    "2. 순서가 없다.(Unordered) -> 인덱싱을 통한 값을 얻어낼 수 없다.\n",
    "'''\n",
    "s1 = set([1,2,3])\n",
    "print(s1)\n",
    "\n",
    "s2 = set(\"Hello\")\n",
    "print(s2)"
   ]
  },
  {
   "cell_type": "code",
   "execution_count": 9,
   "metadata": {},
   "outputs": [
    {
     "name": "stdout",
     "output_type": "stream",
     "text": [
      "[1, 2, 3]\n",
      "(1, 2, 3)\n"
     ]
    }
   ],
   "source": [
    "a = set([1,2,3])\n",
    "# 집합 자료형 을 리스트로 변환\n",
    "list1 = list(a)\n",
    "print(list1)\n",
    "\n",
    "# 집합 자료형 을 튜플로 변환\n",
    "tuple1 = tuple(a)\n",
    "print(tuple1)"
   ]
  },
  {
   "cell_type": "code",
   "execution_count": 11,
   "metadata": {},
   "outputs": [
    {
     "name": "stdout",
     "output_type": "stream",
     "text": [
      "{4, 5, 6}\n",
      "{4, 5, 6}\n",
      "{1, 2, 3, 4, 5, 6, 7, 8, 9}\n",
      "{1, 2, 3, 4, 5, 6, 7, 8, 9}\n",
      "{1, 2, 3}\n",
      "{1, 2, 3}\n",
      "{8, 9, 7}\n",
      "{8, 9, 7}\n"
     ]
    }
   ],
   "source": [
    "a = set([1,2,3,4,5,6])\n",
    "b = set([4,5,6,7,8,9])\n",
    "\n",
    "# 교지합 & or intetsection()\n",
    "print(a&b)\n",
    "print(a.intersection(b))\n",
    "\n",
    "# 합집합 | or union\n",
    "print(a|b)\n",
    "print(a.union(b))\n",
    "\n",
    "# 차집합 - or difference\n",
    "print(a-b)\n",
    "print(a.difference(b))\n",
    "print(b-a)\n",
    "print(b.difference(a))"
   ]
  },
  {
   "cell_type": "code",
   "execution_count": 16,
   "metadata": {},
   "outputs": [
    {
     "name": "stdout",
     "output_type": "stream",
     "text": [
      "{0, 1, 2, 3, 4, 5}\n",
      "{0, 1, 2, 3, 4, 5, 6, 7, 8}\n",
      "{0, 1, 2, 3, 4, 6, 7, 8}\n"
     ]
    }
   ],
   "source": [
    "# 집합 자료형 관련 함수\n",
    "a = set([1,2,3,4,5])\n",
    "\n",
    "# 1. add() 값 한개 추가하기\n",
    "a.add(0)\n",
    "print(a)\n",
    "\n",
    "# 2. update() 값 여러개 추가하기\n",
    "a.update([6,7,8])\n",
    "print(a)\n",
    "\n",
    "# 4. remove() 특정 값 제거하기\n",
    "a.remove(5)\n",
    "print(a)"
   ]
  }
 ],
 "metadata": {
  "kernelspec": {
   "display_name": "Python 3",
   "language": "python",
   "name": "python3"
  },
  "language_info": {
   "codemirror_mode": {
    "name": "ipython",
    "version": 3
   },
   "file_extension": ".py",
   "mimetype": "text/x-python",
   "name": "python",
   "nbconvert_exporter": "python",
   "pygments_lexer": "ipython3",
   "version": "3.7.4"
  }
 },
 "nbformat": 4,
 "nbformat_minor": 2
}
