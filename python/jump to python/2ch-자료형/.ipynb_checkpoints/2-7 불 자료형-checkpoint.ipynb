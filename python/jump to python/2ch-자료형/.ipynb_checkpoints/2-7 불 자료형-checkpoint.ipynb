{
 "cells": [
  {
   "cell_type": "code",
   "execution_count": 1,
   "metadata": {},
   "outputs": [
    {
     "data": {
      "text/plain": [
       "'\\n불(bool) \\n=> True : 참\\n    False : 거짓'"
      ]
     },
     "execution_count": 1,
     "metadata": {},
     "output_type": "execute_result"
    }
   ],
   "source": [
    "'''\n",
    "불(bool) \n",
    "=> True : 참\n",
    "    False : 거짓'''\n",
    "\n",
    "# 문자열, 리스트, 튜플, 딕셔너리 -> 비어있으면 False\n",
    "# 숫자형 = 0 -> False"
   ]
  },
  {
   "cell_type": "code",
   "execution_count": 3,
   "metadata": {},
   "outputs": [
    {
     "name": "stdout",
     "output_type": "stream",
     "text": [
      "문자열\n",
      "True\n",
      "False\n",
      "리스트\n",
      "True\n",
      "False\n",
      "튜플\n",
      "True\n",
      "False\n",
      "딕셔너리\n",
      "True\n",
      "False\n",
      "숫자형\n",
      "True\n",
      "False\n"
     ]
    }
   ],
   "source": [
    "# bool() 불 연산 \n",
    "print(\"문자열\")\n",
    "print(bool(\"python\"))\n",
    "print(bool(\"\"))\n",
    "\n",
    "print(\"리스트\")\n",
    "print(bool([1,2,3]))\n",
    "print(bool([]))\n",
    "\n",
    "print(\"튜플\")\n",
    "print(bool((1,2,3)))\n",
    "print(bool(()))\n",
    "\n",
    "print(\"딕셔너리\")\n",
    "print(bool({1:'a'}))\n",
    "print(bool({}))\n",
    "\n",
    "print(\"숫자형\")\n",
    "print(bool(1))\n",
    "print(bool(0))"
   ]
  }
 ],
 "metadata": {
  "kernelspec": {
   "display_name": "Python 3",
   "language": "python",
   "name": "python3"
  },
  "language_info": {
   "codemirror_mode": {
    "name": "ipython",
    "version": 3
   },
   "file_extension": ".py",
   "mimetype": "text/x-python",
   "name": "python",
   "nbconvert_exporter": "python",
   "pygments_lexer": "ipython3",
   "version": "3.7.4"
  }
 },
 "nbformat": 4,
 "nbformat_minor": 2
}
