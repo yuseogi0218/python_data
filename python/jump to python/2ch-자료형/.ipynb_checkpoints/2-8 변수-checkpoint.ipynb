{
 "cells": [
  {
   "cell_type": "code",
   "execution_count": 3,
   "metadata": {},
   "outputs": [
    {
     "name": "stdout",
     "output_type": "stream",
     "text": [
      "1700330760840\n"
     ]
    }
   ],
   "source": [
    "'''\n",
    "변수 = \n",
    "변수 이름 = 변수에 저장할 값'''\n",
    "a = [1,2,3]\n",
    "print(id(a)) # 변수 a 가 가리키는 [1,2,3] 리스트 의 주소 값"
   ]
  },
  {
   "cell_type": "code",
   "execution_count": 6,
   "metadata": {},
   "outputs": [
    {
     "name": "stdout",
     "output_type": "stream",
     "text": [
      "1700330938440\n",
      "1700330938440\n",
      "True\n",
      "1700330933384\n",
      "1700330760840\n",
      "False\n"
     ]
    }
   ],
   "source": [
    "# 변수 복사\n",
    "a = [1,2,3]\n",
    "b = a\n",
    "print(id(a))\n",
    "print(id(b))\n",
    "print( a is b )\n",
    "\n",
    "a = [1,2,3]\n",
    "b = [1,2,3]\n",
    "print(id(a))\n",
    "print(id(b))\n",
    "print( a is b )"
   ]
  }
 ],
 "metadata": {
  "kernelspec": {
   "display_name": "Python 3",
   "language": "python",
   "name": "python3"
  },
  "language_info": {
   "codemirror_mode": {
    "name": "ipython",
    "version": 3
   },
   "file_extension": ".py",
   "mimetype": "text/x-python",
   "name": "python",
   "nbconvert_exporter": "python",
   "pygments_lexer": "ipython3",
   "version": "3.7.4"
  }
 },
 "nbformat": 4,
 "nbformat_minor": 2
}
