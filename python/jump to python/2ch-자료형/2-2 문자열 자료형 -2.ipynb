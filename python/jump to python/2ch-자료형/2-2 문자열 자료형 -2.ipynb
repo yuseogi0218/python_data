{
 "cells": [
  {
   "cell_type": "code",
   "execution_count": 1,
   "metadata": {},
   "outputs": [
    {
     "name": "stdout",
     "output_type": "stream",
     "text": [
      "I eat 3 apples\n",
      "I eat five apples\n"
     ]
    }
   ],
   "source": [
    "#문자열 포매팅 -> 문자열 안의 특정한 값을 바꾼다.\n",
    "print(\"I eat %d apples\" %3)\n",
    "print(\"I eat %s apples\" % \"five\")"
   ]
  },
  {
   "cell_type": "code",
   "execution_count": 2,
   "metadata": {},
   "outputs": [
    {
     "name": "stdout",
     "output_type": "stream",
     "text": [
      "I eat 3 apples \n"
     ]
    }
   ],
   "source": [
    "# 변수 대입\n",
    "number = 3\n",
    "print (\"I eat %d apples \" %number)"
   ]
  },
  {
   "cell_type": "code",
   "execution_count": 6,
   "metadata": {},
   "outputs": [
    {
     "name": "stdout",
     "output_type": "stream",
     "text": [
      " I eat 10 apples. so I was sick for three days\n"
     ]
    }
   ],
   "source": [
    "# 2 개 이상의 값 넣기\n",
    "number = 10\n",
    "day  = \"three\"\n",
    "print(\" I eat %d apples. so I was sick for %s days\" %(number, day))"
   ]
  },
  {
   "cell_type": "code",
   "execution_count": 7,
   "metadata": {},
   "outputs": [],
   "source": [
    "# %s -> 어떤 형태의 값이든 변환하여 넣어준다.\n",
    "# -> %s 는 자동으로 % 뒤에 있는 값을 문자열로 바꿔준다."
   ]
  },
  {
   "cell_type": "code",
   "execution_count": 8,
   "metadata": {},
   "outputs": [
    {
     "name": "stdout",
     "output_type": "stream",
     "text": [
      "Error is 98%\n"
     ]
    }
   ],
   "source": [
    "# 문자 % 사용은 %%\n",
    "print ( \"Error is %d%%\" % 98)"
   ]
  },
  {
   "cell_type": "code",
   "execution_count": 9,
   "metadata": {},
   "outputs": [],
   "source": [
    "# 포맷코드와 숫자 함께 사용하기"
   ]
  },
  {
   "cell_type": "code",
   "execution_count": 12,
   "metadata": {},
   "outputs": [
    {
     "name": "stdout",
     "output_type": "stream",
     "text": [
      "        hi\n",
      "hi         jane\n"
     ]
    }
   ],
   "source": [
    "# 1. 정렬과 공백\n",
    "print( \"%10s\" % \"hi\") # -> 전체길이가 10 개인 공간에서 대입되는 값을 오른쪽 정렬\n",
    "\n",
    "print(\"%-10s jane\" % \"hi\") # -> 전체길이가 10 개인 공간에서 대입되는 값을 왼쪽 정렬"
   ]
  },
  {
   "cell_type": "code",
   "execution_count": 19,
   "metadata": {},
   "outputs": [
    {
     "name": "stdout",
     "output_type": "stream",
     "text": [
      "3.4213\n",
      "    3.4213\n"
     ]
    }
   ],
   "source": [
    "# 2. 소수점 표현하기\n",
    "print ( \"%0.4f\"% 3.42134234) # -> 소수 4째 자리 까지 표시\n",
    "print ( \"%10.4f\" % 3.42134234) # -> 전체 길이 10개인 문자, 소수 4째 자리 까지 표시"
   ]
  },
  {
   "cell_type": "code",
   "execution_count": 20,
   "metadata": {},
   "outputs": [
    {
     "name": "stdout",
     "output_type": "stream",
     "text": [
      "I eat 3 apples\n",
      "I eat three apples\n",
      "I eat 3 apples\n"
     ]
    }
   ],
   "source": [
    "#format() 함수를 사용한 포매팅\n",
    "print(\"I eat {0} apples\".format(3))\n",
    "print(\"I eat {0} apples\".format(\"three\"))\n",
    "number = 3\n",
    "print(\"I eat {0} apples\".format(number))"
   ]
  },
  {
   "cell_type": "code",
   "execution_count": 21,
   "metadata": {},
   "outputs": [
    {
     "name": "stdout",
     "output_type": "stream",
     "text": [
      " I ate 10 apples. so I was sick for three days\n"
     ]
    }
   ],
   "source": [
    "# 2개 이상의 값 넣기\n",
    "number = 10\n",
    "day = \"three\"\n",
    "print(\" I ate {0} apples. so I was sick for {1} days\".format(number,day))"
   ]
  },
  {
   "cell_type": "code",
   "execution_count": 22,
   "metadata": {},
   "outputs": [
    {
     "name": "stdout",
     "output_type": "stream",
     "text": [
      " I ate 10 apples. so I was sick for three days\n"
     ]
    }
   ],
   "source": [
    "# 이름으로 넣기\n",
    "print( \" I ate {number} apples. so I was sick for {day} days\".format(number = 10, day = \"three\"))"
   ]
  },
  {
   "cell_type": "code",
   "execution_count": 23,
   "metadata": {},
   "outputs": [
    {
     "name": "stdout",
     "output_type": "stream",
     "text": [
      " I ate 10 apples. so I was sick for three days\n"
     ]
    }
   ],
   "source": [
    "# 인덱스와 이름을 혼용해서 넣기\n",
    "print(\" I ate {0} apples. so I was sick for {day} days\".format(10,day = \"three\"))"
   ]
  },
  {
   "cell_type": "code",
   "execution_count": 26,
   "metadata": {},
   "outputs": [
    {
     "name": "stdout",
     "output_type": "stream",
     "text": [
      "hi        \n",
      "10\n"
     ]
    }
   ],
   "source": [
    "# 왼쪽 정렬\n",
    "a = \"{0:<10}\".format(\"hi\")\n",
    "print(a)\n",
    "print(len(a))"
   ]
  },
  {
   "cell_type": "code",
   "execution_count": 27,
   "metadata": {},
   "outputs": [
    {
     "name": "stdout",
     "output_type": "stream",
     "text": [
      "        hi\n",
      "10\n"
     ]
    }
   ],
   "source": [
    "#오른쪽 정렬\n",
    "a = \"{0:>10}\".format(\"hi\")\n",
    "print(a)\n",
    "print(len(a))"
   ]
  },
  {
   "cell_type": "code",
   "execution_count": 30,
   "metadata": {},
   "outputs": [
    {
     "name": "stdout",
     "output_type": "stream",
     "text": [
      "    hi    \n",
      "10\n"
     ]
    }
   ],
   "source": [
    "# 가운데 정렬\n",
    "a = \"{0:^10}\".format(\"hi\")\n",
    "print(a)\n",
    "print(len(a))"
   ]
  },
  {
   "cell_type": "code",
   "execution_count": 32,
   "metadata": {},
   "outputs": [
    {
     "name": "stdout",
     "output_type": "stream",
     "text": [
      "====hi====\n",
      "hi!!!!!!!!\n"
     ]
    }
   ],
   "source": [
    "# 공백 채우기\n",
    "print(\"{0:=^10}\".format(\"hi\"))\n",
    "print(\"{0:!<10}\".format(\"hi\"))"
   ]
  },
  {
   "cell_type": "code",
   "execution_count": 35,
   "metadata": {},
   "outputs": [
    {
     "name": "stdout",
     "output_type": "stream",
     "text": [
      "3.4213\n",
      "    3.4213\n",
      "10\n"
     ]
    }
   ],
   "source": [
    "# 소수점 표현하기\n",
    "y = 3.42134234\n",
    "print(\"{0:0.4f}\".format(y))\n",
    "a = \"{0:10.4f}\".format(y)\n",
    "print(a)\n",
    "print(len(a))"
   ]
  },
  {
   "cell_type": "code",
   "execution_count": 38,
   "metadata": {},
   "outputs": [
    {
     "name": "stdout",
     "output_type": "stream",
     "text": [
      "{ 3.4213 }\n"
     ]
    }
   ],
   "source": [
    "# {} 을 format 함수와 같이 쓰기\n",
    "print(\"{{ {0:0.4f} }}\".format(3.42134234)) # -> \"{\" = {{, \"}\" = }}"
   ]
  },
  {
   "cell_type": "code",
   "execution_count": 48,
   "metadata": {},
   "outputs": [
    {
     "name": "stdout",
     "output_type": "stream",
     "text": [
      "나의 이름은 홍길동 입니다. 나이는 31 입니다.\n"
     ]
    }
   ],
   "source": [
    "# f 문자열 포매팅 -> 문자열 앞에 접두사 f 를 붙이면 문자열 포매팅 사용 가능\n",
    "name = \"홍길동\"\n",
    "age = 30\n",
    "print(f'나의 이름은 {name} 입니다. 나이는 {age+1} 입니다.') # <- 표현식 지원 -> 표현식 : 문자열 안에서 변수와 수식을 함께 사용 하는 것"
   ]
  },
  {
   "cell_type": "code",
   "execution_count": 46,
   "metadata": {},
   "outputs": [
    {
     "name": "stdout",
     "output_type": "stream",
     "text": [
      "hi        \n",
      "10\n",
      "        hi\n",
      "10\n",
      "    hi    \n",
      "10\n"
     ]
    }
   ],
   "source": [
    "# 정렬\n",
    "a = f'{\"hi\":<10}'\n",
    "print(a)\n",
    "print( len(a) )\n",
    "\n",
    "b = f'{\"hi\":>10}'\n",
    "print(b)\n",
    "print( len(b) )\n",
    "\n",
    "c = f'{\"hi\":^10}'\n",
    "print(c)\n",
    "print( len(c) )"
   ]
  },
  {
   "cell_type": "code",
   "execution_count": 49,
   "metadata": {},
   "outputs": [
    {
     "name": "stdout",
     "output_type": "stream",
     "text": [
      "====hi====\n"
     ]
    }
   ],
   "source": [
    "# 공백 채우기\n",
    "print(f'{\"hi\":=^10}')"
   ]
  },
  {
   "cell_type": "code",
   "execution_count": 50,
   "metadata": {},
   "outputs": [
    {
     "name": "stdout",
     "output_type": "stream",
     "text": [
      "3.4213\n",
      "    3.4213\n"
     ]
    }
   ],
   "source": [
    "# 소수점 표현\n",
    "y = 3.42134234\n",
    "print( f'{y:0.4f}')\n",
    "print( f'{y:10.4f}')"
   ]
  },
  {
   "cell_type": "code",
   "execution_count": 52,
   "metadata": {},
   "outputs": [
    {
     "name": "stdout",
     "output_type": "stream",
     "text": [
      " { ====hi==== } \n"
     ]
    }
   ],
   "source": [
    "# { , } 입력하기\n",
    "print( f' {{ {\"hi\":=^10} }} ')"
   ]
  },
  {
   "cell_type": "code",
   "execution_count": 66,
   "metadata": {},
   "outputs": [
    {
     "data": {
      "text/plain": [
       "2"
      ]
     },
     "execution_count": 66,
     "metadata": {},
     "output_type": "execute_result"
    }
   ],
   "source": [
    "# 문자열 관련 함수\n",
    "# 문자 개수 세기\n",
    "a = \"hobby\"\n",
    "a.count(\"b\")"
   ]
  },
  {
   "cell_type": "code",
   "execution_count": 56,
   "metadata": {},
   "outputs": [
    {
     "name": "stdout",
     "output_type": "stream",
     "text": [
      "14\n",
      "-1\n",
      "14\n"
     ]
    }
   ],
   "source": [
    "# 위치 알려주기\n",
    "a = \"python is the best choice\"\n",
    "# 1. find()\n",
    "print(a.find(\"b\"))\n",
    "print(a.find(\"k\")) # <- 문자열에 없는 것은 -1 반환\n",
    "\n",
    "# 2. index()\n",
    "print(a.index(\"b\"))\n",
    "#print(a.index(k)) # <- 문자열에 없으면 에러 "
   ]
  },
  {
   "cell_type": "code",
   "execution_count": 57,
   "metadata": {},
   "outputs": [
    {
     "name": "stdout",
     "output_type": "stream",
     "text": [
      "a,b,c,d\n"
     ]
    }
   ],
   "source": [
    "#문자열 삽입 \n",
    "# join ()\n",
    "a = \",\".join('abcd')\n",
    "print(a)"
   ]
  },
  {
   "cell_type": "code",
   "execution_count": 58,
   "metadata": {},
   "outputs": [
    {
     "name": "stdout",
     "output_type": "stream",
     "text": [
      "HI\n",
      "hi\n"
     ]
    }
   ],
   "source": [
    "# 소문자를 대문자로 바꾸기 -> upper()\n",
    "a = \"hi\"\n",
    "b = a.upper()\n",
    "print(b)\n",
    "\n",
    "# 대문자를 소문자로 바꾸기 -> lower()\n",
    "c = b.lower()\n",
    "print(c)"
   ]
  },
  {
   "cell_type": "code",
   "execution_count": 62,
   "metadata": {},
   "outputs": [
    {
     "name": "stdout",
     "output_type": "stream",
     "text": [
      "hi \n",
      " hi\n",
      "hi\n"
     ]
    }
   ],
   "source": [
    "# 공백지우기\n",
    "a = \" hi \"\n",
    "\n",
    "# 왼쪽 공백 지우기 <- lstrip\n",
    "b = a.lstrip()\n",
    "print(b)\n",
    "\n",
    "# 오른쪽 공백 지우기 <- rstrip\n",
    "c = a.rstrip()\n",
    "print(c)\n",
    "\n",
    "# 공백 지우기 <- strip\n",
    "d = a.strip()\n",
    "print(d)"
   ]
  },
  {
   "cell_type": "code",
   "execution_count": 63,
   "metadata": {},
   "outputs": [
    {
     "name": "stdout",
     "output_type": "stream",
     "text": [
      "a ^ b ^ c ^ d \n"
     ]
    }
   ],
   "source": [
    "# 문자열 바꾸기\n",
    "# replace()\n",
    "a = \"a : b : c : d \"\n",
    "b = a.replace(\":\", \"^\")\n",
    "print(b)"
   ]
  },
  {
   "cell_type": "code",
   "execution_count": 65,
   "metadata": {},
   "outputs": [
    {
     "name": "stdout",
     "output_type": "stream",
     "text": [
      "['Life', 'is', 'too', 'short']\n",
      "['a', 'b', 'c', 'd']\n"
     ]
    }
   ],
   "source": [
    "# 문자열 나누기\n",
    "# split() # -> 나눈 값을 리스트에 저장\n",
    "a = \"Life is too short\"\n",
    "b = a.split() # <- 공백을 기준으로 나눔\n",
    "print(b)\n",
    "\n",
    "c = \"a:b:c:d\"\n",
    "d = c.split(\":\") # <- \":\" 기준으로 나눔\n",
    "print(d)"
   ]
  },
  {
   "cell_type": "code",
   "execution_count": 1,
   "metadata": {},
   "outputs": [
    {
     "name": "stdout",
     "output_type": "stream",
     "text": [
      "<class 'int'>\n"
     ]
    }
   ],
   "source": [
    "#문자열 -> 정수형\n",
    "# int()\n",
    "a = \"132\"\n",
    "b = int(a)\n",
    "print(type(b))"
   ]
  },
  {
   "cell_type": "code",
   "execution_count": 2,
   "metadata": {},
   "outputs": [
    {
     "name": "stdout",
     "output_type": "stream",
     "text": [
      "<class 'str'>\n"
     ]
    }
   ],
   "source": [
    "#정수형 -> 문자열\n",
    "#str()\n",
    "a = 123\n",
    "b = str(a)\n",
    "print(type(b))"
   ]
  }
 ],
 "metadata": {
  "kernelspec": {
   "display_name": "Python 3",
   "language": "python",
   "name": "python3"
  },
  "language_info": {
   "codemirror_mode": {
    "name": "ipython",
    "version": 3
   },
   "file_extension": ".py",
   "mimetype": "text/x-python",
   "name": "python",
   "nbconvert_exporter": "python",
   "pygments_lexer": "ipython3",
   "version": "3.7.4"
  }
 },
 "nbformat": 4,
 "nbformat_minor": 2
}
