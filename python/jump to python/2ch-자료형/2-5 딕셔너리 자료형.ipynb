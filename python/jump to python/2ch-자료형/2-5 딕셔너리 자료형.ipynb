{
 "cells": [
  {
   "cell_type": "code",
   "execution_count": 1,
   "metadata": {},
   "outputs": [],
   "source": [
    "'''\n",
    "딕셔너리 : 대응관계를 나타내는 자료형 => key : value\n",
    "'''\n",
    "dic = {'key': 'value'}\n",
    "a = {1: 'hi'}\n",
    "b = {'a' : [1,2,3]}"
   ]
  },
  {
   "cell_type": "code",
   "execution_count": 2,
   "metadata": {},
   "outputs": [
    {
     "name": "stdout",
     "output_type": "stream",
     "text": [
      "{1: 'a', 2: 'b'}\n"
     ]
    }
   ],
   "source": [
    "# 딕셔너리 쌍 추가\n",
    "a = {1:'a'}\n",
    "a[2] = 'b' # key : value = 2 : 'b'\n",
    "\n",
    "print(a)"
   ]
  },
  {
   "cell_type": "code",
   "execution_count": 3,
   "metadata": {},
   "outputs": [
    {
     "name": "stdout",
     "output_type": "stream",
     "text": [
      "{1: 'a', 3: 'c'}\n"
     ]
    }
   ],
   "source": [
    "# 딕셔너리 쌍 삭제하기\n",
    "a = {1:'a', 2:'b', 3:'c'}\n",
    "del a[2]\n",
    "print(a)"
   ]
  },
  {
   "cell_type": "code",
   "execution_count": 4,
   "metadata": {},
   "outputs": [
    {
     "name": "stdout",
     "output_type": "stream",
     "text": [
      "b\n"
     ]
    }
   ],
   "source": [
    "# 딕셔너리 key 사용하여 value 얻기 1\n",
    "a = {1:'a', 2:'b', 3:'c'}\n",
    "print(a[2])\n",
    "\n",
    "# print(a[4]) -> 존재하지 않는 key 이므로 keyError 발생"
   ]
  },
  {
   "cell_type": "code",
   "execution_count": 13,
   "metadata": {
    "scrolled": true
   },
   "outputs": [
    {
     "name": "stdout",
     "output_type": "stream",
     "text": [
      "b\n",
      "None\n",
      "nokey\n"
     ]
    }
   ],
   "source": [
    "# 딕셔너리 key 사용하여 value 얻기 2 <- get() \n",
    "a = {1:'a', 2:'b', 3:'c'}\n",
    "print(a.get(2))\n",
    "\n",
    "print(a.get(4)) # -> 존재하지 않는 key 는 None 반환\n",
    "\n",
    "print(a.get(4,'nokey')) # -> get(key, '디폴트 값') key 가 딕셔너리에 없을 경우 미리 정해둔 디폴트 값 반환"
   ]
  },
  {
   "cell_type": "code",
   "execution_count": 5,
   "metadata": {},
   "outputs": [
    {
     "name": "stdout",
     "output_type": "stream",
     "text": [
      "b\n"
     ]
    }
   ],
   "source": [
    "# 딕셔너리 만들때 주의사항\n",
    "# 1. 중복된 key 사용시 1개를 제외한 나머지는 무시된다.\n",
    "a = {1:'a', 1:'b'}\n",
    "print(a[1])\n",
    "\n",
    "# 2. key 는 변하지 않는 값만 쓸 수 있다. ex) 리스트는 못 쓴다.\n",
    "# a = {[1,2,3] :'a'} <- type Error 발생"
   ]
  },
  {
   "cell_type": "code",
   "execution_count": 11,
   "metadata": {},
   "outputs": [
    {
     "name": "stdout",
     "output_type": "stream",
     "text": [
      "dict_keys([1, 2, 3, 4])\n",
      "[1, 2, 3, 4]\n",
      "dict_values(['a', 'b', 'c', 'd'])\n",
      "dict_items([(1, 'a'), (2, 'b'), (3, 'c'), (4, 'd')])\n",
      "[(1, 'a'), (2, 'b'), (3, 'c'), (4, 'd')]\n"
     ]
    }
   ],
   "source": [
    "# 딕셔너리 관련 함수 1 \n",
    "# 1. keys() <- key 리스트 만들기\n",
    "a = {1:'a', 2:'b', 3:'c', 4:'d'}\n",
    "print(a.keys()) # <- dict_keys 반환\n",
    "\n",
    "print(list(a.keys())) # <- dict_keys 를 list 로 변환 하여 반환\n",
    "\n",
    "# 2. values() <- values 리스트 만들기\n",
    "print(a.values())\n",
    "\n",
    "#3. items() <- key,values 쌍 얻기\n",
    "print(a.items())\n",
    "print(list(a.items()))"
   ]
  },
  {
   "cell_type": "code",
   "execution_count": 14,
   "metadata": {},
   "outputs": [
    {
     "name": "stdout",
     "output_type": "stream",
     "text": [
      "{}\n",
      "True\n",
      "False\n"
     ]
    }
   ],
   "source": [
    "# 딕셔너리 관련 함수 2\n",
    "a = {1:'a', 2:'b', 3:'c', 4:'d'}\n",
    "# 1. clear() <- ket value 쌍 모두 지우기\n",
    "a.clear()\n",
    "print(a)\n",
    "\n",
    "# 2. in <- 해당 key  가 딕셔너리 안에 있는지\n",
    "a = {1:'a', 2:'b', 3:'c', 4:'d'}\n",
    "print( 1 in a ) \n",
    "\n",
    "print(5 in a )"
   ]
  }
 ],
 "metadata": {
  "kernelspec": {
   "display_name": "Python 3",
   "language": "python",
   "name": "python3"
  },
  "language_info": {
   "codemirror_mode": {
    "name": "ipython",
    "version": 3
   },
   "file_extension": ".py",
   "mimetype": "text/x-python",
   "name": "python",
   "nbconvert_exporter": "python",
   "pygments_lexer": "ipython3",
   "version": "3.7.4"
  }
 },
 "nbformat": 4,
 "nbformat_minor": 2
}
