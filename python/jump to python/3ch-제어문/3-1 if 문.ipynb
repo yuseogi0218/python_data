{
 "cells": [
  {
   "cell_type": "code",
   "execution_count": 1,
   "metadata": {},
   "outputs": [
    {
     "name": "stdout",
     "output_type": "stream",
     "text": [
      "택시를 타고가라\n"
     ]
    }
   ],
   "source": [
    "'''\n",
    "if 문 : 조건을 판단하여 해당 조건에 맞는 상황을 수행\n",
    "'''\n",
    "money = True\n",
    "if money: # <- 조건문 다음에 콜론(:) 을 잊지말자\n",
    "    print(\"택시를 타고가라\") # <- 들여쓰기는 항상 같은 크기로 \n",
    "else:\n",
    "    print(\"걸어가라\")"
   ]
  },
  {
   "cell_type": "code",
   "execution_count": 5,
   "metadata": {},
   "outputs": [
    {
     "data": {
      "text/plain": [
       "True"
      ]
     },
     "execution_count": 5,
     "metadata": {},
     "output_type": "execute_result"
    }
   ],
   "source": [
    "# '조건문' = 참과 거짓을 판단하는 문장\n",
    "# 비교 연산자 \n",
    "\n",
    "x = 1; y = 2\n",
    "\n",
    "x > y\n",
    "x >= y\n",
    "x < y\n",
    "x <= y\n",
    "x == y\n",
    "x != y"
   ]
  },
  {
   "cell_type": "code",
   "execution_count": 6,
   "metadata": {
    "scrolled": true
   },
   "outputs": [
    {
     "name": "stdout",
     "output_type": "stream",
     "text": [
      "True\n",
      "False\n",
      "True\n"
     ]
    }
   ],
   "source": [
    "# and, or, not\n",
    "\n",
    "x = True; y = False\n",
    "\n",
    "print(x or y) # 둘중에 하나만 참이면 참이다.\n",
    "print(x and y) # 둘다 참이어야 참이다\n",
    "print( not y) # y 가 거짓이면 참이다."
   ]
  },
  {
   "cell_type": "code",
   "execution_count": 8,
   "metadata": {},
   "outputs": [
    {
     "name": "stdout",
     "output_type": "stream",
     "text": [
      "True\n",
      "False\n"
     ]
    }
   ],
   "source": [
    "# x in or notin 리스트, 튜플, 문자열\n",
    "result_1 = 1 in [1,2,3]\n",
    "print(result_1)\n",
    "\n",
    "result_2 = 1 not in [1,2,3]\n",
    "print(result_2)"
   ]
  },
  {
   "cell_type": "code",
   "execution_count": 1,
   "metadata": {},
   "outputs": [],
   "source": [
    "# pass 조건문에서 아무 일도 하지 않게 설정\n",
    "pocket = [\"paper\",\"money\", \"cellphone\"]\n",
    "if \"money\" in pocket:\n",
    "    pass\n",
    "else:\n",
    "    print(\"take a walk\")"
   ]
  },
  {
   "cell_type": "code",
   "execution_count": 3,
   "metadata": {},
   "outputs": [
    {
     "name": "stdout",
     "output_type": "stream",
     "text": [
      "택시를 타라\n"
     ]
    }
   ],
   "source": [
    "# elif 다양한 조건을 판단하는 \n",
    "# elif 는 이전 조건문이 거짓일 때 수행된다.\n",
    "# elif 는 개수 제한 없이 사용가능.\n",
    "pocket = [\"paper\", \"cellphone\"]\n",
    "card = True\n",
    "if \"money\" in pocket:\n",
    "    print(\"택시를 타라\")\n",
    "elif card: # <- 주머니에 돈이 없고 카드가 있으면\n",
    "    print(\"택시를 타라\")\n",
    "else:\n",
    "    print(\"take a walk\")\n",
    "    \n",
    "    "
   ]
  },
  {
   "cell_type": "code",
   "execution_count": 4,
   "metadata": {},
   "outputs": [
    {
     "name": "stdout",
     "output_type": "stream",
     "text": [
      "택시를 타라\n"
     ]
    }
   ],
   "source": [
    "# if 문 한 줄로 작성하기\n",
    "# if 문 다음에 수행할 문장이 한줄일 경우 사용\n",
    "pocket = [\"paper\", \"money\", \"cellphone\"]\n",
    "if \"money\" in pocket: print(\"택시를 타라\")\n",
    "else: print(\"카드를 꺼내라\")"
   ]
  },
  {
   "cell_type": "code",
   "execution_count": 6,
   "metadata": {},
   "outputs": [
    {
     "name": "stdout",
     "output_type": "stream",
     "text": [
      "success\n"
     ]
    }
   ],
   "source": [
    "# 조건부 표현식\n",
    "\n",
    "score = 70\n",
    "\n",
    "'''\n",
    "if score >= 60:\n",
    "    message = \"success\"\n",
    "else : \n",
    "    message = \"failure\"\n",
    "'''\n",
    "\n",
    "message = \"success\" if score >= 60 else \"false\"\n",
    "print(message)"
   ]
  }
 ],
 "metadata": {
  "kernelspec": {
   "display_name": "Python 3",
   "language": "python",
   "name": "python3"
  },
  "language_info": {
   "codemirror_mode": {
    "name": "ipython",
    "version": 3
   },
   "file_extension": ".py",
   "mimetype": "text/x-python",
   "name": "python",
   "nbconvert_exporter": "python",
   "pygments_lexer": "ipython3",
   "version": "3.7.4"
  }
 },
 "nbformat": 4,
 "nbformat_minor": 2
}
