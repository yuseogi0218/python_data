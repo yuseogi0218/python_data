{
 "cells": [
  {
   "cell_type": "code",
   "execution_count": 4,
   "metadata": {},
   "outputs": [
    {
     "name": "stdout",
     "output_type": "stream",
     "text": [
      "one\n",
      "two\n",
      "three\n",
      "\n",
      "\n",
      "3\n",
      "7\n",
      "11\n"
     ]
    }
   ],
   "source": [
    "'''\n",
    "For 반복문\n",
    "for 변수 in (리스트 or 튜플 or 문자열):\n",
    "    수행할 문장 1\n",
    "    수행할 문장 2\n",
    "    ...\n",
    "    '''\n",
    "# 1. 전형적인 for 문\n",
    "test_list = [\"one\", \"two\", \"three\"]\n",
    "for i in test_list:\n",
    "    print(i)\n",
    "    \n",
    "print(\"\\n\")\n",
    "    \n",
    "#  2. 다양한 for 문 사용\n",
    "a = [(1,2), (3,4), (5,6)]\n",
    "for (first,last) in a:\n",
    "    print(first+last)"
   ]
  },
  {
   "cell_type": "code",
   "execution_count": 5,
   "metadata": {},
   "outputs": [
    {
     "name": "stdout",
     "output_type": "stream",
     "text": [
      "1번 학생은 합격입니다.\n",
      "2번 학생은 불합격입니다.\n",
      "3번 학생은 합격입니다.\n",
      "4번 학생은 불합격입니다.\n",
      "5번 학생은 합격입니다.\n"
     ]
    }
   ],
   "source": [
    "# 3. for 문의 응용\n",
    "# 총 5명의 시험점수가 각각 60 점이 넘으면 합격이다. 각 학생 마다 합격인지 불합격인지 보이시오.\n",
    "\n",
    "scores = [90,25,67,45,80]\n",
    "\n",
    "student = 0\n",
    "for score in scores:\n",
    "    student = student + 1\n",
    "    if score > 60:\n",
    "        print(\"%d번 학생은 합격입니다.\" % student)\n",
    "    elif score <= 60:\n",
    "        print(\"%d번 학생은 불합격입니다.\" % student)\n",
    "    "
   ]
  },
  {
   "cell_type": "code",
   "execution_count": 8,
   "metadata": {},
   "outputs": [
    {
     "name": "stdout",
     "output_type": "stream",
     "text": [
      "1번 학생 축하합니다. 합격입니다.\n",
      "3번 학생 축하합니다. 합격입니다.\n",
      "5번 학생 축하합니다. 합격입니다.\n"
     ]
    }
   ],
   "source": [
    "# For 문에서 Continue 문\n",
    "# 총 5명의 시험점수가 각각 60 점이 넘으면 합격이다. 합격한 학생에게는 축하 메세지를 , 그렇지 않은 학생은 그냥 넘어가시오.\n",
    "\n",
    "scores = [90,25,67,45,80]\n",
    "\n",
    "student = 0\n",
    "for score in scores:\n",
    "    student = student +1\n",
    "    if score <= 60: continue\n",
    "    print(\"%d번 학생 축하합니다. 합격입니다.\" % student)"
   ]
  },
  {
   "cell_type": "code",
   "execution_count": 11,
   "metadata": {},
   "outputs": [
    {
     "name": "stdout",
     "output_type": "stream",
     "text": [
      "range(0, 10)\n",
      "range(1, 10)\n"
     ]
    }
   ],
   "source": [
    "# For 문과 함께 자주 사용하는 range 함수\n",
    "\n",
    "a = range(10)\n",
    "print(a) # <- 0,1,2,3,4,5,6,7,8,9\n",
    "\n",
    "b = range(1,10) \n",
    "print(b) # <- 1,2,3,4,5,6,7,8,9"
   ]
  },
  {
   "cell_type": "code",
   "execution_count": 12,
   "metadata": {},
   "outputs": [
    {
     "name": "stdout",
     "output_type": "stream",
     "text": [
      "55\n"
     ]
    }
   ],
   "source": [
    "# range 함수의 예시\n",
    "add = 0\n",
    "for i in range(1,11): # 1 <= i < 11\n",
    "    add = add + i\n",
    "    \n",
    "print(add)"
   ]
  },
  {
   "cell_type": "code",
   "execution_count": 19,
   "metadata": {},
   "outputs": [
    {
     "name": "stdout",
     "output_type": "stream",
     "text": [
      "1 2 3 4 5 6 7 8 9  \n",
      "2 4 6 8 10 12 14 16 18  \n",
      "3 6 9 12 15 18 21 24 27  \n",
      "4 8 12 16 20 24 28 32 36  \n",
      "5 10 15 20 25 30 35 40 45  \n",
      "6 12 18 24 30 36 42 48 54  \n",
      "7 14 21 28 35 42 49 56 63  \n",
      "8 16 24 32 40 48 56 64 72  \n",
      "9 18 27 36 45 54 63 72 81  \n"
     ]
    }
   ],
   "source": [
    "# for 문과 range 를 사용한 구구단\n",
    "for i in range(1,10):\n",
    "    for j in range(1,10):\n",
    "        print(i*j, end = \" \")\n",
    "    print(\" \")"
   ]
  },
  {
   "cell_type": "code",
   "execution_count": 20,
   "metadata": {},
   "outputs": [
    {
     "name": "stdout",
     "output_type": "stream",
     "text": [
      "[3, 6, 9, 12]\n"
     ]
    }
   ],
   "source": [
    "# 리스트 내포(List comprehension) <- 리스트 안에 for 문을 집어 넣는다.\n",
    "'''\n",
    "a = [1,2,3,4]\n",
    "result = []\n",
    "for num in a:\n",
    "    result.append(num*3)\n",
    "    \n",
    "print(result)\n",
    "\n",
    "[3,6,9,12]'''\n",
    "\n",
    "a = [1,2,3,4]\n",
    "result = [num*3 for num in a]\n",
    "print(result)"
   ]
  },
  {
   "cell_type": "code",
   "execution_count": 21,
   "metadata": {},
   "outputs": [
    {
     "name": "stdout",
     "output_type": "stream",
     "text": [
      "[6, 12]\n"
     ]
    }
   ],
   "source": [
    "# 리스트 내포 with if 조건문\n",
    "# 1,2,3,4 중 짝수에만 3을 곱하여 result 에 담고싶다.\n",
    "a = [1,2,3,4]\n",
    "result = [num*3 for num in a if num % 2 == 0]\n",
    "print(result)"
   ]
  },
  {
   "cell_type": "code",
   "execution_count": 22,
   "metadata": {
    "scrolled": true
   },
   "outputs": [
    {
     "name": "stdout",
     "output_type": "stream",
     "text": [
      "[1, 2, 3, 4, 5, 6, 7, 8, 9, 2, 4, 6, 8, 10, 12, 14, 16, 18, 3, 6, 9, 12, 15, 18, 21, 24, 27, 4, 8, 12, 16, 20, 24, 28, 32, 36, 5, 10, 15, 20, 25, 30, 35, 40, 45, 6, 12, 18, 24, 30, 36, 42, 48, 54, 7, 14, 21, 28, 35, 42, 49, 56, 63, 8, 16, 24, 32, 40, 48, 56, 64, 72, 9, 18, 27, 36, 45, 54, 63, 72, 81]\n"
     ]
    }
   ],
   "source": [
    "# 리스트 내포 with 다중 for 문\n",
    "# 곱하기\n",
    "result = [x*y for x in range(1,10)\n",
    "             for y in range(1,10)]\n",
    "print(result)"
   ]
  }
 ],
 "metadata": {
  "kernelspec": {
   "display_name": "Python 3",
   "language": "python",
   "name": "python3"
  },
  "language_info": {
   "codemirror_mode": {
    "name": "ipython",
    "version": 3
   },
   "file_extension": ".py",
   "mimetype": "text/x-python",
   "name": "python",
   "nbconvert_exporter": "python",
   "pygments_lexer": "ipython3",
   "version": "3.7.4"
  }
 },
 "nbformat": 4,
 "nbformat_minor": 2
}
