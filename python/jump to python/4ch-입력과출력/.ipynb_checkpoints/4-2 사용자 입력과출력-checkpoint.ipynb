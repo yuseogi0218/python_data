{
 "cells": [
  {
   "cell_type": "code",
   "execution_count": 3,
   "metadata": {},
   "outputs": [
    {
     "name": "stdout",
     "output_type": "stream",
     "text": [
      "123\n",
      "<class 'str'>\n"
     ]
    }
   ],
   "source": [
    "# 사용자 입력\n",
    "'''\n",
    "변수 = input(\"질문 내용\")\n",
    "\n",
    "input은 입력되는 모든 것을 문자열로 취급한다.'''\n",
    "\n",
    "a = input()\n",
    "print(type(a))"
   ]
  },
  {
   "cell_type": "code",
   "execution_count": 4,
   "metadata": {},
   "outputs": [
    {
     "name": "stdout",
     "output_type": "stream",
     "text": [
      "lifeistoo short\n",
      "life is too short\n",
      "0123456789"
     ]
    }
   ],
   "source": [
    "# print 제대로 알기\n",
    "\n",
    "# 1) 큰따옴표(\")로 둘러까인 문자열은 +연산과 동일하다.\n",
    "print(\"life\" \"is\" \"too short\") # == print(\"life\"+\"is\"+\"too short\")\n",
    "\n",
    "# 2) 문자열 띄어쓰기는 콤마로 한다.\n",
    "print(\"life\",\"is\",\"too\",\"short\")\n",
    "\n",
    "# 3) 한 줄에 결과값 출력하기.\n",
    "# end = 사용하기\n",
    "for i in range(10):\n",
    "    print(i, end=\"\")"
   ]
  }
 ],
 "metadata": {
  "kernelspec": {
   "display_name": "Python 3",
   "language": "python",
   "name": "python3"
  },
  "language_info": {
   "codemirror_mode": {
    "name": "ipython",
    "version": 3
   },
   "file_extension": ".py",
   "mimetype": "text/x-python",
   "name": "python",
   "nbconvert_exporter": "python",
   "pygments_lexer": "ipython3",
   "version": "3.7.4"
  }
 },
 "nbformat": 4,
 "nbformat_minor": 2
}
