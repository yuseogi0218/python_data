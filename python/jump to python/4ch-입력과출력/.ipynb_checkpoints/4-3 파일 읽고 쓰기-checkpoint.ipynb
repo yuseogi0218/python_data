{
 "cells": [
  {
   "cell_type": "code",
   "execution_count": 1,
   "metadata": {},
   "outputs": [],
   "source": [
    "# 파일 객체 = open(파일이름, 파일 열기 모드)\n",
    "# 파일 열기 모드 = r : 읽기모드, w = 쓰기 모드(이미 존재하는 파일의 내용이 모두 사라지게 된다,) \n",
    "#                  a = 추가 모드(파일의 마지막에 새로운 내용을 추가할 때 사용)\n",
    "# 파일 이름 => 파일 위치 지정 가능\n"
   ]
  },
  {
   "cell_type": "code",
   "execution_count": 5,
   "metadata": {},
   "outputs": [],
   "source": [
    "# 파일을 쓰기 모드로 열어 출력값 적기\n",
    "f = open(\"파일에 출력값 적기.txt\",\"w\")\n",
    "for i in range(1,11):\n",
    "    data = f\"{i}번째 줄입니다.\\n\"\n",
    "    f.write(data) # data 를 파일 객체 f 에 써라\n",
    "f.close()"
   ]
  },
  {
   "cell_type": "code",
   "execution_count": 7,
   "metadata": {},
   "outputs": [
    {
     "name": "stdout",
     "output_type": "stream",
     "text": [
      "1번째 줄입니다.\n",
      "\n",
      "2번째 줄입니다.\n",
      "\n",
      "3번째 줄입니다.\n",
      "\n",
      "4번째 줄입니다.\n",
      "\n",
      "5번째 줄입니다.\n",
      "\n",
      "6번째 줄입니다.\n",
      "\n",
      "7번째 줄입니다.\n",
      "\n",
      "8번째 줄입니다.\n",
      "\n",
      "9번째 줄입니다.\n",
      "\n",
      "10번째 줄입니다.\n",
      "\n"
     ]
    }
   ],
   "source": [
    "# 프로그램의 외부에 저장된 파일을 읽는 여러가지 방법\n",
    "\n",
    "#1) readline 함수 사용하기\n",
    "f = open(\"파일에 출력값 적기.txt\",\"r\")\n",
    "while True:\n",
    "    line = f.readline() # 첫번째 줄 부터 읽는다.\n",
    "    if not line: # readline 은 더이상 읽을 줄이 없으면 None 을 출력한다. => not None == True\n",
    "        break\n",
    "    print(line) # 화면에 한 줄 씩 출력한다.\n",
    "f.close()"
   ]
  },
  {
   "cell_type": "code",
   "execution_count": 8,
   "metadata": {},
   "outputs": [
    {
     "name": "stdout",
     "output_type": "stream",
     "text": [
      "['1번째 줄입니다.\\n', '2번째 줄입니다.\\n', '3번째 줄입니다.\\n', '4번째 줄입니다.\\n', '5번째 줄입니다.\\n', '6번째 줄입니다.\\n', '7번째 줄입니다.\\n', '8번째 줄입니다.\\n', '9번째 줄입니다.\\n', '10번째 줄입니다.\\n']\n",
      "1번째 줄입니다.\n",
      "\n",
      "2번째 줄입니다.\n",
      "\n",
      "3번째 줄입니다.\n",
      "\n",
      "4번째 줄입니다.\n",
      "\n",
      "5번째 줄입니다.\n",
      "\n",
      "6번째 줄입니다.\n",
      "\n",
      "7번째 줄입니다.\n",
      "\n",
      "8번째 줄입니다.\n",
      "\n",
      "9번째 줄입니다.\n",
      "\n",
      "10번째 줄입니다.\n",
      "\n"
     ]
    }
   ],
   "source": [
    "# 2) readlines 함수 사용하기\n",
    "f = open(\"파일에 출력값 적기.txt\",\"r\")\n",
    "lines = f.readlines() # f객체의 파일의 각각의 줄을 요소로 갖는 리스트로 돌려준다.\n",
    "print(lines)\n",
    "\n",
    "for i in lines:\n",
    "    print(i)\n",
    "f.close()"
   ]
  },
  {
   "cell_type": "code",
   "execution_count": 9,
   "metadata": {},
   "outputs": [
    {
     "name": "stdout",
     "output_type": "stream",
     "text": [
      "1번째 줄입니다.\n",
      "2번째 줄입니다.\n",
      "3번째 줄입니다.\n",
      "4번째 줄입니다.\n",
      "5번째 줄입니다.\n",
      "6번째 줄입니다.\n",
      "7번째 줄입니다.\n",
      "8번째 줄입니다.\n",
      "9번째 줄입니다.\n",
      "10번째 줄입니다.\n",
      "\n"
     ]
    }
   ],
   "source": [
    "# 3) read 함수 사용하기\n",
    "# read 함수는 파일의 내용 전체를 문자열로 돌려준다.\n",
    "f = open(\"파일에 출력값 적기.txt\",\"r\")\n",
    "data = f.read()\n",
    "print(data)\n",
    "f.close()"
   ]
  },
  {
   "cell_type": "code",
   "execution_count": 10,
   "metadata": {},
   "outputs": [],
   "source": [
    "# 파일에 새로운 내용 추가하기\n",
    "# 원래 있던 값을 유지\n",
    "# 단지 새로운 값만 추가\n",
    "# 추가모드(\"a\") 로 파일 열기\n",
    "f = open(\"파일에 출력값 적기.txt\",\"a\")\n",
    "for i in range(11,20):\n",
    "    data = f\"{i}번째 줄입니다.\"\n",
    "    f.write(data)\n",
    "f.close()"
   ]
  },
  {
   "cell_type": "code",
   "execution_count": 11,
   "metadata": {},
   "outputs": [],
   "source": [
    "# with문 : open 과 close를 자동으로 처리\n",
    "with open(\"with.txt\",\"w\") as f:\n",
    "    f.write(\"test\")"
   ]
  },
  {
   "cell_type": "code",
   "execution_count": null,
   "metadata": {},
   "outputs": [],
   "source": []
  }
 ],
 "metadata": {
  "kernelspec": {
   "display_name": "Python 3",
   "language": "python",
   "name": "python3"
  },
  "language_info": {
   "codemirror_mode": {
    "name": "ipython",
    "version": 3
   },
   "file_extension": ".py",
   "mimetype": "text/x-python",
   "name": "python",
   "nbconvert_exporter": "python",
   "pygments_lexer": "ipython3",
   "version": "3.7.4"
  }
 },
 "nbformat": 4,
 "nbformat_minor": 2
}
