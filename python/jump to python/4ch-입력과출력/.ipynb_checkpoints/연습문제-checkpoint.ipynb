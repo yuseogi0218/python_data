{
 "cells": [
  {
   "cell_type": "code",
   "execution_count": 1,
   "metadata": {},
   "outputs": [
    {
     "name": "stdout",
     "output_type": "stream",
     "text": [
      "False\n"
     ]
    }
   ],
   "source": [
    "# 주어진 자연수가 홀수인지 짝수인지 판별해주는 함수\n",
    "def is_odd(number):\n",
    "    if number %2 == 0:\n",
    "        return True\n",
    "    else:\n",
    "        return False\n",
    "\n",
    "print(is_odd(3))"
   ]
  },
  {
   "cell_type": "code",
   "execution_count": 3,
   "metadata": {},
   "outputs": [
    {
     "name": "stdout",
     "output_type": "stream",
     "text": [
      "1.5\n",
      "3.0\n"
     ]
    }
   ],
   "source": [
    "#평균값 계산 (단, 입력으로 들어오는 수의 개수는 정해져 있지 않다.)\n",
    "def avg_numbers(*number):\n",
    "    result = 0\n",
    "    for i in number:\n",
    "        result += i\n",
    "    return result/len(number)\n",
    "\n",
    "print(avg_numbers(1,2))\n",
    "print(avg_numbers(1,2,3,4,5))"
   ]
  },
  {
   "cell_type": "code",
   "execution_count": 6,
   "metadata": {},
   "outputs": [
    {
     "name": "stdout",
     "output_type": "stream",
     "text": [
      "첫번째 숫자: 3\n",
      "두번째 숫자: 6\n",
      "두수의 합은9입니다.\n"
     ]
    }
   ],
   "source": [
    "#두 개의 숫자를 입력받아 더하여 돌려주는 프로그램\n",
    "input1 = int(input(\"첫번째 숫자: \"))\n",
    "input2 = int(input(\"두번째 숫자: \"))\n",
    "\n",
    "total = input1 + input2\n",
    "print(f\"두수의 합은{total}입니다.\")"
   ]
  },
  {
   "cell_type": "code",
   "execution_count": 7,
   "metadata": {},
   "outputs": [
    {
     "name": "stdout",
     "output_type": "stream",
     "text": [
      "life is too short\n"
     ]
    }
   ],
   "source": [
    "f1 = open(\"연습문제1.txt\",\"w\")\n",
    "f1.write(\"life is too short\")\n",
    "f1.close()\n",
    "\n",
    "f2 = open(\"연습문제1.txt\",\"r\")\n",
    "print(f2.read())\n",
    "f2.close()"
   ]
  },
  {
   "cell_type": "code",
   "execution_count": 13,
   "metadata": {},
   "outputs": [
    {
     "name": "stdout",
     "output_type": "stream",
     "text": [
      "저장할 내용을 입력하세요:입력2\n"
     ]
    }
   ],
   "source": [
    "user_input = input(\"저장할 내용을 입력하세요:\")\n",
    "f = open(\"연습문제2.txt\",\"a\")\n",
    "f.write(user_input)\n",
    "f.write(\"\\n\")\n",
    "f.close()"
   ]
  },
  {
   "cell_type": "code",
   "execution_count": 16,
   "metadata": {},
   "outputs": [],
   "source": [
    "f = open(\"연습문제3.txt\",\"r\")\n",
    "body = f.read() # 연습문제3 의 내용을 body 에 저장\n",
    "f.close()\n",
    "\n",
    "body = body.replace(\"java\",\"python\")\n",
    "\n",
    "f = open(\"연습문제3.txt\",\"w\")\n",
    "f.write(body)\n",
    "f.close()"
   ]
  }
 ],
 "metadata": {
  "kernelspec": {
   "display_name": "Python 3",
   "language": "python",
   "name": "python3"
  },
  "language_info": {
   "codemirror_mode": {
    "name": "ipython",
    "version": 3
   },
   "file_extension": ".py",
   "mimetype": "text/x-python",
   "name": "python",
   "nbconvert_exporter": "python",
   "pygments_lexer": "ipython3",
   "version": "3.7.4"
  }
 },
 "nbformat": 4,
 "nbformat_minor": 2
}
