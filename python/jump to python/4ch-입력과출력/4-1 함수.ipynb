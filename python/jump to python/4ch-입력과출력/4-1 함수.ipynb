{
 "cells": [
  {
   "cell_type": "code",
   "execution_count": 1,
   "metadata": {},
   "outputs": [
    {
     "name": "stdout",
     "output_type": "stream",
     "text": [
      "7\n"
     ]
    }
   ],
   "source": [
    "'''\n",
    "함수 : 입력갑 -> 함수 -> 결과값\n",
    "\n",
    "형태\n",
    "def 함수 이름(매개변수):\n",
    "    수행할 문장\n",
    "    ...\n",
    "    return 결과값\n",
    "'''\n",
    "\n",
    "def add(a,b): # def : 함수를 만들때 사용하는 예약어\n",
    "    return a+b  # a,b = 매개변수(parameter) : 변수\n",
    "\n",
    "print(add(3,4)) # 3,4 = 인수(arguments) : 입력값"
   ]
  },
  {
   "cell_type": "code",
   "execution_count": 14,
   "metadata": {},
   "outputs": [
    {
     "name": "stdout",
     "output_type": "stream",
     "text": [
      "HI\n"
     ]
    }
   ],
   "source": [
    "# 1. 입력값이 없는 함수\n",
    "def say():\n",
    "    return \"HI\"\n",
    "\n",
    "print(say())"
   ]
  },
  {
   "cell_type": "code",
   "execution_count": 7,
   "metadata": {},
   "outputs": [
    {
     "name": "stdout",
     "output_type": "stream",
     "text": [
      "3, 4의 합은 7 입니다.\n",
      "3, 4의 합은 7 입니다.\n",
      "None\n"
     ]
    }
   ],
   "source": [
    "# 2. 결과값이 없는 함수\n",
    "def add(a,b):\n",
    "    print(\"%d, %d의 합은 %d 입니다.\" %(a,b,a+b)) # 결과값이 아닌 함수의 구성요소중 하나\n",
    "\n",
    "add(3,4)\n",
    "print(add(3,4))# <- 결과값이 없기 때문에 None 출력"
   ]
  },
  {
   "cell_type": "code",
   "execution_count": 10,
   "metadata": {},
   "outputs": [
    {
     "name": "stdout",
     "output_type": "stream",
     "text": [
      "HI\n",
      "None\n"
     ]
    }
   ],
   "source": [
    "# 3. 입력값도 결과값도 없는 함수\n",
    "def say():\n",
    "    print(\"HI\")\n",
    "\n",
    "print(say())"
   ]
  },
  {
   "cell_type": "code",
   "execution_count": 11,
   "metadata": {},
   "outputs": [
    {
     "data": {
      "text/plain": [
       "7"
      ]
     },
     "execution_count": 11,
     "metadata": {},
     "output_type": "execute_result"
    }
   ],
   "source": [
    "# 매개변수 지정하여 호출하기\n",
    "def add(a,b):\n",
    "    return a+b\n",
    "\n",
    "add(b = 3, a = 4) # 순서에 상관없이 사용가능"
   ]
  },
  {
   "cell_type": "code",
   "execution_count": 2,
   "metadata": {},
   "outputs": [
    {
     "name": "stdout",
     "output_type": "stream",
     "text": [
      "10\n",
      "55\n",
      "15\n",
      "120\n"
     ]
    }
   ],
   "source": [
    "# 입력값이 몇 개가 될지 모를 때 1\n",
    "'''\n",
    "def 함수이름 (*매개변수):\n",
    "    수행할 문장\n",
    "    ...'''\n",
    "\n",
    "def add_many(*args):\n",
    "    result = 0\n",
    "    for i in args:\n",
    "        result = result + i\n",
    "    return result\n",
    "\n",
    "print(add_many(1,2,3,4))\n",
    "\n",
    "print(add_many(1,2,3,4,5,6,7,8,9,10))\n",
    "\n",
    "# 2) 여러개의 압력 처리\n",
    "\n",
    "def add_mul(choice, *args):\n",
    "    if choice == \"add\":\n",
    "        result = 0\n",
    "        for i in args:\n",
    "            result = result + i\n",
    "    elif choice == \"mul\":\n",
    "        result = 1\n",
    "        for i in args:\n",
    "            result = result * i\n",
    "    return result\n",
    "\n",
    "print(add_mul(\"add\",1,2,3,4,5))\n",
    "print(add_mul(\"mul\",1,2,3,4,5))"
   ]
  },
  {
   "cell_type": "code",
   "execution_count": 5,
   "metadata": {},
   "outputs": [
    {
     "name": "stdout",
     "output_type": "stream",
     "text": [
      "{'a': 1, 'b': 2}\n"
     ]
    }
   ],
   "source": [
    "# 키워드 파라미터 : 딕셔너리 매개변수\n",
    "'''\n",
    "def 함수이름(**kwargs = keyworld arguments):\n",
    "    수행할 문장'''\n",
    "\n",
    "def print_kwargs(**kwargs):\n",
    "    print(kwargs)\n",
    "\n",
    "print_kwargs(a=1,b=2) # <- 매개변수 kwargs 는 딕셔너리가 되고, 모든 key=value 형태의 결괏값이 그 딕셔너리에 저장된다."
   ]
  },
  {
   "cell_type": "code",
   "execution_count": 2,
   "metadata": {},
   "outputs": [
    {
     "name": "stdout",
     "output_type": "stream",
     "text": [
      "(7, 12)\n",
      "7\n"
     ]
    }
   ],
   "source": [
    "# 함수의 결괏값은 언제나 하나\n",
    "# 1) 튜플로 반환\n",
    "def add_and_mul(a,b):\n",
    "    return a+b, a*b # => 튜플 (a+b, a*b ) 로 반환\n",
    "\n",
    "print(add_and_mul(3,4))\n",
    "\n",
    "# 2) return 을 만나는 순간 결과값을 반환 후 함수를 빠져나간다.\n",
    "\n",
    "def add_and_mul2 (a,b):\n",
    "    return a+b\n",
    "    return a*b\n",
    "\n",
    "print(add_and_mul2(3,4))"
   ]
  },
  {
   "cell_type": "code",
   "execution_count": 4,
   "metadata": {},
   "outputs": [
    {
     "name": "stdout",
     "output_type": "stream",
     "text": [
      "None\n",
      "나의 별명은 야호 입니다.\n",
      "None\n"
     ]
    }
   ],
   "source": [
    "# return 의 또 다른 쓰임새\n",
    "# 함수를 빠져나가고 싶다면 return 을 단독으로 쓸 수 있다.\n",
    "def say_nick(nick):\n",
    "    if nick ==\"바보\":\n",
    "        return\n",
    "    print(\"나의 별명은 %s 입니다.\"% nick)\n",
    "    \n",
    "print(say_nick(\"바보\"))\n",
    "print(say_nick(\"야호\"))"
   ]
  },
  {
   "cell_type": "code",
   "execution_count": 8,
   "metadata": {},
   "outputs": [
    {
     "name": "stdout",
     "output_type": "stream",
     "text": [
      "나의 이름은 박응용입니다.\n",
      "나의 나이는 27 입니다.\n",
      "남자입니다.\n",
      "나의 이름은 박응용입니다.\n",
      "나의 나이는 27 입니다.\n",
      "여자 입니다.\n"
     ]
    }
   ],
   "source": [
    "# 매개변수에 초깃값 미리 설정\n",
    "# 초기화 시키고 싶은 매개변수는 항상 맨 뒤에 놓아야 한다.\n",
    "def say_myself(name,old, man=True):\n",
    "    print(f\"나의 이름은 {name}입니다.\")\n",
    "    print(f\"나의 나이는 {old} 입니다.\")\n",
    "    if man:\n",
    "        print(\"남자입니다.\")\n",
    "    else:\n",
    "        print(\"여자 입니다.\")\n",
    "\n",
    "say_myself(\"박응용\",27) # == say_myself(\"박응용\",27, True)\n",
    "\n",
    "say_myself(\"박응용\",27,False) # 초깃값을 변경할 수 있다."
   ]
  },
  {
   "cell_type": "code",
   "execution_count": 10,
   "metadata": {},
   "outputs": [
    {
     "name": "stdout",
     "output_type": "stream",
     "text": [
      "2\n"
     ]
    }
   ],
   "source": [
    "# 함수 안에서 선언한 매개변수는 함수 안에서만 사용될 뿐 함수 밖에서는 사용되지 않는다.\n",
    "\n",
    "# 함수 밖에서 선언한 변수를 함수 안에서 사용하는 방법\n",
    "# 1) return 사용하기\n",
    "a = 1\n",
    "def vartest(a):\n",
    "    a = a+1\n",
    "    return a #  == a +1\n",
    "\n",
    "a = vartest(a) # == a+1 == 2\n",
    "print(a)"
   ]
  },
  {
   "cell_type": "code",
   "execution_count": 11,
   "metadata": {},
   "outputs": [
    {
     "name": "stdout",
     "output_type": "stream",
     "text": [
      "2\n"
     ]
    }
   ],
   "source": [
    "# 2) global 명령어 사용하기\n",
    "a = 1\n",
    "def vartest():\n",
    "    global a # 함수 밖의 a 변수를 직접 사용\n",
    "    a = a+1\n",
    "    \n",
    "vartest()\n",
    "print(a)\n",
    "\n",
    "# 함수는 족립적으로 존재하는 것이 좋다 => global 명령어를 사요하지 않는게 좋다.\n",
    "# 외부 변수에 종속적인 함수는 좋은 함수 X "
   ]
  },
  {
   "cell_type": "code",
   "execution_count": 12,
   "metadata": {},
   "outputs": [
    {
     "data": {
      "text/plain": [
       "7"
      ]
     },
     "execution_count": 12,
     "metadata": {},
     "output_type": "execute_result"
    }
   ],
   "source": [
    "# lambda => 함수를 한줄로 간결하게 만들 때 사용\n",
    "# 함수이름 = lambda 매개변수1, 매개변수2,...: 매개변수를 사용한 표현식\n",
    "# 1) def 를 사용해야 할 정도로 복잡하지 않을때\n",
    "# 2) def 를 사용할 수 없을때\n",
    "\n",
    "add = lambda a,b: a+b\n",
    "\n",
    "'''\n",
    "def add(a,b):\n",
    "    return a+b'''\n",
    "\n",
    "add(3,4)"
   ]
  }
 ],
 "metadata": {
  "kernelspec": {
   "display_name": "Python 3",
   "language": "python",
   "name": "python3"
  },
  "language_info": {
   "codemirror_mode": {
    "name": "ipython",
    "version": 3
   },
   "file_extension": ".py",
   "mimetype": "text/x-python",
   "name": "python",
   "nbconvert_exporter": "python",
   "pygments_lexer": "ipython3",
   "version": "3.7.4"
  }
 },
 "nbformat": 4,
 "nbformat_minor": 2
}
