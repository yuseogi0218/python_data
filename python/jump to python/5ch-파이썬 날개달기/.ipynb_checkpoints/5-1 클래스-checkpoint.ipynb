{
 "cells": [
  {
   "cell_type": "code",
   "execution_count": null,
   "metadata": {},
   "outputs": [],
   "source": [
    "'''\n",
    "클래스(class) = 설계 도면 = 과자 틀\n",
    "객체(object)  = 클래스로 만든 피조물 = 과자 틀을 사용해 만든 과자'''\n",
    "\n",
    "class Cookie():\n",
    "    pass\n",
    "\n",
    "Cookie1 = Cookie()\n",
    "Cookie2 = Cookie()\n",
    "\n",
    "# Cookie() = 클래스, Cookie1, Cookie2 = 객체\n",
    "\n",
    "# 객체는 객체마다 고유한 성격을 가진다.\n",
    "# 동일한 클래스로 만든 객체들은 서로 영향을 주지 않는다.\n"
   ]
  },
  {
   "cell_type": "code",
   "execution_count": 7,
   "metadata": {},
   "outputs": [
    {
     "name": "stdout",
     "output_type": "stream",
     "text": [
      "<class '__main__.Fourcal'>\n"
     ]
    }
   ],
   "source": [
    "# 사칙연산 클래스 만들기 Fourcal()\n",
    "\n",
    "# 1) 클래스 구조 만들기\n",
    "class Fourcal:  # class 클래스이름:\n",
    "    pass\n",
    "\n",
    "a = Fourcal() # 객체를 만들수 있는 기능을 가진다.\n",
    "print(type(a)) \n",
    "\n",
    "# 2) 클래스에 메서드(Method,함수) 넣기 (객체에 숫자 지정할 수 있게 만들기 = setdata메서드 넣기)\n",
    "class Fourcal:\n",
    "    def setdata(self, first, second):\n",
    "        self.first = first\n",
    "        self.second = second\n",
    "\n",
    "''' \n",
    "메서드(Method) \n",
    "- 클래스 안에 구현된 함수\n",
    "def 메서드 이름(self,매개변수1, ...):\n",
    "    수행할 문장\n",
    "\n",
    "- 첫번째 매개변수 self 는 메서드를 호출한 객체가 자동으로 전달된다. ( self 말고 다른 이름을 사용해도 상관없다.)\n",
    "'''\n",
    "# 메서드 호출법\n",
    "# 1) 객체.메서드() #-> self 생략\n",
    "a = Fourcal()\n",
    "a.setdata(4,2) # a.first = 4, a.second = 2\n",
    "# 2) 클래스 이름.메서드 # -> 객체 a = 첫번째 매개변수 self\n",
    "a = Fourcal()\n",
    "Fourcal.setdata(a,4,2)\n",
    "\n",
    "# * 클래스로 만든 객체의 객체변수(a.first, a.second) 는 독립적인 값\n",
    "\n",
    "# +, -, *, / 사칙연산 메서드 집어넣기\n",
    "class Fourcal:\n",
    "    def setdata(self, first, second):\n",
    "        self.first = first\n",
    "        self.second = second\n",
    "    \n",
    "    def add(self):\n",
    "        result = self.first + self.second\n",
    "        return result\n",
    "    \n",
    "    def sub(self):\n",
    "        result = self.first - self.second\n",
    "        return result\n",
    "    \n",
    "    def mul(self):\n",
    "        result = self.first * self.second\n",
    "        return result\n",
    "    \n",
    "    def div(self):\n",
    "        result = self.first / self.second\n",
    "        return result"
   ]
  },
  {
   "cell_type": "code",
   "execution_count": 9,
   "metadata": {},
   "outputs": [
    {
     "name": "stdout",
     "output_type": "stream",
     "text": [
      "4 2\n",
      "6\n"
     ]
    }
   ],
   "source": [
    "'''생성자(Constructor)\n",
    "- 객체에 초깃값을 설정해야 할 필요가 있을 때\n",
    "- 객체가 생성될 때 자동으로 호출되는 메서드\n",
    "- 생성자 메서드 이름 = __ini__\n",
    "- 다른 메서드와 동일하게 첫번째 매개변수self 에 생성되는 객체가 자동으로 전달'''\n",
    "class Fourcal:\n",
    "    def __init__(self, first, second):\n",
    "        self.first = first\n",
    "        self.second = second\n",
    "    \n",
    "    def add(self):\n",
    "        result = self.first + self.second\n",
    "        return result\n",
    "    \n",
    "    def sub(self):\n",
    "        result = self.first - self.second\n",
    "        return result\n",
    "    \n",
    "    def mul(self):\n",
    "        result = self.first * self.second\n",
    "        return result\n",
    "    \n",
    "    def div(self):\n",
    "        result = self.first / self.second\n",
    "        return result\n",
    "    \n",
    "a = Fourcal(4,2) # 객체에 초깃값을 미리 설정하여 메서드를 호출\n",
    "print(a.first, a.second)\n",
    "print(a.add())"
   ]
  },
  {
   "cell_type": "code",
   "execution_count": null,
   "metadata": {},
   "outputs": [],
   "source": [
    "'''상속(Inheritance)\n",
    "- 다른 클래스의 기능을 물려받을 수 있게\n",
    "- 기존 클래스를 변경하지 않고, 기능을 추가하거나, 기존기능을 변경할때\n",
    "- class 클래스 이름(상속할 클래스 이름)\n",
    "'''\n",
    "\n",
    "# 메서드 오버라이딩(덮어쓰기)\n",
    "# -> 부모 클래스(상속한 클래스)에 있는 메서드를 동일한 이름으로 다시 만드는 것\n",
    "\n",
    "# 클래스 변수\n",
    "# 클래스로 만든 모든 객체에 공유된다.\n",
    "# 사용법\n",
    "# 1. 클래스 이름.클래스 변수\n",
    "# 2. 객체 이름.클래스 변수"
   ]
  }
 ],
 "metadata": {
  "kernelspec": {
   "display_name": "Python 3",
   "language": "python",
   "name": "python3"
  },
  "language_info": {
   "codemirror_mode": {
    "name": "ipython",
    "version": 3
   },
   "file_extension": ".py",
   "mimetype": "text/x-python",
   "name": "python",
   "nbconvert_exporter": "python",
   "pygments_lexer": "ipython3",
   "version": "3.7.4"
  }
 },
 "nbformat": 4,
 "nbformat_minor": 2
}
