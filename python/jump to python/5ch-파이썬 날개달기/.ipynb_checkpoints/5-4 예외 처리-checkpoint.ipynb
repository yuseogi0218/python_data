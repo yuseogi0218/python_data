{
 "cells": [
  {
   "cell_type": "code",
   "execution_count": null,
   "metadata": {},
   "outputs": [],
   "source": [
    "'''예외 처리 => 오류를 무시하고 싶을 때\n",
    "try,except 사용\n",
    "\n",
    "자주 발생하는 오류\n",
    "\n",
    "1) FileNotFoundError - 디렉터리 안에 없는 파일을 열려고 시도\n",
    "\n",
    "2) ZeroDivisionError - 0으로 다른 숫자를 나누는 경우\n",
    "\n",
    "3) IndexError - 리스트에서 얻을수 없는값을 얻으려고 시도\n",
    "\n",
    "4) NotImplementedError - 꼭 작성해야 하는 부분이 구현되지 않았을 경우'''\n",
    "\n"
   ]
  },
  {
   "cell_type": "code",
   "execution_count": 11,
   "metadata": {},
   "outputs": [
    {
     "name": "stdout",
     "output_type": "stream",
     "text": [
      "Error\n",
      "Error\n",
      "division by zero\n"
     ]
    }
   ],
   "source": [
    "# try,except문 (오류 예외 처리 기법)\n",
    "'''\n",
    "try:\n",
    "    ...\n",
    "except [발생오류[as 오류 메시지 변수]] => [] 기호 - 괄호안의 내용을 생략 가능\n",
    "    ...\n",
    "'''\n",
    "\n",
    "# 1) try,except 만 쓰는 방법\n",
    "# 오류 종류에 상관없이 오류가 발생하면 except블록 수행\n",
    "try:\n",
    "    4/0\n",
    "except:\n",
    "    print(\"Error\")\n",
    "    \n",
    "# 2) 발생오류만 포함한 except 문\n",
    "# except문에 미리 정해놓은 오류 이름과 일치할때만 except 블록 수행\n",
    "try:\n",
    "    4/0\n",
    "except ZeroDivisionError:\n",
    "    print(\"Error\")\n",
    "    \n",
    "# 3) 발생오류와 오류 메시지 변수까지 포함한 except 문\n",
    "# 오류메시지의 내용까지 알고 싶을때\n",
    "try:\n",
    "    4/0\n",
    "except ZeroDivisionError as e: # 오류 메시지 변수 -> 아무 변수 이름이나 지정 가능\n",
    "    print(e)"
   ]
  },
  {
   "cell_type": "code",
   "execution_count": 12,
   "metadata": {},
   "outputs": [],
   "source": [
    "# finally: => try문 수행 도중 예외 발생 여부에 상관없이 항상 수행\n",
    "# 보통 사용한 리소스를 close할때 많이 사용한다.\n",
    "\n",
    "f = open(\"finally문.txt\",\"w\")\n",
    "try:\n",
    "    f.write(\"finally\")\n",
    "finally:\n",
    "    f.close()"
   ]
  },
  {
   "cell_type": "code",
   "execution_count": 13,
   "metadata": {},
   "outputs": [
    {
     "name": "stdout",
     "output_type": "stream",
     "text": [
      "list index out of range\n"
     ]
    }
   ],
   "source": [
    "# 여러개의 오류 처리하기 => except절을 여러개 사용\n",
    "try:\n",
    "    a = [1,2]\n",
    "    print(a[3]) # -> IndexError 가 먼저 발생했기 때문에 그 뒤의 오류는 발생X\n",
    "    4/0\n",
    "except ZeroDivisionError as e:\n",
    "    print(e)\n",
    "except IndexError as b:\n",
    "    print(b)                     # == except(ZeroDivisionError, IndexError) as e:"
   ]
  },
  {
   "cell_type": "code",
   "execution_count": 17,
   "metadata": {},
   "outputs": [],
   "source": [
    "# pass  (오류 회피하기) \n",
    "# 특정 오류 발생시 그냥 통과\n",
    "try:\n",
    "    f = open(\"없는파일.txt\",\"r\")\n",
    "except FileNotFoundError:\n",
    "    pass # <- 파일이 없더라도 오류를 발생시키지 않고 통과"
   ]
  },
  {
   "cell_type": "code",
   "execution_count": 1,
   "metadata": {},
   "outputs": [
    {
     "name": "stdout",
     "output_type": "stream",
     "text": [
      "very fast\n"
     ]
    }
   ],
   "source": [
    "# raise (오류 일부러 발생시키기)\n",
    "# raise 오류이름\n",
    "\n",
    "# 예시) Bird 클래스를 상속받는 자식 클래스(Eagle)는 반드시 fly함수를 구현하도록 만들어라\n",
    "class Bird:\n",
    "    def fly(self):\n",
    "        raise NotImplementedError\n",
    "        \n",
    "'''class Eagle(Bird):\n",
    "    pass\n",
    "\n",
    "a = Eagle()\n",
    "a.fly() # <= 오류 발생 == Bird클래스의 fly() 함수 -> raise '''\n",
    "\n",
    "class Eagle(Bird):\n",
    "    def fly(self):\n",
    "        print(\"very fast\")\n",
    "        \n",
    "a = Eagle()\n",
    "a.fly()"
   ]
  },
  {
   "cell_type": "code",
   "execution_count": 4,
   "metadata": {},
   "outputs": [
    {
     "name": "stdout",
     "output_type": "stream",
     "text": [
      "천사\n",
      "허용되지 않는 별명 입니다.\n"
     ]
    }
   ],
   "source": [
    "# Exception 클래스 상속 (예외 만들기)\n",
    "\n",
    "class MyError(Exception):\n",
    "    def __str__(self):\n",
    "        return \"허용되지 않는 별명 입니다.\"\n",
    "\n",
    "def say_nick(nick):\n",
    "    if nick == \"바보\":\n",
    "        raise MyError()\n",
    "    print(nick)\n",
    "    \n",
    "try:\n",
    "    say_nick(\"천사\")\n",
    "    say_nick(\"바보\")\n",
    "except MyError as e:\n",
    "    print(e)"
   ]
  }
 ],
 "metadata": {
  "kernelspec": {
   "display_name": "Python 3",
   "language": "python",
   "name": "python3"
  },
  "language_info": {
   "codemirror_mode": {
    "name": "ipython",
    "version": 3
   },
   "file_extension": ".py",
   "mimetype": "text/x-python",
   "name": "python",
   "nbconvert_exporter": "python",
   "pygments_lexer": "ipython3",
   "version": "3.7.4"
  }
 },
 "nbformat": 4,
 "nbformat_minor": 2
}
