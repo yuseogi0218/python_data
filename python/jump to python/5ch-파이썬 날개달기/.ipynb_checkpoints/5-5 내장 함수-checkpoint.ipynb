{
 "cells": [
  {
   "cell_type": "code",
   "execution_count": 1,
   "metadata": {},
   "outputs": [
    {
     "data": {
      "text/plain": [
       "3"
      ]
     },
     "execution_count": 1,
     "metadata": {},
     "output_type": "execute_result"
    }
   ],
   "source": [
    "# abs(숫자) 절댓값 함수\n",
    "abs(-3)"
   ]
  },
  {
   "cell_type": "code",
   "execution_count": 3,
   "metadata": {},
   "outputs": [
    {
     "name": "stdout",
     "output_type": "stream",
     "text": [
      "True\n",
      "False\n"
     ]
    }
   ],
   "source": [
    "#  all(반복가능한 자료형(리스트, 튜플, 문자열, 딕셔너리, 집합))\n",
    "# 자료형의 요소가 모두 참이면 True, 하나라도 거짓이면 False\n",
    "\n",
    "print(all([1,2,3]))\n",
    "print(all([0,1,2]))"
   ]
  },
  {
   "cell_type": "code",
   "execution_count": 7,
   "metadata": {},
   "outputs": [
    {
     "name": "stdout",
     "output_type": "stream",
     "text": [
      "True\n",
      "False\n"
     ]
    }
   ],
   "source": [
    "# any(반복가능한 자료형)\n",
    "# 자료형의 요소중 하나라도 참이면 True,모두 거짓이면 False\n",
    "\n",
    "print(any([0,1,2,3]))\n",
    "print(any([0,\"\"]))"
   ]
  },
  {
   "cell_type": "code",
   "execution_count": 8,
   "metadata": {},
   "outputs": [
    {
     "data": {
      "text/plain": [
       "'a'"
      ]
     },
     "execution_count": 8,
     "metadata": {},
     "output_type": "execute_result"
    }
   ],
   "source": [
    "# chr(아스키(ASCII) 코드 값) \n",
    "# 아스키 코드 == 0 ~ 127 사이의 숫자를 각 하나의 문자 또는 기호에 대응시켜 놓은 것\n",
    "# 아스키 코드 값을 입력받아 그 코드에 해당하는 문자 출력\n",
    "\n",
    "chr(97)"
   ]
  },
  {
   "cell_type": "code",
   "execution_count": 19,
   "metadata": {},
   "outputs": [
    {
     "name": "stdout",
     "output_type": "stream",
     "text": [
      "97\n"
     ]
    }
   ],
   "source": [
    "# ord(\"문자\")\n",
    "# 문자의 아스키 코드값을 반환\n",
    "\n",
    "print(ord(\"a\"))"
   ]
  },
  {
   "cell_type": "code",
   "execution_count": 10,
   "metadata": {},
   "outputs": [
    {
     "name": "stdout",
     "output_type": "stream",
     "text": [
      "['__add__', '__class__', '__contains__', '__delattr__', '__delitem__', '__dir__', '__doc__', '__eq__', '__format__', '__ge__', '__getattribute__', '__getitem__', '__gt__', '__hash__', '__iadd__', '__imul__', '__init__', '__init_subclass__', '__iter__', '__le__', '__len__', '__lt__', '__mul__', '__ne__', '__new__', '__reduce__', '__reduce_ex__', '__repr__', '__reversed__', '__rmul__', '__setattr__', '__setitem__', '__sizeof__', '__str__', '__subclasshook__', 'append', 'clear', 'copy', 'count', 'extend', 'index', 'insert', 'pop', 'remove', 'reverse', 'sort']\n",
      "['__class__', '__contains__', '__delattr__', '__delitem__', '__dir__', '__doc__', '__eq__', '__format__', '__ge__', '__getattribute__', '__getitem__', '__gt__', '__hash__', '__init__', '__init_subclass__', '__iter__', '__le__', '__len__', '__lt__', '__ne__', '__new__', '__reduce__', '__reduce_ex__', '__repr__', '__setattr__', '__setitem__', '__sizeof__', '__str__', '__subclasshook__', 'clear', 'copy', 'fromkeys', 'get', 'items', 'keys', 'pop', 'popitem', 'setdefault', 'update', 'values']\n"
     ]
    }
   ],
   "source": [
    "# dir(객체) \n",
    "# 객체가 자체적으로 가지고 있는 변수나 함수를 보여준다.\n",
    "\n",
    "print(dir([1,2,3]))\n",
    "print(dir({\"1\":\"2\"}))"
   ]
  },
  {
   "cell_type": "code",
   "execution_count": 11,
   "metadata": {},
   "outputs": [
    {
     "data": {
      "text/plain": [
       "(2, 1)"
      ]
     },
     "execution_count": 11,
     "metadata": {},
     "output_type": "execute_result"
    }
   ],
   "source": [
    "# divmod(숫자1, 숫자2) \n",
    "# 숫자 1을 숫자 2로 나는 몫과 나머지를 튜플 형태로 반환\n",
    "\n",
    "divmod(7,3)"
   ]
  },
  {
   "cell_type": "code",
   "execution_count": 13,
   "metadata": {},
   "outputs": [
    {
     "name": "stdout",
     "output_type": "stream",
     "text": [
      "0 body\n",
      "1 foo\n",
      "2 bar\n"
     ]
    }
   ],
   "source": [
    "# enumerate(순서가 있는 자료형(리스트, 튜플, 문자열))\n",
    "# 인덱스 값을 포함하는 enumerate 객체를 돌려준다.\n",
    "# enumerate == 열거하다\n",
    "# 보통 for 문과 같이쓴다.\n",
    "\n",
    "for i, name in enumerate([\"body\",\"foo\",\"bar\"]):\n",
    "    print(i,name)"
   ]
  },
  {
   "cell_type": "code",
   "execution_count": 1,
   "metadata": {},
   "outputs": [
    {
     "name": "stdout",
     "output_type": "stream",
     "text": [
      "hia\n",
      "3\n"
     ]
    }
   ],
   "source": [
    "# eval(실행 가능한 문자열) (expression)\n",
    "# 문자열을 실행한 결과값을 돌려준다.\n",
    "\n",
    "print(eval(\"'hi'+'a'\"))\n",
    "print(eval(\"1+2\"))"
   ]
  },
  {
   "cell_type": "code",
   "execution_count": 7,
   "metadata": {},
   "outputs": [
    {
     "data": {
      "text/plain": [
       "[1, 2, 6]"
      ]
     },
     "execution_count": 7,
     "metadata": {},
     "output_type": "execute_result"
    }
   ],
   "source": [
    "# fileter(함수이름, 반복 가능한 자료형)\n",
    "# 반복 가능한 자료형이 함수에 입력되었을때 참인 값만 돌려준다.\n",
    "\n",
    "'''def positive(x):\n",
    "    return x>0\n",
    "    \n",
    "print(list(filter(positive, [1,-3,2,0,-5,6])))'''\n",
    "\n",
    "list(filter(lambda x: x>0, [1,-3,2,0,-5,6]))"
   ]
  },
  {
   "cell_type": "code",
   "execution_count": 8,
   "metadata": {},
   "outputs": [
    {
     "data": {
      "text/plain": [
       "'0xea'"
      ]
     },
     "execution_count": 8,
     "metadata": {},
     "output_type": "execute_result"
    }
   ],
   "source": [
    "# hex(정수 값)\n",
    "# 정수 값 -> 16진수\n",
    "\n",
    "hex(234)"
   ]
  },
  {
   "cell_type": "code",
   "execution_count": 9,
   "metadata": {},
   "outputs": [
    {
     "name": "stdout",
     "output_type": "stream",
     "text": [
      "3\n",
      "3\n"
     ]
    }
   ],
   "source": [
    "# id(객체)\n",
    "# 객체의 고유 주소값(레퍼런스)을 돌려준다.\n",
    "\n",
    "a = 3\n",
    "print(3)\n",
    "print(a)"
   ]
  },
  {
   "cell_type": "code",
   "execution_count": 1,
   "metadata": {},
   "outputs": [
    {
     "name": "stdout",
     "output_type": "stream",
     "text": [
      "입력하시오 : 가나다\n",
      "가나다\n"
     ]
    }
   ],
   "source": [
    "# input([\"문자열\"])\n",
    "\n",
    "a = input(\"입력하시오 : \")\n",
    "\n",
    "print(a)"
   ]
  },
  {
   "cell_type": "code",
   "execution_count": 5,
   "metadata": {},
   "outputs": [
    {
     "name": "stdout",
     "output_type": "stream",
     "text": [
      "3\n",
      "3\n",
      "3\n",
      "26\n"
     ]
    }
   ],
   "source": [
    "# int(문자열)\n",
    "# 문자열 형태의 숫자를 정수형으로 바꿔준다.\n",
    "# 소수점이있는 숫자를 정수로 바꿔준다.\n",
    "\n",
    "print(int(\"3\"))\n",
    "print(int(3.424))\n",
    "\n",
    "# int(x,radix) \n",
    "# radix 진수로 표현된 문자열 x 를 10진수 형태로 바꿘준다.\n",
    "print(int(\"11\",2))\n",
    "print(int(\"1A\",16))"
   ]
  },
  {
   "cell_type": "code",
   "execution_count": 9,
   "metadata": {},
   "outputs": [
    {
     "name": "stdout",
     "output_type": "stream",
     "text": [
      "True\n",
      "False\n"
     ]
    }
   ],
   "source": [
    "# isinstance(객체, 클래스)\n",
    "# 객체가 클래스의 인스턴스인지를 판단\n",
    "\n",
    "class person:\n",
    "    pass\n",
    "\n",
    "a = person() # a == person 클래스의 인스턴스\n",
    "b = 3\n",
    "\n",
    "print(isinstance(a,person))\n",
    "print(isinstance(b,person))"
   ]
  },
  {
   "cell_type": "code",
   "execution_count": 11,
   "metadata": {},
   "outputs": [
    {
     "name": "stdout",
     "output_type": "stream",
     "text": [
      "6\n",
      "3\n",
      "2\n"
     ]
    }
   ],
   "source": [
    "# len(요소)\n",
    "# 요소의 전체길이 반환\n",
    "\n",
    "print(len(\"python\"))\n",
    "print(len([1,2,3]))\n",
    "print(len((1,\"a\")))"
   ]
  },
  {
   "cell_type": "code",
   "execution_count": 12,
   "metadata": {},
   "outputs": [
    {
     "name": "stdout",
     "output_type": "stream",
     "text": [
      "['p', 'y', 't', 'h', 'o', 'n']\n",
      "[1, 2, 3]\n"
     ]
    }
   ],
   "source": [
    "# list(반복 가능한 자료형)\n",
    "# 자료형 -> 리스트 형태로 반환\n",
    "\n",
    "print(list(\"python\"))\n",
    "print(list((1,2,3)))"
   ]
  },
  {
   "cell_type": "code",
   "execution_count": 14,
   "metadata": {},
   "outputs": [
    {
     "data": {
      "text/plain": [
       "[2, 4, 6, 8, 10]"
      ]
     },
     "execution_count": 14,
     "metadata": {},
     "output_type": "execute_result"
    }
   ],
   "source": [
    "# map(함수, 반복가능한 자료형)\n",
    "# 자료형의 각 요소를 함수가 수행한 결과로 묶어서 반환\n",
    "\n",
    "def two_times(x):\n",
    "    return x*2\n",
    "\n",
    "a = [1,2,3,4,5]\n",
    "\n",
    "list(map(two_times, a))\n",
    "\n",
    "# == list(map(lambda a: a*2, [1,2,3,4,5]))"
   ]
  },
  {
   "cell_type": "code",
   "execution_count": 15,
   "metadata": {},
   "outputs": [
    {
     "name": "stdout",
     "output_type": "stream",
     "text": [
      "5\n"
     ]
    }
   ],
   "source": [
    "# max(반복가능한 자료형)\n",
    "# 최댓값 반환\n",
    "\n",
    "print(max([1,2,3,4,5]))"
   ]
  },
  {
   "cell_type": "code",
   "execution_count": 16,
   "metadata": {},
   "outputs": [
    {
     "name": "stdout",
     "output_type": "stream",
     "text": [
      "1\n"
     ]
    }
   ],
   "source": [
    "# min(반복가능한 자료형)\n",
    "# 최솟값 반환\n",
    "\n",
    "print(min(1,2,3,4,5))"
   ]
  },
  {
   "cell_type": "code",
   "execution_count": 17,
   "metadata": {},
   "outputs": [
    {
     "name": "stdout",
     "output_type": "stream",
     "text": [
      "0o12\n"
     ]
    }
   ],
   "source": [
    "# oct(정수형태의 숫장)\n",
    "# 정수형태의 숫자 -> 8진수로 반환\n",
    "\n",
    "print(oct(10))"
   ]
  },
  {
   "cell_type": "code",
   "execution_count": 18,
   "metadata": {},
   "outputs": [],
   "source": [
    "# open(파일이름, [읽기 방법])\n",
    "# w == 쓰기모드\n",
    "# r == 읽기모드\n",
    "# a == 추가모드\n",
    "# b == 바이너리 모드\n",
    "# [읽기방법] 생략시 r(읽기모드) 로 열린다.\n",
    "# b 는 w,r,a 와 함께 사용한다. ex) rb, wb, ab"
   ]
  },
  {
   "cell_type": "code",
   "execution_count": 20,
   "metadata": {},
   "outputs": [
    {
     "name": "stdout",
     "output_type": "stream",
     "text": [
      "16\n"
     ]
    }
   ],
   "source": [
    "# pow(x,y)\n",
    "# x^y 반환\n",
    "\n",
    "print(pow(2,4))"
   ]
  },
  {
   "cell_type": "code",
   "execution_count": 1,
   "metadata": {},
   "outputs": [],
   "source": [
    "# range([시작], 끝, [증감폭])\n",
    "# list(range()) -> 리스트 값 반환"
   ]
  },
  {
   "cell_type": "code",
   "execution_count": 2,
   "metadata": {},
   "outputs": [
    {
     "data": {
      "text/plain": [
       "5.68"
      ]
     },
     "execution_count": 2,
     "metadata": {},
     "output_type": "execute_result"
    }
   ],
   "source": [
    "# round(소수, [반올림 자릿수])\n",
    "round(5.678, 2)"
   ]
  },
  {
   "cell_type": "code",
   "execution_count": 3,
   "metadata": {},
   "outputs": [
    {
     "data": {
      "text/plain": [
       "[1, 2, 3, 5, 6]"
      ]
     },
     "execution_count": 3,
     "metadata": {},
     "output_type": "execute_result"
    }
   ],
   "source": [
    "# sorted(반복가능한 자료형)\n",
    "# 입력값을 정렬한 후 결과를 리스트로 반환한다.\n",
    "sorted([1,5,2,6,3])"
   ]
  },
  {
   "cell_type": "code",
   "execution_count": 4,
   "metadata": {},
   "outputs": [
    {
     "data": {
      "text/plain": [
       "'3'"
      ]
     },
     "execution_count": 4,
     "metadata": {},
     "output_type": "execute_result"
    }
   ],
   "source": [
    "# str(객체)\n",
    "# 객체를 문자열 형태로 반환한다.\n",
    "str(3)"
   ]
  },
  {
   "cell_type": "code",
   "execution_count": 5,
   "metadata": {
    "scrolled": true
   },
   "outputs": [
    {
     "data": {
      "text/plain": [
       "15"
      ]
     },
     "execution_count": 5,
     "metadata": {},
     "output_type": "execute_result"
    }
   ],
   "source": [
    "# sum(리스트 or 튜플)\n",
    "# 입력받은 리스트난 튜플의 모든 원소의 값을 더한값을 반환한다.\n",
    "\n",
    "sum([1,2,3,4,5])"
   ]
  },
  {
   "cell_type": "code",
   "execution_count": 6,
   "metadata": {},
   "outputs": [
    {
     "name": "stdout",
     "output_type": "stream",
     "text": [
      "('a', 'b', 'c')\n",
      "(1, 2, 3)\n"
     ]
    }
   ],
   "source": [
    "# tuple(반복가능한 자료형)\n",
    "# 입력받은 자료형을 튜플 형태로 반환한다.\n",
    "print(tuple(\"abc\"))\n",
    "print(tuple([1,2,3]))"
   ]
  },
  {
   "cell_type": "code",
   "execution_count": 7,
   "metadata": {},
   "outputs": [
    {
     "data": {
      "text/plain": [
       "list"
      ]
     },
     "execution_count": 7,
     "metadata": {},
     "output_type": "execute_result"
    }
   ],
   "source": [
    "# type(객체)\n",
    "# 입력값의 자료형이 무엇인지 반환한다.\n",
    "type([])"
   ]
  },
  {
   "cell_type": "code",
   "execution_count": 10,
   "metadata": {},
   "outputs": [
    {
     "name": "stdout",
     "output_type": "stream",
     "text": [
      "[(1, 4), (2, 5), (3, 6)]\n",
      "[('a', 'd'), ('b', 'e'), ('c', 'f')]\n"
     ]
    }
   ],
   "source": [
    "# zip(여러개의 반복가능한 자료형)\n",
    "# 동일한 개수로 이루어진 자료형을 묶어주어 반환한다.\n",
    "\n",
    "print(list(zip((1,2,3),(4,5,6))))\n",
    "print(list(zip(\"abc\",\"def\")))"
   ]
  }
 ],
 "metadata": {
  "kernelspec": {
   "display_name": "Python 3",
   "language": "python",
   "name": "python3"
  },
  "language_info": {
   "codemirror_mode": {
    "name": "ipython",
    "version": 3
   },
   "file_extension": ".py",
   "mimetype": "text/x-python",
   "name": "python",
   "nbconvert_exporter": "python",
   "pygments_lexer": "ipython3",
   "version": "3.7.4"
  }
 },
 "nbformat": 4,
 "nbformat_minor": 2
}
