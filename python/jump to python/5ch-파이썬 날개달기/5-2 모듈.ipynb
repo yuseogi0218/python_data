{
 "cells": [
  {
   "cell_type": "code",
   "execution_count": 2,
   "metadata": {},
   "outputs": [
    {
     "data": {
      "text/plain": [
       "'\\n모듈 (Module)\\n- 함수, 변수, 클래스를 모아 놓은 파일\\n- 다른 파이썬 프로그램에서 불러와 사용'"
      ]
     },
     "execution_count": 2,
     "metadata": {},
     "output_type": "execute_result"
    }
   ],
   "source": [
    "'''\n",
    "모듈 (Module)\n",
    "- 함수, 변수, 클래스를 모아 놓은 파일 => 모듈이름.클래스 or 함수 or 변수\n",
    "- 다른 파이썬 프로그램에서 불러와 사용'''\n",
    "\n",
    "# 모듈 만들기\n",
    "# 파이썬 확장자 .py로 만든 파이썬 파일은 모두 모듈이다.\n",
    "\n",
    "# 모듈 불러오기\n",
    "# import 모듈 이름\n",
    "# 현재 디렉터리에 있는 파일 만 사용 가능\n",
    "# 파이썬 라이브러리가 저장된 디렉터리에 있는 파일 만 사용 가능\n",
    "\n",
    "# 모듈 안의 함수 불러오기\n",
    "# from 모듈 이름 import 모듈 함수\n",
    "# from 모듈 이름 import * (모든것)"
   ]
  },
  {
   "cell_type": "code",
   "execution_count": null,
   "metadata": {},
   "outputs": [],
   "source": [
    "# if __name__ == \"__main__\"\n",
    "\n",
    "# 직접 모듈.py 파일을 실행할 경우 -> __name__ 변수에 __main__ 이 저장\n",
    "# import 모듈 하거나 파이썬 셸 에서 실행할 경우 -> __name__ 변수에 모듈이름이 저장"
   ]
  },
  {
   "cell_type": "code",
   "execution_count": null,
   "metadata": {},
   "outputs": [],
   "source": [
    "# 다른 파일에서 모듈 불러오기\n",
    "\n",
    "# 두 파일이 동일한 디렉터리에 있어야 가능\n",
    "# import 모듈이름\n",
    "\n",
    "# 1) sys.path.append(사용할 모듈을 저장한 디렉터리) \n",
    "# sys.path = 파이썬 라이브러리가 설치되어 있는 디렉터리를 리스트로 반환\n",
    "\n",
    "# 2) PYTHONPATH 환경변수 사용하기\n",
    "# set PYTHONPATH = 사용할 모듈을 저장한 디렉터리\n"
   ]
  }
 ],
 "metadata": {
  "kernelspec": {
   "display_name": "Python 3",
   "language": "python",
   "name": "python3"
  },
  "language_info": {
   "codemirror_mode": {
    "name": "ipython",
    "version": 3
   },
   "file_extension": ".py",
   "mimetype": "text/x-python",
   "name": "python",
   "nbconvert_exporter": "python",
   "pygments_lexer": "ipython3",
   "version": "3.7.4"
  }
 },
 "nbformat": 4,
 "nbformat_minor": 2
}
