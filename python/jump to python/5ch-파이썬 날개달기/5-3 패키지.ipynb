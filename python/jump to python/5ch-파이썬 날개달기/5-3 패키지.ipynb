{
 "cells": [
  {
   "cell_type": "code",
   "execution_count": null,
   "metadata": {},
   "outputs": [],
   "source": [
    "'''\n",
    "패키지(Packages) - 파이썬 모듈을 계층적(디렉터리 구조)으로 관리\n",
    "- 도트(.)를 사용\n",
    "- 루트 디렉터리, 서브 디렉터리\n",
    "- 공동 작업이나 유지보수에 유리\n",
    "- 다른 모듈과 이름이 겹치더라도 안전하게 사용'''"
   ]
  },
  {
   "cell_type": "code",
   "execution_count": 1,
   "metadata": {},
   "outputs": [],
   "source": [
    "# 패키지 안의 함수 실행하기\n",
    "\n",
    "# 1) 모듈을 import\n",
    "# import 패키지.모듈\n",
    "# 디렉터리.모듈.함수()\n",
    "\n",
    "# 2) 모듈이 있는 디릭터리 까지를 from ... import \n",
    "# from 디렉터리 import 모듈\n",
    "# 모듈.함수()\n",
    "\n",
    "# 3) 함수를 직접 import \n",
    "# from 디렉터리.모듈 import 함수\n",
    "# 함수()\n",
    "\n",
    "# import 루트 디렉터리 -> 루트 디렉터리 안에만 있는 모듈을 사용하여야 한다. ( 서브 디렉터리 사용 불가)\n",
    "# import a.b.c 의 가장 마지막 c는 모듈 or 패키지 \n"
   ]
  },
  {
   "cell_type": "code",
   "execution_count": 2,
   "metadata": {},
   "outputs": [],
   "source": [
    "# __init__.py 의 용도\n",
    "# 디렉터리가 패키지의 일부임을 알려주는 역할\n",
    "\n",
    "# from 디렉터리 import * 을 사용하기 위해\n",
    "# __init__.py 에 __all__ = [\"모듈\"] 변수 설정"
   ]
  },
  {
   "cell_type": "code",
   "execution_count": 3,
   "metadata": {},
   "outputs": [],
   "source": [
    "# relative 패키지\n",
    "\n",
    "# Loot.A 디렉터리의 a.py 모듈이 Loot.B 디렉터리 의 b.py 모듈을 사용하고 싶을때\n",
    "# a.py를 수정\n",
    "# from Loot.B.b import b_test => a.py 에서 b_test 함수 사용가능\n",
    "# -> relative => from ..B.b import b_test => .. = 부모디렉터리, . = 현재 디렉터리 "
   ]
  }
 ],
 "metadata": {
  "kernelspec": {
   "display_name": "Python 3",
   "language": "python",
   "name": "python3"
  },
  "language_info": {
   "codemirror_mode": {
    "name": "ipython",
    "version": 3
   },
   "file_extension": ".py",
   "mimetype": "text/x-python",
   "name": "python",
   "nbconvert_exporter": "python",
   "pygments_lexer": "ipython3",
   "version": "3.7.4"
  }
 },
 "nbformat": 4,
 "nbformat_minor": 2
}
