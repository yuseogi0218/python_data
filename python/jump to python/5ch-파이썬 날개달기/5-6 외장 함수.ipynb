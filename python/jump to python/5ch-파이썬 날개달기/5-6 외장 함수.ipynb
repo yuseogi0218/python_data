{
 "cells": [
  {
   "cell_type": "code",
   "execution_count": 1,
   "metadata": {},
   "outputs": [],
   "source": [
    "# 파이썬 라이브러리 = 유요한 프로그램을 모아 놓은 것"
   ]
  },
  {
   "cell_type": "code",
   "execution_count": 2,
   "metadata": {},
   "outputs": [],
   "source": [
    "# sys 모듈\n",
    "# 파이썬 인터프리터가 제공하는 변수와 함수를 직접 제어 \n",
    "\n",
    "# sys.argv - 명령 행에서 인수 전달하기\n",
    "\n",
    "# sys.exit - 강제로 스크립트 종료하기\n",
    "\n",
    "# sys.path - 파이썬 모듈들이 저장되어 있는 위치\n",
    "#  자신이 만든 모듈을 sys.path 에 저장하면 모듈을 불러와 사용할 수 있다."
   ]
  },
  {
   "cell_type": "code",
   "execution_count": 8,
   "metadata": {},
   "outputs": [],
   "source": [
    "# pickle 모듈 \n",
    "# 객체의 형태를 그대로 유지 -> 파일에 저장하고 불러올수있다.\n",
    "# 어떤 자료형이든 가능하다.\n",
    "import pickle\n",
    "f = open(\"test.txt\",\"wb\")\n",
    "data = {1: \"python\", 2: \"you need\"}\n",
    "pickle.dump(data,f)\n",
    "f.close()"
   ]
  },
  {
   "cell_type": "code",
   "execution_count": 6,
   "metadata": {
    "scrolled": true
   },
   "outputs": [
    {
     "name": "stdout",
     "output_type": "stream",
     "text": [
      "{1: 'python', 2: 'you need'}\n"
     ]
    }
   ],
   "source": [
    "import pickle\n",
    "f = open(\"test.txt\", \"r\")\n",
    "data = pickle.load(f)\n",
    "print(data)"
   ]
  },
  {
   "cell_type": "code",
   "execution_count": 11,
   "metadata": {
    "scrolled": true
   },
   "outputs": [
    {
     "name": "stdout",
     "output_type": "stream",
     "text": [
      "1 environ({'ALLUSERSPROFILE': 'C:\\\\ProgramData', 'APPDATA': 'C:\\\\Users\\\\aaaa\\\\AppData\\\\Roaming', 'COMMONPROGRAMFILES': 'C:\\\\Program Files\\\\Common Files', 'COMMONPROGRAMFILES(X86)': 'C:\\\\Program Files (x86)\\\\Common Files', 'COMMONPROGRAMW6432': 'C:\\\\Program Files\\\\Common Files', 'COMPUTERNAME': '중위이예인', 'COMSPEC': 'C:\\\\Windows\\\\system32\\\\cmd.exe', 'HOMEDRIVE': 'C:', 'HOMEPATH': '\\\\Users\\\\aaaa', 'LOCALAPPDATA': 'C:\\\\Users\\\\aaaa\\\\AppData\\\\Local', 'LOGONSERVER': '\\\\\\\\중위이예인', 'NUMBER_OF_PROCESSORS': '4', 'ONEDRIVE': 'C:\\\\Users\\\\aaaa\\\\OneDrive', 'OS': 'Windows_NT', 'PATH': 'C:\\\\ProgramData\\\\Anaconda3;C:\\\\ProgramData\\\\Anaconda3\\\\Library\\\\mingw-w64\\\\bin;C:\\\\ProgramData\\\\Anaconda3\\\\Library\\\\usr\\\\bin;C:\\\\ProgramData\\\\Anaconda3\\\\Library\\\\bin;C:\\\\ProgramData\\\\Anaconda3\\\\Scripts;C:\\\\Windows\\\\Softcamp\\\\SDK;C:\\\\Windows\\\\Softcamp\\\\SDS\\\\x64;C:\\\\Windows\\\\Softcamp\\\\SDS;C:\\\\Windows\\\\system32;C:\\\\Windows;C:\\\\Windows\\\\System32\\\\Wbem;C:\\\\Windows\\\\System32\\\\WindowsPowerShell\\\\v1.0\\\\;c:\\\\windows\\\\softcamp\\\\vsd;c:\\\\windows\\\\softcamp\\\\vsd\\\\x64;c:\\\\windows\\\\softcamp\\\\vsd\\\\mnd;C:\\\\Users\\\\aaaa\\\\AppData\\\\Local\\\\Microsoft\\\\WindowsApps;C:\\\\Program Files\\\\Bandizip\\\\', 'PATHEXT': '.COM;.EXE;.BAT;.CMD;.VBS;.VBE;.JS;.JSE;.WSF;.WSH;.MSC', 'PROCESSOR_ARCHITECTURE': 'AMD64', 'PROCESSOR_IDENTIFIER': 'AMD64 Family 23 Model 24 Stepping 1, AuthenticAMD', 'PROCESSOR_LEVEL': '23', 'PROCESSOR_REVISION': '1801', 'PROGRAMDATA': 'C:\\\\ProgramData', 'PROGRAMFILES': 'C:\\\\Program Files', 'PROGRAMFILES(X86)': 'C:\\\\Program Files (x86)', 'PROGRAMW6432': 'C:\\\\Program Files', 'PSMODULEPATH': 'C:\\\\Program Files\\\\WindowsPowerShell\\\\Modules;C:\\\\Windows\\\\system32\\\\WindowsPowerShell\\\\v1.0\\\\Modules', 'PUBLIC': 'C:\\\\Users\\\\Public', 'SESSIONNAME': 'Console', 'SYSTEMDRIVE': 'C:', 'SYSTEMROOT': 'C:\\\\Windows', 'TEMP': 'C:\\\\Users\\\\aaaa\\\\AppData\\\\Local\\\\Temp', 'TMP': 'C:\\\\Users\\\\aaaa\\\\AppData\\\\Local\\\\Temp', 'USERDOMAIN': '중위이예인', 'USERDOMAIN_ROAMINGPROFILE': '중위이예인', 'USERNAME': 'aaaa', 'USERPROFILE': 'C:\\\\Users\\\\aaaa', 'WINDIR': 'C:\\\\Windows', 'CONDA_PREFIX': 'C:\\\\ProgramData\\\\Anaconda3', 'KERNEL_LAUNCH_TIMEOUT': '40', 'JPY_INTERRUPT_EVENT': '2868', 'IPY_INTERRUPT_EVENT': '2868', 'JPY_PARENT_PID': '2860', 'TERM': 'xterm-color', 'CLICOLOR': '1', 'PAGER': 'cat', 'GIT_PAGER': 'cat', 'MPLBACKEND': 'module://ipykernel.pylab.backend_inline'})\n",
      "2 C:\\Users\\aaaa\\python\\5ch-파이썬 날개달기\n",
      "3 [' C 드라이브의 볼륨에는 이름이 없습니다.\\n', ' 볼륨 일련 번호: 0E8D-1CEF\\n', '\\n', ' C:\\\\Users\\\\aaaa\\\\python\\\\5ch-파이썬 날개달기 디렉터리\\n', '\\n', '2020-05-16  오후 06:27    <DIR>          .\\n', '2020-05-16  오후 06:27    <DIR>          ..\\n', '2020-05-16  오후 06:06    <DIR>          .ipynb_checkpoints\\n', '2020-05-08  오전 11:34             5,538 5-1 클래스.ipynb\\n', '2020-05-11  오후 02:57             2,558 5-2 모듈.ipynb\\n', '2020-05-12  오전 08:49             2,485 5-3 패키지.ipynb\\n', '2020-05-13  오전 08:38             5,483 5-4 예외 처리.ipynb\\n', '2020-05-16  오후 06:05            14,862 5-5 내장 함수.ipynb\\n', '2020-05-16  오후 06:27             6,574 5-6 외장 함수.ipynb\\n', '2020-05-12  오전 09:17                 7 finally문.txt\\n', '2020-05-16  오후 06:19                40 test.txt\\n', '               8개 파일              37,547 바이트\\n', '               3개 디렉터리  87,996,465,152 바이트 남음\\n']\n"
     ]
    }
   ],
   "source": [
    "# os 모듈 - os 자원을 제어할 수 있게 만들어준다.\n",
    "import os\n",
    "\n",
    "# os.environ - 내 시스템의 환경변수\n",
    "# 딕셔너리로 반환\n",
    "print(\"1\", os.environ)\n",
    "\n",
    "# os.chdir(변경하고 싶은 디렉터리 위치) - 디렉터리 위치 변경\n",
    "\n",
    "# os.getcwd() - 현재 디렉터리의 위치를 반환한다.\n",
    "print(\"2\", os.getcwd())\n",
    "\n",
    "# os.system(\"os 명령어\") - os 명령어 사용\n",
    "\n",
    "# os.popen(\"명령어\") - 명령어의 결괏값 돌려받기\n",
    "f = os.popen(\"dir\")\n",
    "print(\"3\", f.readlines())"
   ]
  },
  {
   "cell_type": "code",
   "execution_count": 12,
   "metadata": {},
   "outputs": [],
   "source": [
    "# 기타 유용한 os 관련 함수\n",
    "# os.mkdir(디렉터리) - 디렉터리를 생성한다.\n",
    "# os.rmdir(디렉터리) - 디렉터리를 삭제한다.( 단, 디렉터리가 비어있을 때 가능)\n",
    "# os.unlink(파일이름) - 파일을 지운다.\n",
    "# os.rename(src,dst) - 파일 이름을 변경한다."
   ]
  },
  {
   "cell_type": "code",
   "execution_count": 13,
   "metadata": {},
   "outputs": [],
   "source": [
    "# shutil - 파일을 복사\n",
    "import shutil\n",
    "# shutil.copy(\"src.txt\",\"dst.txt\")\n",
    "# 만약 dst 가 디렉터리라면, src.txt 를 dst디렉터리에 덮어씌운다."
   ]
  },
  {
   "cell_type": "code",
   "execution_count": 16,
   "metadata": {
    "scrolled": true
   },
   "outputs": [
    {
     "data": {
      "text/plain": [
       "['c:5-1 클래스.ipynb',\n",
       " 'c:5-2 모듈.ipynb',\n",
       " 'c:5-3 패키지.ipynb',\n",
       " 'c:5-4 예외 처리.ipynb',\n",
       " 'c:5-5 내장 함수.ipynb',\n",
       " 'c:5-6 외장 함수.ipynb',\n",
       " 'c:finally문.txt',\n",
       " 'c:test.txt']"
      ]
     },
     "execution_count": 16,
     "metadata": {},
     "output_type": "execute_result"
    }
   ],
   "source": [
    "# glob - 특정 디렉터리에 있는 모든 파일 이름을 알게해준다.\n",
    "import glob\n",
    "glob.glob(\"c:*\")"
   ]
  },
  {
   "cell_type": "code",
   "execution_count": 17,
   "metadata": {},
   "outputs": [],
   "source": [
    "# tempfile - 파일을 임시로 만들어서 사용\n",
    "import tempfile\n",
    "# tempfile.mktemp() - 중복되지 않는 임시 파일의 이름을 무작위로 만들어준다.\n",
    "# tempfile.TemporaryFile() - 임시 저장 공간으로 사용할 파일 객체를 돌려준다."
   ]
  },
  {
   "cell_type": "code",
   "execution_count": 22,
   "metadata": {},
   "outputs": [
    {
     "name": "stdout",
     "output_type": "stream",
     "text": [
      "1589622320.4980085\n",
      "time.struct_time(tm_year=2020, tm_mon=5, tm_mday=16, tm_hour=18, tm_min=45, tm_sec=20, tm_wday=5, tm_yday=137, tm_isdst=0)\n",
      "Sat May 16 18:45:20 2020\n",
      "Sat May 16 18:45:20 2020\n"
     ]
    }
   ],
   "source": [
    "# time - 시간과 관련된 모듈\n",
    "import time\n",
    "\n",
    "print(time.time()) # -> 현재시간을 실수형태로 반환\n",
    "\n",
    "print(time.localtime(time.time())) # -> 현재시간을 연도, 월, 일 , 시, 분, 초 의 형태로 반환\n",
    "\n",
    "print(time.asctime(time.localtime(time.time()))) # 현재 시간을 보기 쉬운 형태로 반환\n",
    "\n",
    "print(time.ctime()) # asctime과 다른점 - 항상 현재시간만을 반환\n",
    "\n",
    "# time.strftime(\"출력할 형식의 포맷코드\", time.localtime(time.time()))\n",
    "# - 시간을 세밀하게 표현 "
   ]
  },
  {
   "cell_type": "code",
   "execution_count": 23,
   "metadata": {},
   "outputs": [
    {
     "name": "stdout",
     "output_type": "stream",
     "text": [
      "0\n",
      "1\n",
      "2\n",
      "3\n",
      "4\n",
      "5\n",
      "6\n",
      "7\n",
      "8\n",
      "9\n"
     ]
    }
   ],
   "source": [
    "# time.sleep - 일정한 시간 간격을 두고 루프르 실행\n",
    "\n",
    "import time\n",
    "for i in range(10):\n",
    "    print(i)\n",
    "    time.sleep(1) # 1초 간격으로 루프 실행"
   ]
  },
  {
   "cell_type": "code",
   "execution_count": 25,
   "metadata": {},
   "outputs": [
    {
     "name": "stdout",
     "output_type": "stream",
     "text": [
      "      May 2020\n",
      "Mo Tu We Th Fr Sa Su\n",
      "             1  2  3\n",
      " 4  5  6  7  8  9 10\n",
      "11 12 13 14 15 16 17\n",
      "18 19 20 21 22 23 24\n",
      "25 26 27 28 29 30 31\n",
      "None\n",
      "5\n",
      "(4, 31)\n"
     ]
    }
   ],
   "source": [
    "# calendar - 달력을 볼 수 있게 해주는 모듈\n",
    "import calendar\n",
    "# calendar.calendar(연도) or calendar.prcal(연도)\n",
    "# 그 해의 전체 달력을 반환\n",
    "\n",
    "print(calendar.prmonth(2020,5)) # 20년 5월의 달력을 반환\n",
    "\n",
    "print(calendar.weekday(2020,5,16)) # 요일 정보를 반환 (월,화,수,목,금,토,일) == (0,1,2,3,4,5,6)\n",
    "\n",
    "print(calendar.monthrange(2020,5)) # (1일이 무슨 요일, 며칠까지 있는지)"
   ]
  },
  {
   "cell_type": "code",
   "execution_count": 28,
   "metadata": {},
   "outputs": [
    {
     "name": "stdout",
     "output_type": "stream",
     "text": [
      "0.3037304168966546\n",
      "9\n",
      "4\n",
      "[2, 4, 3, 1, 5]\n"
     ]
    }
   ],
   "source": [
    "# random - 난수를 발생시키는 모듈\n",
    "import random\n",
    "\n",
    "print(random.random()) # 0.0 ~ 1.0 사이의 실수 중 난수\n",
    "\n",
    "print(random.randint(1,10)) # 1 ~ 10 사이의 정수 중 난수\n",
    "\n",
    "print(random.choice([1,2,3,4,5])) \n",
    "# 무작위로 하나를 선택하여 반환\n",
    "\n",
    "a = [1,2,3,4,5]\n",
    "random.shuffle(a)\n",
    "print(a)\n",
    "# 무작위로 섞어서 반환"
   ]
  },
  {
   "cell_type": "code",
   "execution_count": 29,
   "metadata": {},
   "outputs": [
    {
     "data": {
      "text/plain": [
       "True"
      ]
     },
     "execution_count": 29,
     "metadata": {},
     "output_type": "execute_result"
    }
   ],
   "source": [
    "# webbrowser - 기본 웹 브라우저를 자동으로 실행하는 모듈\n",
    "import webbrowser\n",
    "\n",
    "webbrowser.open(\"http://168regt.army.mil\")\n",
    "\n",
    "# open_new -> 새로운 창 "
   ]
  },
  {
   "cell_type": "code",
   "execution_count": 30,
   "metadata": {},
   "outputs": [],
   "source": [
    "# threading - 스레드를 다루는 모듈"
   ]
  }
 ],
 "metadata": {
  "kernelspec": {
   "display_name": "Python 3",
   "language": "python",
   "name": "python3"
  },
  "language_info": {
   "codemirror_mode": {
    "name": "ipython",
    "version": 3
   },
   "file_extension": ".py",
   "mimetype": "text/x-python",
   "name": "python",
   "nbconvert_exporter": "python",
   "pygments_lexer": "ipython3",
   "version": "3.7.4"
  }
 },
 "nbformat": 4,
 "nbformat_minor": 2
}
