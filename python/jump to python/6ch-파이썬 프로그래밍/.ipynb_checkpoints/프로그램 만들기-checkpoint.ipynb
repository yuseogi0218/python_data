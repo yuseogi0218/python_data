{
 "cells": [
  {
   "cell_type": "code",
   "execution_count": 1,
   "metadata": {},
   "outputs": [
    {
     "name": "stdout",
     "output_type": "stream",
     "text": [
      "[2, 4, 6, 8, 10, 12, 14, 16, 18]\n"
     ]
    }
   ],
   "source": [
    "# 가장먼저 입력과 출력을 생각한다.\n",
    "\n",
    "'''\n",
    "6-1\n",
    "함수 이름 : gugu\n",
    "입력값 : n\n",
    "출력 값 : n 단( [n*1, n*2, ..., n*9])\n",
    "결과는 어떤 형태로 저장 : 리스트'''\n",
    "\n",
    "def gugu(n):\n",
    "    i = 1\n",
    "    result =[]\n",
    "    while i<10:\n",
    "        result.append(i*n)\n",
    "        i += 1\n",
    "    return result\n",
    "\n",
    "print(gugu(2))"
   ]
  },
  {
   "cell_type": "code",
   "execution_count": 3,
   "metadata": {},
   "outputs": [
    {
     "name": "stdout",
     "output_type": "stream",
     "text": [
      "233168\n"
     ]
    }
   ],
   "source": [
    "'''\n",
    "6-2\n",
    "1000 미만의 자연수에서 3의 배수와 5의 배수의 총합을 구하라.\n",
    "\n",
    "입력값 : 1 ~ 999 까지의 자연수\n",
    "출력값 : 3의 배수와 5의 배수의 총합\n",
    "생각해 볼것 : 1) 3의 배수와 5의 배수 찾는법\n",
    "            2) 3의 배수와 5의 배수가 겹칠때'''\n",
    "\n",
    "result = 0\n",
    "for i in range(1,1000):\n",
    "    if i % 3 == 0 or i % 5 == 0:\n",
    "        result += i\n",
    "print(result)"
   ]
  },
  {
   "cell_type": "code",
   "execution_count": 6,
   "metadata": {},
   "outputs": [
    {
     "name": "stdout",
     "output_type": "stream",
     "text": [
      "3\n",
      "3\n"
     ]
    }
   ],
   "source": [
    "'''\n",
    "6-3 게시판 페이징 하기\n",
    "함수이름 : getTotalPage\n",
    "입력값 : 게시물의 총 건수(m) 와 한 페이지에 보여 줄 게시물 수(n)\n",
    "출력값 : 총 페이지 수\n",
    "'''\n",
    "# 총 페이지수 = (게시물의 총 건수(m) % 한 페이지에 보여 줄 게시물 수(n)) + 1\n",
    "\n",
    "def getTotalPage(m,n):\n",
    "    if m%n == 0:\n",
    "        return m//n\n",
    "    else:\n",
    "        return (m//n) + 1\n",
    "\n",
    "print(getTotalPage(25,10))\n",
    "print(getTotalPage(30,10))"
   ]
  },
  {
   "cell_type": "code",
   "execution_count": 8,
   "metadata": {},
   "outputs": [],
   "source": [
    "'''\n",
    "6-4 간단한 메모장 만들기\n",
    "필요한 기능 : 메모추가하기\"-a\", 메모 조회하기\"-v\"\n",
    "입력값 : 메모내용, 프로그램 실행 옵션\n",
    "출력값 : memo.txt'''\n",
    "\n",
    "# memo.py\n",
    "import sys\n",
    "\n",
    "option = sys.argv[1]\n",
    "\n",
    "if option == \"-a\": # 메모 추가하기\n",
    "    memo = sys.argv[2]\n",
    "    f = open(\"memo.txt\",\"a\")\n",
    "    f.write(memo)\n",
    "    f.write(\"/n\")\n",
    "    f.close()\n",
    "if option == \"-v\": # 메모 조회하기\n",
    "    f = open(\"memo.txt\",\"r\")\n",
    "    memo = f.read()\n",
    "    f.close()\n",
    "    print(memo)\n"
   ]
  },
  {
   "cell_type": "code",
   "execution_count": 10,
   "metadata": {
    "scrolled": true
   },
   "outputs": [
    {
     "name": "stdout",
     "output_type": "stream",
     "text": [
      "a\n"
     ]
    },
    {
     "ename": "FileNotFoundError",
     "evalue": "[Errno 2] No such file or directory: '-f'",
     "output_type": "error",
     "traceback": [
      "\u001b[1;31m---------------------------------------------------------------------------\u001b[0m",
      "\u001b[1;31mFileNotFoundError\u001b[0m                         Traceback (most recent call last)",
      "\u001b[1;32m<ipython-input-10-7f871d98d4c1>\u001b[0m in \u001b[0;36m<module>\u001b[1;34m\u001b[0m\n\u001b[0;32m     11\u001b[0m \u001b[0mdst\u001b[0m \u001b[1;33m=\u001b[0m \u001b[0msys\u001b[0m\u001b[1;33m.\u001b[0m\u001b[0margv\u001b[0m\u001b[1;33m[\u001b[0m\u001b[1;36m2\u001b[0m\u001b[1;33m]\u001b[0m \u001b[1;31m# b.txt\u001b[0m\u001b[1;33m\u001b[0m\u001b[1;33m\u001b[0m\u001b[0m\n\u001b[0;32m     12\u001b[0m \u001b[1;33m\u001b[0m\u001b[0m\n\u001b[1;32m---> 13\u001b[1;33m \u001b[0mf\u001b[0m \u001b[1;33m=\u001b[0m \u001b[0mopen\u001b[0m\u001b[1;33m(\u001b[0m\u001b[0msrc\u001b[0m\u001b[1;33m)\u001b[0m\u001b[1;33m\u001b[0m\u001b[1;33m\u001b[0m\u001b[0m\n\u001b[0m\u001b[0;32m     14\u001b[0m \u001b[0msource\u001b[0m \u001b[1;33m=\u001b[0m \u001b[0mf\u001b[0m\u001b[1;33m.\u001b[0m\u001b[0mread\u001b[0m\u001b[1;33m(\u001b[0m\u001b[1;33m)\u001b[0m\u001b[1;33m\u001b[0m\u001b[1;33m\u001b[0m\u001b[0m\n\u001b[0;32m     15\u001b[0m \u001b[0mf\u001b[0m\u001b[1;33m.\u001b[0m\u001b[0mclose\u001b[0m\u001b[1;33m(\u001b[0m\u001b[1;33m)\u001b[0m\u001b[1;33m\u001b[0m\u001b[1;33m\u001b[0m\u001b[0m\n",
      "\u001b[1;31mFileNotFoundError\u001b[0m: [Errno 2] No such file or directory: '-f'"
     ]
    }
   ],
   "source": [
    "'''\n",
    "6-5 탭을 4개의 공백으로 바꾸기\n",
    "필요한 기능 : 문서 파일 읽어 들이기, 문자열 변경하기\n",
    "입력값 : 탭을 포함한 문서 파일 (a.txt)\n",
    "출력값 : 탭이 공백으로 수정된 문서 파일 (b.txt)'''\n",
    "\n",
    "# tabto4.py\n",
    "import sys\n",
    "\n",
    "src = sys.argv[1] # a.txt\n",
    "dst = sys.argv[2] # b.txt\n",
    "\n",
    "f = open(src)\n",
    "source = f.read()\n",
    "f.close()\n",
    "\n",
    "result = source.replace(\"/t\",\" \"*4)\n",
    "f = open(dst,\"w\")\n",
    "f.write(result)\n",
    "f.close()"
   ]
  },
  {
   "cell_type": "code",
   "execution_count": null,
   "metadata": {},
   "outputs": [],
   "source": [
    "'''\n",
    "6-6 하위 디렉터리 검색하기\n",
    "함수이름 : search()\n",
    "입력값 : 특정 디렉터리 = dirname\n",
    "출력값 : 특정 디렉터리부터 하위 디렉터리의 모든 파이썬 파일'''\n",
    "\n",
    "def search(dirname):\n",
    "    "
   ]
  }
 ],
 "metadata": {
  "kernelspec": {
   "display_name": "Python 3",
   "language": "python",
   "name": "python3"
  },
  "language_info": {
   "codemirror_mode": {
    "name": "ipython",
    "version": 3
   },
   "file_extension": ".py",
   "mimetype": "text/x-python",
   "name": "python",
   "nbconvert_exporter": "python",
   "pygments_lexer": "ipython3",
   "version": "3.7.4"
  }
 },
 "nbformat": 4,
 "nbformat_minor": 2
}
