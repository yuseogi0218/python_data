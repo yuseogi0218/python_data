{
 "cells": [
  {
   "cell_type": "code",
   "execution_count": 7,
   "metadata": {},
   "outputs": [
    {
     "name": "stdout",
     "output_type": "stream",
     "text": [
      "\n",
      "park 800905-*******\n",
      "kim 700905-*******\n",
      "\n",
      "\n",
      "park 8800905-*******\n",
      "kim 700905-*******\n",
      "\n"
     ]
    }
   ],
   "source": [
    "#  정규 표현식(Regular Expressions, 정규식) = 복잡한 문자열을 처리할 때\n",
    "# 파이썬만의 고유 문법이 아니다.\n",
    "# 훨씬 간결해 진다.\n",
    "\n",
    "# 일반 표현식\n",
    "data = \"\"\"\n",
    "park 800905-1049118\n",
    "kim 700905-1059119\n",
    "\"\"\"\n",
    "\n",
    "result = [] # 전체 결과값\n",
    "for line in data.split(\"\\n\"): # 줄 나누기\n",
    "    word_result = [] # 각 줄의 결과값\n",
    "    for word in line.split(\" \"): # 줄에서 띄어쓰기 로 나누기\n",
    "        if len(word) == 14 and word[:6].isdigit() and word[7:].isdigit():\n",
    "            word = word[:6]+\"-\" + \"*******\"\n",
    "        word_result.append(word) #word_result 리스트에 이름과 다시만든 주민번호 넣기\n",
    "    result.append(\" \".join(word_result))  # rsult 리스트에 넣기\n",
    "print(\"\\n\".join(result))\n",
    "        \n",
    "# 정규 표현식\n",
    "import re # 정규 표현식을 사용하기 위한 모듈\n",
    "\n",
    "data = \"\"\"\n",
    "park 8800905-1049118\n",
    "kim 700905-1059119\n",
    "\"\"\"\n",
    "\n",
    "pat = re.compile(\"(\\d{6})[-]\\d{7}\")\n",
    "print(pat.sub(\"\\g<1>-*******\",data))"
   ]
  }
 ],
 "metadata": {
  "kernelspec": {
   "display_name": "Python 3",
   "language": "python",
   "name": "python3"
  },
  "language_info": {
   "codemirror_mode": {
    "name": "ipython",
    "version": 3
   },
   "file_extension": ".py",
   "mimetype": "text/x-python",
   "name": "python",
   "nbconvert_exporter": "python",
   "pygments_lexer": "ipython3",
   "version": "3.7.4"
  }
 },
 "nbformat": 4,
 "nbformat_minor": 2
}
