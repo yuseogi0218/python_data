{
 "cells": [
  {
   "cell_type": "code",
   "execution_count": 1,
   "metadata": {},
   "outputs": [],
   "source": [
    "# 1) 메타문자(meta characters)\n",
    "# 원래 그 문자가 가진 뜻이 아닌, 특별한 용도로 사용하는 문자\n",
    "# . ^ $ * + ? {} [] \\ | ()"
   ]
  },
  {
   "cell_type": "code",
   "execution_count": 2,
   "metadata": {},
   "outputs": [
    {
     "data": {
      "text/plain": [
       "'\\n\\\\d == [0-9] == 숫자와 매치\\n\\\\D == [^0-9] == 숫자가 아닌것과 매치\\n\\\\s == [\\t\\n\\r\\x0c\\x0b] == white space(공백을 표시하는 문자)와 매치\\n\\\\S == [^\\t\\n\\r\\x0c\\x0b] == white space 문자가 아닌것과 매치\\n\\\\w == [a-zA-Z0-9] == 문자+숫자와 매치\\n\\\\W == [^a-zA-Z0-9] == 문자+숫자가 아닌문자와 매치\\n\\n* 소문자와 대문자는 반대이다.\\n'"
      ]
     },
     "execution_count": 2,
     "metadata": {},
     "output_type": "execute_result"
    }
   ],
   "source": [
    "# [] (문자 클래스)\n",
    "# [] 사이의 문자들중 한개의 문자와 매치\n",
    "# [a - e] = a 부터 e 까지 문자들중 한개의 문자와 매치 => [a-zA-Z] : 알파멧 모두\n",
    "# ^ 반대라는 의미 => [^0-9] : 숫자가 아닌 문자와 매치 \n",
    "# [.] == \".\" 문자와 매치\n",
    "'''\n",
    "\\d == [0-9] == 숫자와 매치\n",
    "\\D == [^0-9] == 숫자가 아닌것과 매치\n",
    "\\s == [\\t\\n\\r\\f\\v] == white space(공백을 표시하는 문자)와 매치\n",
    "\\S == [^\\t\\n\\r\\f\\v] == white space 문자가 아닌것과 매치\n",
    "\\w == [a-zA-Z0-9] == 문자+숫자와 매치\n",
    "\\W == [^a-zA-Z0-9] == 문자+숫자가 아닌문자와 매치\n",
    "\n",
    "* 소문자와 대문자는 반대이다.\n",
    "'''"
   ]
  },
  {
   "cell_type": "code",
   "execution_count": 4,
   "metadata": {},
   "outputs": [],
   "source": [
    "# . (Dot)\n",
    "# 줄바꿈 문자(\\n) 을 제외한 모든 문자와 매치\n",
    "# re.DOTALL 옵션을 주면 \\n문자와도 매치 된다.\n",
    "\n",
    "# a.b == \"a + 모든문자(\\n을 제외한) + b\" 와 매치된다.\n",
    "\n",
    "# a[.]b == \"a.b\" 문자와 매치된다."
   ]
  },
  {
   "cell_type": "code",
   "execution_count": 5,
   "metadata": {},
   "outputs": [],
   "source": [
    "# * (반복)\n",
    "# \"*\" 바로 앞에있는 문자가 0번 이상 반복되면 매치\n",
    "# ca*t == ct == caaaaaat"
   ]
  },
  {
   "cell_type": "code",
   "execution_count": 6,
   "metadata": {},
   "outputs": [],
   "source": [
    "# + (반복)\n",
    "# \"+\" 바로 앞에있는 문자가 최소 1번 이상 반복되면 매치\n",
    "# ca+t == cat == caaaaaat"
   ]
  },
  {
   "cell_type": "code",
   "execution_count": 7,
   "metadata": {},
   "outputs": [],
   "source": [
    "# {m,n} (반복 횟수 제한)\n",
    "# {m,n} 바로 앞에있는 문자가 m번이상 , n번 이하 반복되면 매치\n",
    "# m 과 n은 생략 가능\n",
    "\n",
    "# ? (0~1 번 반복)\n",
    "# \"?\" 바로 앞에있는 문자가 0번 또는 1번 반복되면 매치\n",
    "# ca?t == ct == cat"
   ]
  },
  {
   "cell_type": "code",
   "execution_count": 9,
   "metadata": {},
   "outputs": [],
   "source": [
    "# re (regular expression) 모듈 ( 정규 표현식을 지원)\n",
    "import re\n",
    "\n",
    "# 패턴 객체 만들기\n",
    "p = re.compile(\"ab*\") # p == 패턴 (정규식을 컴파일한 결과)"
   ]
  },
  {
   "cell_type": "code",
   "execution_count": 12,
   "metadata": {},
   "outputs": [
    {
     "name": "stdout",
     "output_type": "stream",
     "text": [
      "<re.Match object; span=(0, 6), match='python'>\n",
      "None\n",
      "<re.Match object; span=(0, 6), match='python'>\n",
      "<re.Match object; span=(2, 8), match='python'>\n"
     ]
    }
   ],
   "source": [
    "# 패턴객체의 메서드\n",
    "import re\n",
    "p = re.compile(\"[a-z]+\") # 문자열 1번 이상 반복\n",
    "# 정규식을 사용한 문자열 검색\n",
    "\n",
    "# 정규식과 매치되는지 조사\n",
    "# 정규식과 매치되면 match 객체 반환(정규식의 검색 결과로 돌려주는 객체)\n",
    "\n",
    "# 1) match() <= 처음부터\n",
    "m = p.match(\"python\") # 정규식에 부합되므로 match 객체 반환\n",
    "print(m) \n",
    "\n",
    "n = p.match(\"3 python\") # 정규식에 부합되지 않으므로 None 반환\n",
    "print(n)\n",
    "\n",
    "# 2) search <= 전체\n",
    "m = p.search(\"python\") # 정규식에 부합되므로 match 객체 반환\n",
    "print(m)\n",
    "\n",
    "n = p.search(\"3 python\") # 전체를 검색 -> 3 이후의 python 과 매치된다.\n",
    "print(n)"
   ]
  },
  {
   "cell_type": "code",
   "execution_count": 13,
   "metadata": {
    "scrolled": true
   },
   "outputs": [
    {
     "name": "stdout",
     "output_type": "stream",
     "text": [
      "['life', 'is', 'too', 'short']\n",
      "<callable_iterator object at 0x0000020E16D45048>\n",
      "<re.Match object; span=(0, 4), match='life'>\n",
      "<re.Match object; span=(5, 7), match='is'>\n",
      "<re.Match object; span=(8, 11), match='too'>\n",
      "<re.Match object; span=(12, 17), match='short'>\n"
     ]
    }
   ],
   "source": [
    "import re\n",
    "p = re.compile(\"[a-z]+\") # 문자열 1번 이상 반복\n",
    "\n",
    "# 매치되는 문자열을 반환\n",
    "\n",
    "# 1) findall() <= 매치되는 모든 문자열을 리스트로 반환\n",
    "result = p.findall(\"life is too short\") \n",
    "print(result)\n",
    "\n",
    "# 2) finditer() <= 매치되는 문자열을 반복가능한 객체로 반환\n",
    "result = p.finditer(\"life is too short\") # <= result 는 반복가능한 객체\n",
    "print(result)\n",
    "\n",
    "for r in result:\n",
    "    print(r)"
   ]
  },
  {
   "cell_type": "code",
   "execution_count": 15,
   "metadata": {},
   "outputs": [],
   "source": [
    "# 모듈 단위로 수행하기 = 축약하기\n",
    "\n",
    "import re\n",
    "'''\n",
    "p = re.compile(\"[a-z]+\")\n",
    "m = p.match(\"python\")'''\n",
    "\n",
    "m = re.match(\"[a-z]+\", \"python\")\n",
    "\n",
    "# match 객체 = re.패턴 객체의 매서드(메타 문자, 대상)"
   ]
  },
  {
   "cell_type": "code",
   "execution_count": 16,
   "metadata": {
    "scrolled": false
   },
   "outputs": [
    {
     "name": "stdout",
     "output_type": "stream",
     "text": [
      "python\n",
      "0\n",
      "6\n",
      "(0, 6)\n"
     ]
    }
   ],
   "source": [
    "# match 객체의 메서드\n",
    "# match 객체 = 정규식의 검색 결과로 돌려주는 객체\n",
    "\n",
    "import re\n",
    "p = re.compile(\"[a-z]+\")\n",
    "m = p.match(\"python\") # m = match객체\n",
    "\n",
    "# 1) group() = 매치된 문자열 반환\n",
    "print(m.group())\n",
    "\n",
    "# 2) start() = 매치된 문자열의 시작위치 반환\n",
    "print(m.start())\n",
    "\n",
    "# 3) end() = 매치된 문자열의 끝 위치 반환\n",
    "print(m.end())\n",
    "\n",
    "# 4) span() = 매치된 문자열의 (시작, 끝)을 튜플 형태로 반환\n",
    "print(m.span())"
   ]
  },
  {
   "cell_type": "code",
   "execution_count": 21,
   "metadata": {},
   "outputs": [
    {
     "name": "stdout",
     "output_type": "stream",
     "text": [
      "<re.Match object; span=(0, 3), match='a\\nb'>\n",
      "<re.Match object; span=(0, 6), match='PYTHON'>\n",
      "['python one', 'python two', 'python three']\n"
     ]
    }
   ],
   "source": [
    "# 컴파일 옵션\n",
    "import re\n",
    "# p = re.compile(메타 문자, re.컴파일 옵션 )\n",
    "\n",
    "# 1) DOTALL == S == dot(.)문자가 줄바꿈 문자를 포함한 모든 문자와 매치\n",
    "p = re.compile(\"a.b\", re.S) # S 옵션 사용\n",
    "m = p.match(\"a\\nb\") # 줄바꾼(\\n)와 매치\n",
    "print(m)\n",
    "\n",
    "# 2) IGNORANCE == I == 대.소문자에 관계없이 매치\n",
    "p = re.compile(\"[a-z]+\", re.I) # I 옵션 사용\n",
    "m = p.match(\"PYTHON\") # 대문자와 매치\n",
    "print(m)\n",
    "\n",
    "# 3) MULTILINE == M == 여러줄과 매치 (^, $ 메터 문자와 관련)\n",
    "\n",
    "# \"^python\" = 문자열의 처음은 항상 python 으로 시작\n",
    "# \"python$\" = 문자열의 끝은 항상 python 으로 끝\n",
    "\n",
    "p = re.compile(\"^python\\s\\w+\", re.M) # 문자열의 처음은 python, 그 뒤에 (\\s) whitespace, 그 뒤에 (\\w) 단어, 옵션 = 여러줄\n",
    "\n",
    "data = \"\"\"python one\n",
    "life is too short\n",
    "python two\n",
    "you need python\n",
    "python three\"\"\"\n",
    "\n",
    "print(p.findall(data))\n",
    "\n",
    "# 4) VERBOSE == X == verbose모드 (정규식을 보기 편하게 만들고, 주석 사용가능)를 사용\n",
    "\n",
    "# whitespace는 제거 (단, []안의 whitespace는 제외)\n",
    "# # 기호로 주석문을 사용가능\n",
    "\n",
    "# charref = re.compile(r'&[#](0[0-7]+|[0-9]+|x[0-9a-fA-F]+);')\n",
    "\n",
    "charref = re.compile(r\"\"\"\n",
    "&[#]                        # start of a numeric entity reference\n",
    "(\n",
    "    0[0-7]+                # octal form\n",
    "| [0-9]+                    # Decimal form\n",
    "| x[0-9a-fA-F]            #Hexadecimal form\n",
    ")\n",
    ";\n",
    "\"\"\",re.X)"
   ]
  },
  {
   "cell_type": "code",
   "execution_count": 22,
   "metadata": {},
   "outputs": [],
   "source": [
    "# 백슬래시 문제\n",
    "# \"\\section\"\n",
    "\n",
    "# (\"\\\\\\\\section\")\n",
    "\n",
    "# Raw String 규칙\n",
    "# (r\"\\\\section\") => r\"문자 클래스\" -> 문자 클래스가 아닌 문자열(raw string)로 인식"
   ]
  }
 ],
 "metadata": {
  "kernelspec": {
   "display_name": "Python 3",
   "language": "python",
   "name": "python3"
  },
  "language_info": {
   "codemirror_mode": {
    "name": "ipython",
    "version": 3
   },
   "file_extension": ".py",
   "mimetype": "text/x-python",
   "name": "python",
   "nbconvert_exporter": "python",
   "pygments_lexer": "ipython3",
   "version": "3.7.4"
  }
 },
 "nbformat": 4,
 "nbformat_minor": 2
}
